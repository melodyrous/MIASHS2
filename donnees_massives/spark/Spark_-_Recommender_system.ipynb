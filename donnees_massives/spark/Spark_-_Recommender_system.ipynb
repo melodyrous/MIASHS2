{
  "nbformat": 4,
  "nbformat_minor": 0,
  "metadata": {
    "kernelspec": {
      "display_name": "Python 3",
      "language": "python",
      "name": "python3"
    },
    "language_info": {
      "codemirror_mode": {
        "name": "ipython",
        "version": 3
      },
      "file_extension": ".py",
      "mimetype": "text/x-python",
      "name": "python",
      "nbconvert_exporter": "python",
      "pygments_lexer": "ipython3",
      "version": "3.9.2"
    },
    "colab": {
      "name": "Spark_-_Recommender_system.ipynb",
      "provenance": []
    }
  },
  "cells": [
    {
      "cell_type": "markdown",
      "metadata": {
        "id": "OR_5YCj49dnX"
      },
      "source": [
        "# Importing Spark"
      ]
    },
    {
      "cell_type": "code",
      "metadata": {
        "id": "R5A0txxN9dnd",
        "colab": {
          "base_uri": "https://localhost:8080/"
        },
        "outputId": "32565fa4-4af8-4d94-f84f-b27e46679ce0"
      },
      "source": [
        "!pip install pyspark\n",
        "import pyspark\n",
        "from pyspark.sql import SparkSession\n",
        "\n",
        "spark = SparkSession.builder.appName(\"Python Spark\").getOrCreate()\n",
        "sc = spark.sparkContext"
      ],
      "execution_count": null,
      "outputs": [
        {
          "output_type": "stream",
          "name": "stdout",
          "text": [
            "Collecting pyspark\n",
            "  Downloading pyspark-3.1.2.tar.gz (212.4 MB)\n",
            "\u001b[K     |████████████████████████████████| 212.4 MB 68 kB/s \n",
            "\u001b[?25hCollecting py4j==0.10.9\n",
            "  Downloading py4j-0.10.9-py2.py3-none-any.whl (198 kB)\n",
            "\u001b[K     |████████████████████████████████| 198 kB 46.8 MB/s \n",
            "\u001b[?25hBuilding wheels for collected packages: pyspark\n",
            "  Building wheel for pyspark (setup.py) ... \u001b[?25l\u001b[?25hdone\n",
            "  Created wheel for pyspark: filename=pyspark-3.1.2-py2.py3-none-any.whl size=212880768 sha256=4eb99becd3a6b03ab86d4b39d368ca975de5385a980d244d1e5c888f19435efa\n",
            "  Stored in directory: /root/.cache/pip/wheels/a5/0a/c1/9561f6fecb759579a7d863dcd846daaa95f598744e71b02c77\n",
            "Successfully built pyspark\n",
            "Installing collected packages: py4j, pyspark\n",
            "Successfully installed py4j-0.10.9 pyspark-3.1.2\n"
          ]
        }
      ]
    },
    {
      "cell_type": "markdown",
      "metadata": {
        "id": "jE1w78Ij9dng"
      },
      "source": [
        "# Loading the data"
      ]
    },
    {
      "cell_type": "code",
      "metadata": {
        "id": "3NTh0tqm9dnh"
      },
      "source": [
        "df_ratings = spark.read\\\n",
        "    .option(\"delimiter\", \"\\t\")\\\n",
        "    .option(\"header\", \"true\")\\\n",
        "    .option(\"inferSchema\", \"true\")\\\n",
        "    .csv('u.data')"
      ],
      "execution_count": null,
      "outputs": []
    },
    {
      "cell_type": "code",
      "metadata": {
        "id": "1Odf__vI-cNa",
        "colab": {
          "base_uri": "https://localhost:8080/"
        },
        "outputId": "a6180acb-c9e4-442b-a131-c1e1e158cdcb"
      },
      "source": [
        "df_ratings.printSchema()"
      ],
      "execution_count": null,
      "outputs": [
        {
          "output_type": "stream",
          "name": "stdout",
          "text": [
            "root\n",
            " |-- user_id: integer (nullable = true)\n",
            " |-- item_id: integer (nullable = true)\n",
            " |-- rating: integer (nullable = true)\n",
            " |-- timestamp: integer (nullable = true)\n",
            "\n"
          ]
        }
      ]
    },
    {
      "cell_type": "markdown",
      "metadata": {
        "id": "Na7QKvO39dni"
      },
      "source": [
        "# Exercice 1 - constructing the recommender system"
      ]
    },
    {
      "cell_type": "markdown",
      "metadata": {
        "id": "EQDc21CY9dnj"
      },
      "source": [
        "- split train/test\n",
        "- fit\n",
        "- predict/evaluate"
      ]
    },
    {
      "cell_type": "code",
      "metadata": {
        "id": "VtYHLkJF9dnk"
      },
      "source": [
        "from pyspark.ml.recommendation import ALS\n",
        "\n",
        "train, test = df_ratings.randomSplit([0.8,0.2])\n",
        "\n",
        "als = ALS(rank=10, seed=0, userCol=\"user_id\", itemCol=\"item_id\", ratingCol=\"rating\", coldStartStrategy=\"drop\")\n",
        "model = als.fit(train)\n",
        "\n",
        "model.setPredictionCol(\"newPrediction\")\n",
        "prediction = model.transform(test)"
      ],
      "execution_count": null,
      "outputs": []
    },
    {
      "cell_type": "code",
      "metadata": {
        "id": "AnmBYI1ioHJd",
        "colab": {
          "base_uri": "https://localhost:8080/"
        },
        "outputId": "2f7e4895-182a-4205-8506-1520620a401a"
      },
      "source": [
        "prediction.show(5)"
      ],
      "execution_count": null,
      "outputs": [
        {
          "output_type": "stream",
          "name": "stdout",
          "text": [
            "+-------+-------+------+---------+-------------+\n",
            "|user_id|item_id|rating|timestamp|newPrediction|\n",
            "+-------+-------+------+---------+-------------+\n",
            "|     26|    148|     3|891377540|     2.591428|\n",
            "|    601|    148|     3|876348140|    1.7689452|\n",
            "|    190|    148|     4|891033742|    3.1869822|\n",
            "|    224|    148|     3|888104154|    3.2157774|\n",
            "|    435|    148|     3|884133284|     3.086592|\n",
            "+-------+-------+------+---------+-------------+\n",
            "only showing top 5 rows\n",
            "\n"
          ]
        }
      ]
    },
    {
      "cell_type": "code",
      "metadata": {
        "id": "Jv8dhy2ioi6a",
        "colab": {
          "base_uri": "https://localhost:8080/"
        },
        "outputId": "5a497366-52ed-4c8b-b39f-ab28b3ab1342"
      },
      "source": [
        "from pyspark.ml.evaluation import RegressionEvaluator\n",
        "\n",
        "evaluator = RegressionEvaluator(predictionCol=\"newPrediction\", labelCol=\"rating\", metricName=\"rmse\")\n",
        "rmse = evaluator.evaluate(prediction)\n",
        "rmse"
      ],
      "execution_count": null,
      "outputs": [
        {
          "output_type": "execute_result",
          "data": {
            "text/plain": [
              "0.9168445404827733"
            ]
          },
          "metadata": {},
          "execution_count": 16
        }
      ]
    },
    {
      "cell_type": "code",
      "metadata": {
        "id": "uL2l3V16qYO-"
      },
      "source": [
        ""
      ],
      "execution_count": null,
      "outputs": []
    },
    {
      "cell_type": "markdown",
      "metadata": {
        "id": "h2sHn9NK9dnl"
      },
      "source": [
        "- To show that you understand well how ALS works, retrieve a user and a movie vector and make a prediciton using numpy."
      ]
    },
    {
      "cell_type": "code",
      "metadata": {
        "id": "6qGikFk9qY7v",
        "colab": {
          "base_uri": "https://localhost:8080/"
        },
        "outputId": "a99445a9-262f-4486-dfdc-e63141a05aa8"
      },
      "source": [
        "import numpy as np\n",
        "\n",
        "model.itemFactors.show(5)\n",
        "user26_f = model.userFactors.filter(model.userFactors.id==26).select(\"features\").collect()[0].features\n",
        "item148_f = model.itemFactors.filter(model.itemFactors.id==148).select(\"features\").collect()[0].features\n",
        "\n",
        "np.dot(user26_f, item148_f)"
      ],
      "execution_count": null,
      "outputs": [
        {
          "output_type": "stream",
          "name": "stdout",
          "text": [
            "+---+--------------------+\n",
            "| id|            features|\n",
            "+---+--------------------+\n",
            "| 10|[0.90370226, -0.6...|\n",
            "| 20|[1.4221983, -0.32...|\n",
            "| 30|[0.8560657, -0.34...|\n",
            "| 40|[0.78859633, -0.0...|\n",
            "| 50|[0.66837937, 0.23...|\n",
            "+---+--------------------+\n",
            "only showing top 5 rows\n",
            "\n"
          ]
        },
        {
          "output_type": "execute_result",
          "data": {
            "text/plain": [
              "2.591428205926537"
            ]
          },
          "metadata": {},
          "execution_count": 34
        }
      ]
    },
    {
      "cell_type": "code",
      "metadata": {
        "id": "ktO2lnWe3WlL",
        "outputId": "dad31d70-9e4a-4655-f2ec-1c9cc83b1d35",
        "colab": {
          "base_uri": "https://localhost:8080/",
          "height": 388
        }
      },
      "source": [
        "# Create a schema\n",
        "\n",
        "\n",
        "from pyspark.sql.types import ArrayType, StructField,\\\n",
        "StructType, StringType, IntegerType, DecimalType\n",
        "\n",
        "data = [(10, 10)]\n",
        "schema = StructType([\n",
        "    StructField('user_id', IntegerType(), True),\n",
        "    StructField('item_id', IntegerType(), True)\n",
        "])\n",
        "\n",
        "df = spark.createDataFrame(spark.sparkContext.parallelize(data),schema)\n",
        "model.transform(df).show()"
      ],
      "execution_count": 1,
      "outputs": [
        {
          "output_type": "error",
          "ename": "ModuleNotFoundError",
          "evalue": "ignored",
          "traceback": [
            "\u001b[0;31m---------------------------------------------------------------------------\u001b[0m",
            "\u001b[0;31mModuleNotFoundError\u001b[0m                       Traceback (most recent call last)",
            "\u001b[0;32m<ipython-input-1-fe119ac74b54>\u001b[0m in \u001b[0;36m<module>\u001b[0;34m()\u001b[0m\n\u001b[1;32m      2\u001b[0m \u001b[0;34m\u001b[0m\u001b[0m\n\u001b[1;32m      3\u001b[0m \u001b[0;34m\u001b[0m\u001b[0m\n\u001b[0;32m----> 4\u001b[0;31m \u001b[0;32mfrom\u001b[0m \u001b[0mpyspark\u001b[0m\u001b[0;34m.\u001b[0m\u001b[0msql\u001b[0m\u001b[0;34m.\u001b[0m\u001b[0mtypes\u001b[0m \u001b[0;32mimport\u001b[0m \u001b[0mArrayType\u001b[0m\u001b[0;34m,\u001b[0m \u001b[0mStructField\u001b[0m\u001b[0;34m,\u001b[0m\u001b[0mStructType\u001b[0m\u001b[0;34m,\u001b[0m \u001b[0mStringType\u001b[0m\u001b[0;34m,\u001b[0m \u001b[0mIntegerType\u001b[0m\u001b[0;34m,\u001b[0m \u001b[0mDecimalType\u001b[0m\u001b[0;34m\u001b[0m\u001b[0;34m\u001b[0m\u001b[0m\n\u001b[0m\u001b[1;32m      5\u001b[0m \u001b[0;34m\u001b[0m\u001b[0m\n\u001b[1;32m      6\u001b[0m \u001b[0mdata\u001b[0m \u001b[0;34m=\u001b[0m \u001b[0;34m[\u001b[0m\u001b[0;34m(\u001b[0m\u001b[0;36m10\u001b[0m\u001b[0;34m,\u001b[0m \u001b[0;36m10\u001b[0m\u001b[0;34m)\u001b[0m\u001b[0;34m]\u001b[0m\u001b[0;34m\u001b[0m\u001b[0;34m\u001b[0m\u001b[0m\n",
            "\u001b[0;31mModuleNotFoundError\u001b[0m: No module named 'pyspark'",
            "",
            "\u001b[0;31m---------------------------------------------------------------------------\u001b[0;32m\nNOTE: If your import is failing due to a missing package, you can\nmanually install dependencies using either !pip or !apt.\n\nTo view examples of installing some common dependencies, click the\n\"Open Examples\" button below.\n\u001b[0;31m---------------------------------------------------------------------------\u001b[0m\n"
          ],
          "errorDetails": {
            "actions": [
              {
                "action": "open_url",
                "actionText": "Open Examples",
                "url": "/notebooks/snippets/importing_libraries.ipynb"
              }
            ]
          }
        }
      ]
    }
  ]
}