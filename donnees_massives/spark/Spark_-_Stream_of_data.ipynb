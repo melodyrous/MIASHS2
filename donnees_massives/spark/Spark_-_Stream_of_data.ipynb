{
  "nbformat": 4,
  "nbformat_minor": 0,
  "metadata": {
    "kernelspec": {
      "display_name": "Python 3",
      "language": "python",
      "name": "python3"
    },
    "language_info": {
      "codemirror_mode": {
        "name": "ipython",
        "version": 3
      },
      "file_extension": ".py",
      "mimetype": "text/x-python",
      "name": "python",
      "nbconvert_exporter": "python",
      "pygments_lexer": "ipython3",
      "version": "3.9.2"
    },
    "colab": {
      "name": "Spark_-_Stream_of_data.ipynb",
      "provenance": []
    }
  },
  "cells": [
    {
      "cell_type": "markdown",
      "metadata": {
        "id": "6GYrhsf52_OH"
      },
      "source": [
        "# Importing spark"
      ]
    },
    {
      "cell_type": "code",
      "metadata": {
        "id": "TcvkEEHB2_OM",
        "outputId": "4f308119-e8ad-48cc-c05b-966da3ee99b9",
        "colab": {
          "base_uri": "https://localhost:8080/"
        }
      },
      "source": [
        "!pip install pyspark\n",
        "import pyspark\n",
        "from pyspark.sql import SparkSession\n",
        "\n",
        "spark = SparkSession.builder.appName(\"Python Spark\").getOrCreate()\n",
        "sc = spark.sparkContext"
      ],
      "execution_count": 1,
      "outputs": [
        {
          "output_type": "stream",
          "name": "stdout",
          "text": [
            "Collecting pyspark\n",
            "  Downloading pyspark-3.1.2.tar.gz (212.4 MB)\n",
            "\u001b[K     |████████████████████████████████| 212.4 MB 63 kB/s \n",
            "\u001b[?25hCollecting py4j==0.10.9\n",
            "  Downloading py4j-0.10.9-py2.py3-none-any.whl (198 kB)\n",
            "\u001b[K     |████████████████████████████████| 198 kB 55.1 MB/s \n",
            "\u001b[?25hBuilding wheels for collected packages: pyspark\n",
            "  Building wheel for pyspark (setup.py) ... \u001b[?25l\u001b[?25hdone\n",
            "  Created wheel for pyspark: filename=pyspark-3.1.2-py2.py3-none-any.whl size=212880768 sha256=c1987a512e913d0c3e5018e9423cf52303965f173df33c634b06447071cf7f05\n",
            "  Stored in directory: /root/.cache/pip/wheels/a5/0a/c1/9561f6fecb759579a7d863dcd846daaa95f598744e71b02c77\n",
            "Successfully built pyspark\n",
            "Installing collected packages: py4j, pyspark\n",
            "Successfully installed py4j-0.10.9 pyspark-3.1.2\n"
          ]
        }
      ]
    },
    {
      "cell_type": "markdown",
      "metadata": {
        "id": "D00L4wI82_OO"
      },
      "source": [
        "# Preparing the data"
      ]
    },
    {
      "cell_type": "code",
      "metadata": {
        "id": "b2E-rDNK2_OP"
      },
      "source": [
        "df_transactions = spark.read.option(\"header\", True)\\\n",
        "    .option(\"delimiter\", \"|\")\\\n",
        "    .option(\"delimiter\", \",\")\\\n",
        "    .option(\"inferSchema\", \"true\")\\\n",
        "    .csv('train.csv')\\\n",
        "    .withColumnRenamed('default_payment_next_month', 'label')"
      ],
      "execution_count": 2,
      "outputs": []
    },
    {
      "cell_type": "code",
      "metadata": {
        "id": "yWXhjOMT2_OQ",
        "outputId": "3654d130-b13b-416c-8e62-315d36f5fe7e",
        "colab": {
          "base_uri": "https://localhost:8080/"
        }
      },
      "source": [
        "df_transactions.printSchema()"
      ],
      "execution_count": 3,
      "outputs": [
        {
          "output_type": "stream",
          "name": "stdout",
          "text": [
            "root\n",
            " |-- ID: integer (nullable = true)\n",
            " |-- LIMIT_BAL: double (nullable = true)\n",
            " |-- SEX: integer (nullable = true)\n",
            " |-- EDUCATION: integer (nullable = true)\n",
            " |-- MARRIAGE: integer (nullable = true)\n",
            " |-- AGE: integer (nullable = true)\n",
            " |-- PAY_0: integer (nullable = true)\n",
            " |-- PAY_2: integer (nullable = true)\n",
            " |-- PAY_3: integer (nullable = true)\n",
            " |-- PAY_4: integer (nullable = true)\n",
            " |-- PAY_5: integer (nullable = true)\n",
            " |-- PAY_6: integer (nullable = true)\n",
            " |-- BILL_AMT1: double (nullable = true)\n",
            " |-- BILL_AMT2: double (nullable = true)\n",
            " |-- BILL_AMT3: double (nullable = true)\n",
            " |-- BILL_AMT4: double (nullable = true)\n",
            " |-- BILL_AMT5: double (nullable = true)\n",
            " |-- BILL_AMT6: double (nullable = true)\n",
            " |-- PAY_AMT1: double (nullable = true)\n",
            " |-- PAY_AMT2: double (nullable = true)\n",
            " |-- PAY_AMT3: double (nullable = true)\n",
            " |-- PAY_AMT4: double (nullable = true)\n",
            " |-- PAY_AMT5: double (nullable = true)\n",
            " |-- PAY_AMT6: double (nullable = true)\n",
            " |-- label: integer (nullable = true)\n",
            "\n"
          ]
        }
      ]
    },
    {
      "cell_type": "code",
      "metadata": {
        "id": "ZgAZnCz12_OR",
        "outputId": "e53a967b-eac1-4a80-b1fe-f5a021c50026",
        "colab": {
          "base_uri": "https://localhost:8080/"
        }
      },
      "source": [
        "train, test = df_transactions.randomSplit([0.8, 0.2])\n",
        "cols = train.columns[1:-2]\n",
        "cols"
      ],
      "execution_count": 25,
      "outputs": [
        {
          "output_type": "execute_result",
          "data": {
            "text/plain": [
              "['LIMIT_BAL',\n",
              " 'SEX',\n",
              " 'EDUCATION',\n",
              " 'MARRIAGE',\n",
              " 'AGE',\n",
              " 'PAY_0',\n",
              " 'PAY_2',\n",
              " 'PAY_3',\n",
              " 'PAY_4',\n",
              " 'PAY_5',\n",
              " 'PAY_6',\n",
              " 'BILL_AMT1',\n",
              " 'BILL_AMT2',\n",
              " 'BILL_AMT3',\n",
              " 'BILL_AMT4',\n",
              " 'BILL_AMT5',\n",
              " 'BILL_AMT6',\n",
              " 'PAY_AMT1',\n",
              " 'PAY_AMT2',\n",
              " 'PAY_AMT3',\n",
              " 'PAY_AMT4',\n",
              " 'PAY_AMT5']"
            ]
          },
          "metadata": {},
          "execution_count": 25
        }
      ]
    },
    {
      "cell_type": "code",
      "metadata": {
        "id": "dwbpeHyR56NF",
        "outputId": "75533b0a-79c4-4fe9-95be-ebd946892c2b",
        "colab": {
          "base_uri": "https://localhost:8080/"
        }
      },
      "source": [
        "from pyspark.ml.feature import VectorAssembler\n",
        "\n",
        "train = VectorAssembler(inputCols=cols, outputCol=\"vector\").transform(train)\n",
        "train.show()"
      ],
      "execution_count": 26,
      "outputs": [
        {
          "output_type": "stream",
          "name": "stdout",
          "text": [
            "+---+---------+---+---------+--------+---+-----+-----+-----+-----+-----+-----+---------+---------+---------+---------+---------+---------+--------+--------+--------+--------+--------+--------+-----+--------------------+\n",
            "| ID|LIMIT_BAL|SEX|EDUCATION|MARRIAGE|AGE|PAY_0|PAY_2|PAY_3|PAY_4|PAY_5|PAY_6|BILL_AMT1|BILL_AMT2|BILL_AMT3|BILL_AMT4|BILL_AMT5|BILL_AMT6|PAY_AMT1|PAY_AMT2|PAY_AMT3|PAY_AMT4|PAY_AMT5|PAY_AMT6|label|              vector|\n",
            "+---+---------+---+---------+--------+---+-----+-----+-----+-----+-----+-----+---------+---------+---------+---------+---------+---------+--------+--------+--------+--------+--------+--------+-----+--------------------+\n",
            "|  2| 120000.0|  2|        2|       2| 26|   -1|    2|    0|    0|    0|    2|   2682.0|   1725.0|   2682.0|   3272.0|   3455.0|   3261.0|     0.0|  1000.0|  1000.0|  1000.0|     0.0|  2000.0|    1|[120000.0,2.0,2.0...|\n",
            "|  3|  90000.0|  2|        2|       2| 34|    0|    0|    0|    0|    0|    0|  29239.0|  14027.0|  13559.0|  14331.0|  14948.0|  15549.0|  1518.0|  1500.0|  1000.0|  1000.0|  1000.0|  5000.0|    0|[90000.0,2.0,2.0,...|\n",
            "|  6|  50000.0|  1|        1|       2| 37|    0|    0|    0|    0|    0|    0|  64400.0|  57069.0|  57608.0|  19394.0|  19619.0|  20024.0|  2500.0|  1815.0|   657.0|  1000.0|  1000.0|   800.0|    0|[50000.0,1.0,1.0,...|\n",
            "|  7| 500000.0|  1|        1|       2| 29|    0|    0|    0|    0|    0|    0| 367965.0| 412023.0| 445007.0| 542653.0| 483003.0| 473944.0| 55000.0| 40000.0| 38000.0| 20239.0| 13750.0| 13770.0|    0|[500000.0,1.0,1.0...|\n",
            "|  8| 100000.0|  2|        2|       2| 23|    0|   -1|   -1|    0|    0|   -1|  11876.0|    380.0|    601.0|    221.0|   -159.0|    567.0|   380.0|   601.0|     0.0|   581.0|  1687.0|  1542.0|    0|[100000.0,2.0,2.0...|\n",
            "| 10|  20000.0|  1|        3|       2| 35|   -2|   -2|   -2|   -2|   -1|   -1|      0.0|      0.0|      0.0|      0.0|  13007.0|  13912.0|     0.0|     0.0|     0.0| 13007.0|  1122.0|     0.0|    0|[20000.0,1.0,3.0,...|\n",
            "| 11| 200000.0|  2|        3|       2| 34|    0|    0|    2|    0|    0|   -1|  11073.0|   9787.0|   5535.0|   2513.0|   1828.0|   3731.0|  2306.0|    12.0|    50.0|   300.0|  3738.0|    66.0|    0|[200000.0,2.0,3.0...|\n",
            "| 12| 260000.0|  2|        1|       2| 51|   -1|   -1|   -1|   -1|   -1|    2|  12261.0|  21670.0|   9966.0|   8517.0|  22287.0|  13668.0| 21818.0|  9966.0|  8583.0| 22301.0|     0.0|  3640.0|    0|[260000.0,2.0,1.0...|\n",
            "| 13| 630000.0|  2|        2|       2| 41|   -1|    0|   -1|   -1|   -1|   -1|  12137.0|   6500.0|   6500.0|   6500.0|   6500.0|   2870.0|  1000.0|  6500.0|  6500.0|  6500.0|  2870.0|     0.0|    0|[630000.0,2.0,2.0...|\n",
            "| 14|  70000.0|  1|        2|       2| 30|    1|    2|    2|    0|    0|    2|  65802.0|  67369.0|  65701.0|  66782.0|  36137.0|  36894.0|  3200.0|     0.0|  3000.0|  3000.0|  1500.0|     0.0|    1|[70000.0,1.0,2.0,...|\n",
            "| 15| 250000.0|  1|        1|       2| 29|    0|    0|    0|    0|    0|    0|  70887.0|  67060.0|  63561.0|  59696.0|  56875.0|  55512.0|  3000.0|  3000.0|  3000.0|  3000.0|  3000.0|  3000.0|    0|[250000.0,1.0,1.0...|\n",
            "| 18| 320000.0|  1|        1|       1| 49|    0|    0|    0|   -1|   -1|   -1| 253286.0| 246536.0| 194663.0|  70074.0|   5856.0| 195599.0| 10358.0| 10000.0| 75940.0| 20000.0|195599.0| 50000.0|    0|[320000.0,1.0,1.0...|\n",
            "| 19| 360000.0|  2|        1|       1| 49|    1|   -2|   -2|   -2|   -2|   -2|      0.0|      0.0|      0.0|      0.0|      0.0|      0.0|     0.0|     0.0|     0.0|     0.0|     0.0|     0.0|    0|(22,[0,1,2,3,4,5,...|\n",
            "| 20| 180000.0|  2|        1|       2| 29|    1|   -2|   -2|   -2|   -2|   -2|      0.0|      0.0|      0.0|      0.0|      0.0|      0.0|     0.0|     0.0|     0.0|     0.0|     0.0|     0.0|    0|(22,[0,1,2,3,4,5,...|\n",
            "| 21| 130000.0|  2|        3|       2| 39|    0|    0|    0|    0|    0|   -1|  38358.0|  27688.0|  24489.0|  20616.0|  11802.0|    930.0|  3000.0|  1537.0|  1000.0|  2000.0|   930.0| 33764.0|    0|[130000.0,2.0,3.0...|\n",
            "| 22| 120000.0|  2|        2|       1| 39|   -1|   -1|   -1|   -1|   -1|   -1|    316.0|    316.0|    316.0|      0.0|    632.0|    316.0|   316.0|   316.0|     0.0|   632.0|   316.0|     0.0|    1|[120000.0,2.0,2.0...|\n",
            "| 23|  70000.0|  2|        2|       2| 26|    2|    0|    0|    2|    2|    2|  41087.0|  42445.0|  45020.0|  44006.0|  46905.0|  46012.0|  2007.0|  3582.0|     0.0|  3601.0|     0.0|  1820.0|    1|[70000.0,2.0,2.0,...|\n",
            "| 24| 450000.0|  2|        1|       1| 40|   -2|   -2|   -2|   -2|   -2|   -2|   5512.0|  19420.0|   1473.0|    560.0|      0.0|      0.0| 19428.0|  1473.0|   560.0|     0.0|     0.0|  1128.0|    1|[450000.0,2.0,1.0...|\n",
            "| 25|  90000.0|  1|        1|       2| 23|    0|    0|    0|   -1|    0|    0|   4744.0|   7070.0|      0.0|   5398.0|   6360.0|   8292.0|  5757.0|     0.0|  5398.0|  1200.0|  2045.0|  2000.0|    0|[90000.0,1.0,1.0,...|\n",
            "| 27|  60000.0|  1|        1|       2| 27|    1|   -2|   -1|   -1|   -1|   -1|   -109.0|   -425.0|    259.0|    -57.0|    127.0|   -189.0|     0.0|  1000.0|     0.0|   500.0|     0.0|  1000.0|    1|[60000.0,1.0,1.0,...|\n",
            "+---+---------+---+---------+--------+---+-----+-----+-----+-----+-----+-----+---------+---------+---------+---------+---------+---------+--------+--------+--------+--------+--------+--------+-----+--------------------+\n",
            "only showing top 20 rows\n",
            "\n"
          ]
        }
      ]
    },
    {
      "cell_type": "markdown",
      "metadata": {
        "id": "Gtua5X-k2_OR"
      },
      "source": [
        "# Preparing the model"
      ]
    },
    {
      "cell_type": "code",
      "metadata": {
        "id": "7sAjEiZ32_OS",
        "outputId": "bf900a5d-bc94-44d5-86c9-2b81864beea0",
        "colab": {
          "base_uri": "https://localhost:8080/"
        }
      },
      "source": [
        "from pyspark.ml.classification import RandomForestClassifier\n",
        "\n",
        "randomForest = RandomForestClassifier(inputCols=\"vector\", outputCol=\"prediction\", label)\n",
        "model = randomForest.transform()"
      ],
      "execution_count": 5,
      "outputs": [
        {
          "output_type": "stream",
          "name": "stdout",
          "text": [
            "+-----+\n",
            "|label|\n",
            "+-----+\n",
            "|    1|\n",
            "|    1|\n",
            "|    0|\n",
            "|    0|\n",
            "|    0|\n",
            "|    0|\n",
            "|    0|\n",
            "|    0|\n",
            "|    0|\n",
            "|    0|\n",
            "|    0|\n",
            "|    0|\n",
            "|    0|\n",
            "|    1|\n",
            "|    0|\n",
            "|    0|\n",
            "|    1|\n",
            "|    0|\n",
            "|    0|\n",
            "|    0|\n",
            "+-----+\n",
            "only showing top 20 rows\n",
            "\n"
          ]
        }
      ]
    },
    {
      "cell_type": "markdown",
      "metadata": {
        "id": "qnwwclAz2_OT"
      },
      "source": [
        "# Fitting the model"
      ]
    },
    {
      "cell_type": "code",
      "metadata": {
        "id": "4crpZ9pN2_OT"
      },
      "source": [
        "# ..."
      ],
      "execution_count": null,
      "outputs": []
    },
    {
      "cell_type": "markdown",
      "metadata": {
        "id": "MjOPlPGh2_OU"
      },
      "source": [
        "# Evaluation of the model"
      ]
    },
    {
      "cell_type": "code",
      "metadata": {
        "id": "-T2nJVlF2_OV"
      },
      "source": [
        "# ..."
      ],
      "execution_count": null,
      "outputs": []
    },
    {
      "cell_type": "code",
      "metadata": {
        "id": "i9SMl6f-2_OV"
      },
      "source": [
        "# ..."
      ],
      "execution_count": null,
      "outputs": []
    },
    {
      "cell_type": "code",
      "metadata": {
        "id": "4uewIP-72_OW"
      },
      "source": [
        "# ..."
      ],
      "execution_count": null,
      "outputs": []
    },
    {
      "cell_type": "code",
      "metadata": {
        "id": "bg_S1I4l2_OW"
      },
      "source": [
        "# ..."
      ],
      "execution_count": null,
      "outputs": []
    },
    {
      "cell_type": "markdown",
      "metadata": {
        "id": "UftVn50V2_OW"
      },
      "source": [
        "# Streaming data"
      ]
    },
    {
      "cell_type": "markdown",
      "metadata": {
        "id": "8L3ULhE42_OX"
      },
      "source": [
        "The stream will be produced by ```generate_transactions.py```"
      ]
    },
    {
      "cell_type": "code",
      "metadata": {
        "id": "pmavdmby2_OX"
      },
      "source": [
        "from pyspark.streaming import StreamingContext\n",
        "\n",
        "ssc = StreamingContext(sc, 10)"
      ],
      "execution_count": null,
      "outputs": []
    },
    {
      "cell_type": "code",
      "metadata": {
        "id": "rtveAF7y2_OX"
      },
      "source": [
        "def process(time, rdd):\n",
        "    # ..."
      ],
      "execution_count": null,
      "outputs": []
    },
    {
      "cell_type": "code",
      "metadata": {
        "id": "9Pw5OEBg2_OY"
      },
      "source": [
        "stream = ssc.textFileStream('data/output/')\n",
        "\n",
        "# ...\n",
        "# ssc.awaitTermination()"
      ],
      "execution_count": null,
      "outputs": []
    },
    {
      "cell_type": "code",
      "metadata": {
        "id": "gE0ie1hR2_OY"
      },
      "source": [
        "# stop stream\n",
        "# ssc.stop(True, True)"
      ],
      "execution_count": null,
      "outputs": []
    }
  ]
}