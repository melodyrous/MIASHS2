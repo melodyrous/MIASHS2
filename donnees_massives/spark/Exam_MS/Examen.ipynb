{
 "cells": [
  {
   "cell_type": "markdown",
   "id": "a09ece66",
   "metadata": {},
   "source": [
    "# EXAMEN TW313MI - Partie de M. Servajean"
   ]
  },
  {
   "cell_type": "code",
   "execution_count": null,
   "id": "5ecd5b91",
   "metadata": {},
   "outputs": [],
   "source": [
    "nom = \"\"\n",
    "prenom = \"\"\n",
    "numero_etudiant = \"\""
   ]
  },
  {
   "cell_type": "code",
   "execution_count": null,
   "id": "6973c678",
   "metadata": {},
   "outputs": [],
   "source": [
    "from math import floor, ceil\n",
    "\n",
    "title = \"EXAMEN TW313MI\"\n",
    "name = nom.upper() + \" \" + prenom.upper() + \" (\" + numero_etudiant + \")\"\n",
    "\n",
    "def print_row(msg):\n",
    "    left = floor((83-len(msg))/2)\n",
    "    right = ceil((83-len(msg))/2)\n",
    "    print(\"*\" + ' ' * left + msg + ' '*right + '*')\n",
    "\n",
    "print('*' * 85)\n",
    "print_row('')\n",
    "print_row('')\n",
    "print_row(title)\n",
    "print_row(name)\n",
    "print_row('')\n",
    "print_row('')\n",
    "print('*' * 85)"
   ]
  },
  {
   "cell_type": "markdown",
   "id": "5633cb59",
   "metadata": {},
   "source": [
    "# I. Partie théorique"
   ]
  },
  {
   "cell_type": "markdown",
   "id": "91624dc2",
   "metadata": {},
   "source": [
    "## a. Décrire le fonctionnement de Map Reduce. Vous pouvez utiliser un exemple."
   ]
  },
  {
   "cell_type": "markdown",
   "id": "0c22da88",
   "metadata": {},
   "source": []
  },
  {
   "cell_type": "markdown",
   "id": "04312630",
   "metadata": {},
   "source": [
    "## b. Décrire le fonctionnement de LSH"
   ]
  },
  {
   "cell_type": "markdown",
   "id": "e6a68e83",
   "metadata": {},
   "source": []
  },
  {
   "cell_type": "markdown",
   "id": "fb2e2227",
   "metadata": {},
   "source": [
    "# II. Partie pratique"
   ]
  },
  {
   "cell_type": "code",
   "execution_count": null,
   "id": "0ab23ee8",
   "metadata": {},
   "outputs": [],
   "source": [
    "import pyspark\n",
    "from pyspark import SparkContext\n",
    "from pyspark.sql import SparkSession\n",
    "\n",
    "sc = SparkContext.getOrCreate()\n",
    "spark = SparkSession.builder.appName(\"Python Spark\").getOrCreate()"
   ]
  },
  {
   "cell_type": "markdown",
   "id": "0e3c771e",
   "metadata": {},
   "source": [
    "## Question 1 : Quelles sont les 5 meilleures années en note moyenne ?"
   ]
  },
  {
   "cell_type": "code",
   "execution_count": null,
   "id": "3a607c54",
   "metadata": {},
   "outputs": [],
   "source": [
    "# netflix.csv"
   ]
  },
  {
   "cell_type": "markdown",
   "id": "0746a9ab",
   "metadata": {},
   "source": [
    "## Question 1bis : Quelles sont les 5 meilleures années si on ne considère que celles ayant eues plus de 20 films ?"
   ]
  },
  {
   "cell_type": "code",
   "execution_count": null,
   "id": "3c2ea4f4",
   "metadata": {},
   "outputs": [],
   "source": []
  },
  {
   "cell_type": "markdown",
   "id": "33a5898a",
   "metadata": {},
   "source": [
    "## Question 2 : Quelle catégorie d'age (rating-level) est la plus clémente ?"
   ]
  },
  {
   "cell_type": "code",
   "execution_count": null,
   "id": "246c5429",
   "metadata": {},
   "outputs": [],
   "source": []
  },
  {
   "cell_type": "markdown",
   "id": "04c4ca18",
   "metadata": {},
   "source": [
    "## Question 3 : Est-il possible de prédire la note à partir du titre d'un film (i.e. faire mieux que le hasard) ?"
   ]
  },
  {
   "cell_type": "code",
   "execution_count": null,
   "id": "59d600e2",
   "metadata": {},
   "outputs": [],
   "source": []
  },
  {
   "cell_type": "markdown",
   "id": "d63591ac",
   "metadata": {},
   "source": [
    "## Question 3bis : \n",
    "### Votre modèle est-il bon ? \n",
    "### Pourquoi (en terme d'interprétation du score) ? \n",
    "### Pourquoi (en terme d'explication via les données) ?"
   ]
  },
  {
   "cell_type": "markdown",
   "id": "45ea2fb1",
   "metadata": {},
   "source": [
    "...Répondre dans cette cellule markdown..."
   ]
  }
 ],
 "metadata": {
  "kernelspec": {
   "display_name": "Python 3",
   "language": "python",
   "name": "python3"
  },
  "language_info": {
   "codemirror_mode": {
    "name": "ipython",
    "version": 3
   },
   "file_extension": ".py",
   "mimetype": "text/x-python",
   "name": "python",
   "nbconvert_exporter": "python",
   "pygments_lexer": "ipython3",
   "version": "3.9.2"
  }
 },
 "nbformat": 4,
 "nbformat_minor": 5
}
