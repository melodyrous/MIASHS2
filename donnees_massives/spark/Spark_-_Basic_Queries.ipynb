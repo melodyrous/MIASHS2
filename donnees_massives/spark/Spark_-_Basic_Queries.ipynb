{
  "nbformat": 4,
  "nbformat_minor": 0,
  "metadata": {
    "kernelspec": {
      "display_name": "Python 3",
      "language": "python",
      "name": "python3"
    },
    "language_info": {
      "codemirror_mode": {
        "name": "ipython",
        "version": 3
      },
      "file_extension": ".py",
      "mimetype": "text/x-python",
      "name": "python",
      "nbconvert_exporter": "python",
      "pygments_lexer": "ipython3",
      "version": "3.9.2"
    },
    "colab": {
      "name": "Spark_-_Basic_Queries.ipynb",
      "provenance": [],
      "include_colab_link": true
    }
  },
  "cells": [
    {
      "cell_type": "markdown",
      "metadata": {
        "id": "view-in-github",
        "colab_type": "text"
      },
      "source": [
        "<a href=\"https://colab.research.google.com/github/melodyrous/MIASHS2/blob/main/donnees_massives/spark/Spark_-_Basic_Queries.ipynb\" target=\"_parent\"><img src=\"https://colab.research.google.com/assets/colab-badge.svg\" alt=\"Open In Colab\"/></a>"
      ]
    },
    {
      "cell_type": "markdown",
      "metadata": {
        "id": "vGgfvaIzdFPZ"
      },
      "source": [
        "# Importing Spark"
      ]
    },
    {
      "cell_type": "code",
      "metadata": {
        "colab": {
          "base_uri": "https://localhost:8080/"
        },
        "id": "ZFK3lRb3dFPc",
        "outputId": "fd6a55cb-51c1-4c94-862d-9da49b03fa67"
      },
      "source": [
        "# install Java JDK 8\n",
        "# install SPARK\n",
        "# install pyspark\n",
        "# eventually consider pyspark\n",
        "# eventuelly consider SPARK_HOME, or SPARK_PATH, etc.\n",
        "!pip install pyspark"
      ],
      "execution_count": 5,
      "outputs": [
        {
          "output_type": "stream",
          "name": "stdout",
          "text": [
            "Requirement already satisfied: pyspark in /usr/local/lib/python3.7/dist-packages (3.1.2)\n",
            "Requirement already satisfied: py4j==0.10.9 in /usr/local/lib/python3.7/dist-packages (from pyspark) (0.10.9)\n"
          ]
        }
      ]
    },
    {
      "cell_type": "markdown",
      "metadata": {
        "id": "8dgUvskldsOg"
      },
      "source": [
        ""
      ]
    },
    {
      "cell_type": "code",
      "metadata": {
        "id": "ZNsvoFwPdFPf"
      },
      "source": [
        "import pyspark\n",
        "from pyspark import SparkContext\n",
        "from pyspark.sql import SparkSession\n",
        "\n",
        "sc = SparkContext.getOrCreate()\n",
        "spark = SparkSession.builder.appName(\"Python Spark\").getOrCreate()"
      ],
      "execution_count": 6,
      "outputs": []
    },
    {
      "cell_type": "markdown",
      "metadata": {
        "id": "H_c_qQZ9dFPf"
      },
      "source": [
        "# Loading the data"
      ]
    },
    {
      "cell_type": "code",
      "metadata": {
        "id": "j_StMW37dFPg"
      },
      "source": [
        "df_ratings = spark.read\\\n",
        "    .option(\"delimiter\", \"\\t\")\\\n",
        "    .option(\"header\", \"true\")\\\n",
        "    .option(\"inferSchema\", \"true\")\\\n",
        "    .csv('u.data')"
      ],
      "execution_count": 7,
      "outputs": []
    },
    {
      "cell_type": "code",
      "metadata": {
        "colab": {
          "base_uri": "https://localhost:8080/"
        },
        "id": "l5Z2AlcDdFPg",
        "outputId": "010a2a3b-19ad-48e5-9ff4-49ebd7a0c33d"
      },
      "source": [
        "# print the dataframe schema\n",
        "df_ratings.printSchema()"
      ],
      "execution_count": 8,
      "outputs": [
        {
          "output_type": "stream",
          "name": "stdout",
          "text": [
            "root\n",
            " |-- user_id: integer (nullable = true)\n",
            " |-- item_id: integer (nullable = true)\n",
            " |-- rating: integer (nullable = true)\n",
            " |-- timestamp: integer (nullable = true)\n",
            "\n"
          ]
        }
      ]
    },
    {
      "cell_type": "code",
      "metadata": {
        "colab": {
          "base_uri": "https://localhost:8080/"
        },
        "id": "NUw-zPKRdFPh",
        "outputId": "6333e8b7-0c7a-4b7c-9d02-4f7999eb8d55"
      },
      "source": [
        "# show a sample of the data (the dataframe executes the whole pipeline at this stage)\n",
        "df_ratings.show(5)"
      ],
      "execution_count": 9,
      "outputs": [
        {
          "output_type": "stream",
          "name": "stdout",
          "text": [
            "+-------+-------+------+---------+\n",
            "|user_id|item_id|rating|timestamp|\n",
            "+-------+-------+------+---------+\n",
            "|    196|    242|     3|881250949|\n",
            "|    186|    302|     3|891717742|\n",
            "|     22|    377|     1|878887116|\n",
            "|    244|     51|     2|880606923|\n",
            "|    166|    346|     1|886397596|\n",
            "+-------+-------+------+---------+\n",
            "only showing top 5 rows\n",
            "\n"
          ]
        }
      ]
    },
    {
      "cell_type": "code",
      "metadata": {
        "id": "lcMZhJYTdFPh"
      },
      "source": [
        "# set the rdd equivalent of the dataframe\n",
        "rdd_ratings = df_ratings.rdd"
      ],
      "execution_count": 10,
      "outputs": []
    },
    {
      "cell_type": "markdown",
      "metadata": {
        "id": "Plt-xqk_dFPi"
      },
      "source": [
        "# Basic Queries"
      ]
    },
    {
      "cell_type": "markdown",
      "metadata": {
        "id": "stgO596rdFPi"
      },
      "source": [
        "#### Exercice 1 - Number of movies per user (using RDD then Dataframe)"
      ]
    },
    {
      "cell_type": "markdown",
      "metadata": {
        "id": "R2k7wgCgdFPi"
      },
      "source": [
        "Calculer pour chaque utilisateur le nombre de films notés, et afficher le résultat pour l'un d'entre eux. Utilisez dans un premier temps les RDD puis les Dataframes."
      ]
    },
    {
      "cell_type": "code",
      "metadata": {
        "colab": {
          "base_uri": "https://localhost:8080/"
        },
        "id": "DIiWrmssgJBF",
        "outputId": "72bdf58a-5865-476c-975e-4ee5bee5fbd8"
      },
      "source": [
        "rdd_ratings"
      ],
      "execution_count": 11,
      "outputs": [
        {
          "output_type": "execute_result",
          "data": {
            "text/plain": [
              "MapPartitionsRDD[28] at javaToPython at NativeMethodAccessorImpl.java:0"
            ]
          },
          "metadata": {},
          "execution_count": 11
        }
      ]
    },
    {
      "cell_type": "code",
      "metadata": {
        "colab": {
          "base_uri": "https://localhost:8080/"
        },
        "id": "XkoFxiyydFPj",
        "outputId": "505bc315-bbc2-4b04-c5ec-10474059f5cc"
      },
      "source": [
        "# classical RDD approach\n",
        "result_1 = rdd_ratings.map(lambda r: (r[0], 1)).reduceByKey(lambda v1, v2: v1+v2).take(1)\n",
        "print(result_1)"
      ],
      "execution_count": 12,
      "outputs": [
        {
          "output_type": "stream",
          "name": "stdout",
          "text": [
            "[(196, 39)]\n"
          ]
        }
      ]
    },
    {
      "cell_type": "code",
      "metadata": {
        "colab": {
          "base_uri": "https://localhost:8080/"
        },
        "id": "Mw2eN9cgdFPj",
        "outputId": "b0d3ffcb-4c9a-4c9a-81ac-69cbf82b9dae"
      },
      "source": [
        "# dataframe approach, filtering on the previous user to compare results\n",
        "df_ratings.filter(df_ratings.user_id == result_1[0][0]).groupBy('user_id').count().show(1)"
      ],
      "execution_count": 13,
      "outputs": [
        {
          "output_type": "stream",
          "name": "stdout",
          "text": [
            "+-------+-----+\n",
            "|user_id|count|\n",
            "+-------+-----+\n",
            "|    196|   39|\n",
            "+-------+-----+\n",
            "\n"
          ]
        }
      ]
    },
    {
      "cell_type": "markdown",
      "metadata": {
        "id": "FX92Ne0idFPk"
      },
      "source": [
        "#### Exercice 2 - Average rating per user (using RDD then Dataframe)"
      ]
    },
    {
      "cell_type": "markdown",
      "metadata": {
        "id": "0T3YaQLxdFPk"
      },
      "source": [
        "Calculer pour chaque utilisateurs la note moyenne donnée et afficher le résultat pour l'un d'entre eux. Utilisez dans un premier temps les RDD puis les Dataframes."
      ]
    },
    {
      "cell_type": "code",
      "metadata": {
        "colab": {
          "base_uri": "https://localhost:8080/"
        },
        "id": "7BOdUDEgdFPk",
        "outputId": "7b10bac8-5c5c-4941-bf67-28f190f85f9f"
      },
      "source": [
        "# RDD\n",
        "# classical RDD approach\n",
        "rdd_map = rdd_ratings.map(lambda r: (r[0], int(r[2])))\n",
        "rdd_agg = rdd_map.aggregateByKey(\n",
        "    (0, 0), # initialise les valeurs pour chacun des users\n",
        "    lambda a,b: (a[0] + b,    a[1] + 1), # combine deux lignes\n",
        "    lambda a,b: (a[0] + b[0], a[1] + b[1]) # combine deux partitions\n",
        ")\n",
        "\n",
        "rdd_result = rdd_agg.mapValues(lambda v: float(v[0])/v[1])\n",
        "\n",
        "result_1 = rdd_result.take(1)\n",
        "print(result_1)"
      ],
      "execution_count": 14,
      "outputs": [
        {
          "output_type": "stream",
          "name": "stdout",
          "text": [
            "[(196, 3.6153846153846154)]\n"
          ]
        }
      ]
    },
    {
      "cell_type": "code",
      "metadata": {
        "colab": {
          "base_uri": "https://localhost:8080/"
        },
        "id": "qH0diwnTdFPl",
        "outputId": "15a69ea1-1eb3-47b6-d928-c473e9ca0066"
      },
      "source": [
        "# dataframe approach\n",
        "df_ratings.filter(df_ratings.user_id == result_1[0][0]).groupBy(\"user_id\").mean().show(1) \n",
        "#or\n",
        "\n",
        "from pyspark.sql.functions import avg\n",
        "\n",
        "df_ratings.filter(df_ratings['user_id']==result_1[0][0])\\\n",
        "    .groupBy('user_id')\\\n",
        "    .agg(avg('rating'))\\\n",
        "    .show(1)"
      ],
      "execution_count": 15,
      "outputs": [
        {
          "output_type": "stream",
          "name": "stdout",
          "text": [
            "+-------+------------+-----------------+------------------+-------------------+\n",
            "|user_id|avg(user_id)|     avg(item_id)|       avg(rating)|     avg(timestamp)|\n",
            "+-------+------------+-----------------+------------------+-------------------+\n",
            "|    196|       196.0|375.8205128205128|3.6153846153846154|8.812517328461539E8|\n",
            "+-------+------------+-----------------+------------------+-------------------+\n",
            "\n",
            "+-------+------------------+\n",
            "|user_id|       avg(rating)|\n",
            "+-------+------------------+\n",
            "|    196|3.6153846153846154|\n",
            "+-------+------------------+\n",
            "\n"
          ]
        }
      ]
    },
    {
      "cell_type": "code",
      "metadata": {
        "id": "4bVWf2cFQK1d"
      },
      "source": [
        ""
      ],
      "execution_count": 15,
      "outputs": []
    },
    {
      "cell_type": "markdown",
      "metadata": {
        "id": "zMDq2T-SdFPl"
      },
      "source": [
        "#### Exercice 3 - Top-5 movies with at least 15 votes (Dataframe)"
      ]
    },
    {
      "cell_type": "markdown",
      "metadata": {
        "id": "YMk4NL6-dFPl"
      },
      "source": [
        "Afficher les 5 meilleurs films parmi ceux qui ont reçu au moins 15 votes."
      ]
    },
    {
      "cell_type": "markdown",
      "metadata": {
        "id": "aFGm2URwdFPl"
      },
      "source": [
        "*Indices:*\n",
        "* Utiliser df_ratings pour calculer la moyenne, filtrer les films qui ont moins de 15 notes et classer les films par ordre décroissant.\n",
        "* Faire un join avec df_movies pour afficher le nom des films sélectionnés."
      ]
    },
    {
      "cell_type": "code",
      "metadata": {
        "id": "NGt3npTVdFPm"
      },
      "source": [
        "df_items = spark.read\\\n",
        "    .option(\"delimiter\", \"|\")\\\n",
        "    .option(\"header\", \"true\")\\\n",
        "    .option(\"inferSchema\", \"true\")\\\n",
        "    .csv('u.item')"
      ],
      "execution_count": 16,
      "outputs": []
    },
    {
      "cell_type": "code",
      "metadata": {
        "colab": {
          "base_uri": "https://localhost:8080/"
        },
        "id": "ArkmQFw4dFPm",
        "outputId": "7e5371dd-afdf-4605-b209-e9bf8f6a1e99"
      },
      "source": [
        "df_items.printSchema()"
      ],
      "execution_count": 17,
      "outputs": [
        {
          "output_type": "stream",
          "name": "stdout",
          "text": [
            "root\n",
            " |-- movie_id: integer (nullable = true)\n",
            " |-- movie_title: string (nullable = true)\n",
            " |-- release_date: string (nullable = true)\n",
            " |-- video_release_date: string (nullable = true)\n",
            " |-- IMDb_url: string (nullable = true)\n",
            " |-- unknown: integer (nullable = true)\n",
            " |-- action: integer (nullable = true)\n",
            " |-- adventure: integer (nullable = true)\n",
            " |-- animation: integer (nullable = true)\n",
            " |-- children\\s: integer (nullable = true)\n",
            " |-- comedy: integer (nullable = true)\n",
            " |-- crime: integer (nullable = true)\n",
            " |-- documentary: integer (nullable = true)\n",
            " |-- drama: integer (nullable = true)\n",
            " |-- fantasy: integer (nullable = true)\n",
            " |-- film-noir: integer (nullable = true)\n",
            " |-- horror: integer (nullable = true)\n",
            " |-- musical: integer (nullable = true)\n",
            " |-- mystery: integer (nullable = true)\n",
            " |-- romance: integer (nullable = true)\n",
            " |-- sci-fi: integer (nullable = true)\n",
            " |-- thriller: integer (nullable = true)\n",
            " |-- war: integer (nullable = true)\n",
            " |-- western: integer (nullable = true)\n",
            "\n"
          ]
        }
      ]
    },
    {
      "cell_type": "code",
      "metadata": {
        "colab": {
          "base_uri": "https://localhost:8080/"
        },
        "id": "nQi-8srYdFPm",
        "outputId": "2eea6d8f-4579-4e35-db28-3f22ed16ecc0"
      },
      "source": [
        "df_items.show(1)"
      ],
      "execution_count": 18,
      "outputs": [
        {
          "output_type": "stream",
          "name": "stdout",
          "text": [
            "+--------+----------------+------------+------------------+--------------------+-------+------+---------+---------+----------+------+-----+-----------+-----+-------+---------+------+-------+-------+-------+------+--------+---+-------+\n",
            "|movie_id|     movie_title|release_date|video_release_date|            IMDb_url|unknown|action|adventure|animation|children\\s|comedy|crime|documentary|drama|fantasy|film-noir|horror|musical|mystery|romance|sci-fi|thriller|war|western|\n",
            "+--------+----------------+------------+------------------+--------------------+-------+------+---------+---------+----------+------+-----+-----------+-----+-------+---------+------+-------+-------+-------+------+--------+---+-------+\n",
            "|       1|Toy Story (1995)| 01-Jan-1995|              null|http://us.imdb.co...|      0|     0|        0|        1|         1|     1|    0|          0|    0|      0|        0|     0|      0|      0|      0|     0|       0|  0|      0|\n",
            "+--------+----------------+------------+------------------+--------------------+-------+------+---------+---------+----------+------+-----+-----------+-----+-------+---------+------+-------+-------+-------+------+--------+---+-------+\n",
            "only showing top 1 row\n",
            "\n"
          ]
        }
      ]
    },
    {
      "cell_type": "code",
      "metadata": {
        "colab": {
          "base_uri": "https://localhost:8080/"
        },
        "id": "u2GJXxkWdFPm",
        "outputId": "9d9dafbb-c753-44fe-b910-7642095ed2e0"
      },
      "source": [
        "from pyspark.sql.functions import avg, count, col, asc,desc\n",
        "\n",
        "grouped_ratings = df_ratings.groupBy(\"item_id\").agg(avg(\"rating\"), count(\"rating\"))\n",
        "grouped_ratings = grouped_ratings.filter(grouped_ratings[\"count(rating)\"]>15).join(df_items, grouped_ratings.item_id == df_items.movie_id,\"inner\").sort(col(\"avg(rating)\").desc())\n",
        "grouped_ratings.select(\"movie_title\").show(5, truncate=False)\n"
      ],
      "execution_count": 27,
      "outputs": [
        {
          "output_type": "stream",
          "name": "stdout",
          "text": [
            "+------------------------------------------------------+\n",
            "|movie_title                                           |\n",
            "+------------------------------------------------------+\n",
            "|Close Shave, A (1995)                                 |\n",
            "|Schindler's List (1993)                               |\n",
            "|Wrong Trousers, The (1993)                            |\n",
            "|Casablanca (1942)                                     |\n",
            "|Wallace & Gromit: The Best of Aardman Animation (1996)|\n",
            "+------------------------------------------------------+\n",
            "only showing top 5 rows\n",
            "\n"
          ]
        }
      ]
    }
  ]
}