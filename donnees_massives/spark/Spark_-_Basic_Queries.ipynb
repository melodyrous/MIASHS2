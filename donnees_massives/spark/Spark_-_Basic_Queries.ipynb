{
  "nbformat": 4,
  "nbformat_minor": 0,
  "metadata": {
    "kernelspec": {
      "display_name": "Python 3",
      "language": "python",
      "name": "python3"
    },
    "language_info": {
      "codemirror_mode": {
        "name": "ipython",
        "version": 3
      },
      "file_extension": ".py",
      "mimetype": "text/x-python",
      "name": "python",
      "nbconvert_exporter": "python",
      "pygments_lexer": "ipython3",
      "version": "3.9.2"
    },
    "colab": {
      "name": "Spark_-_Basic_Queries.ipynb",
      "provenance": []
    }
  },
  "cells": [
    {
      "cell_type": "markdown",
      "metadata": {
        "id": "vGgfvaIzdFPZ"
      },
      "source": [
        "# Importing Spark"
      ]
    },
    {
      "cell_type": "code",
      "metadata": {
        "id": "ZFK3lRb3dFPc",
        "outputId": "b8f262af-dd4d-410f-a654-22262a6bda64",
        "colab": {
          "base_uri": "https://localhost:8080/"
        }
      },
      "source": [
        "# install Java JDK 8\n",
        "# install SPARK\n",
        "# install pyspark\n",
        "# eventually consider pyspark\n",
        "# eventuelly consider SPARK_HOME, or SPARK_PATH, etc.\n",
        "!pip install pyspark"
      ],
      "execution_count": 1,
      "outputs": [
        {
          "output_type": "stream",
          "name": "stdout",
          "text": [
            "Collecting pyspark\n",
            "  Downloading pyspark-3.1.2.tar.gz (212.4 MB)\n",
            "\u001b[K     |████████████████████████████████| 212.4 MB 55 kB/s \n",
            "\u001b[?25hCollecting py4j==0.10.9\n",
            "  Downloading py4j-0.10.9-py2.py3-none-any.whl (198 kB)\n",
            "\u001b[K     |████████████████████████████████| 198 kB 56.6 MB/s \n",
            "\u001b[?25hBuilding wheels for collected packages: pyspark\n",
            "  Building wheel for pyspark (setup.py) ... \u001b[?25l\u001b[?25hdone\n",
            "  Created wheel for pyspark: filename=pyspark-3.1.2-py2.py3-none-any.whl size=212880768 sha256=da989ff650987d5c020ad84663c3635f0eb94032753d267e26728b4d28db9a69\n",
            "  Stored in directory: /root/.cache/pip/wheels/a5/0a/c1/9561f6fecb759579a7d863dcd846daaa95f598744e71b02c77\n",
            "Successfully built pyspark\n",
            "Installing collected packages: py4j, pyspark\n",
            "Successfully installed py4j-0.10.9 pyspark-3.1.2\n"
          ]
        }
      ]
    },
    {
      "cell_type": "markdown",
      "metadata": {
        "id": "8dgUvskldsOg"
      },
      "source": [
        ""
      ]
    },
    {
      "cell_type": "code",
      "metadata": {
        "id": "ZNsvoFwPdFPf"
      },
      "source": [
        "import pyspark\n",
        "from pyspark import SparkContext\n",
        "from pyspark.sql import SparkSession\n",
        "\n",
        "sc = SparkContext.getOrCreate()\n",
        "spark = SparkSession.builder.appName(\"Python Spark\").getOrCreate()"
      ],
      "execution_count": 1,
      "outputs": []
    },
    {
      "cell_type": "markdown",
      "metadata": {
        "id": "H_c_qQZ9dFPf"
      },
      "source": [
        "# Loading the data"
      ]
    },
    {
      "cell_type": "code",
      "metadata": {
        "id": "j_StMW37dFPg"
      },
      "source": [
        "df_ratings = spark.read\\\n",
        "    .option(\"delimiter\", \"\\t\")\\\n",
        "    .option(\"header\", \"true\")\\\n",
        "    .option(\"inferSchema\", \"true\")\\\n",
        "    .csv('u.data')"
      ],
      "execution_count": 2,
      "outputs": []
    },
    {
      "cell_type": "code",
      "metadata": {
        "id": "l5Z2AlcDdFPg",
        "outputId": "5dab1e92-d475-411b-b2fb-78d9f2e920a5",
        "colab": {
          "base_uri": "https://localhost:8080/"
        }
      },
      "source": [
        "# print the dataframe schema\n",
        "df_ratings.printSchema()"
      ],
      "execution_count": 3,
      "outputs": [
        {
          "output_type": "stream",
          "name": "stdout",
          "text": [
            "root\n",
            " |-- user_id: integer (nullable = true)\n",
            " |-- item_id: integer (nullable = true)\n",
            " |-- rating: integer (nullable = true)\n",
            " |-- timestamp: integer (nullable = true)\n",
            "\n"
          ]
        }
      ]
    },
    {
      "cell_type": "code",
      "metadata": {
        "id": "NUw-zPKRdFPh",
        "outputId": "ad0fd2c9-75bc-4ed9-9d0c-6201442cf18a",
        "colab": {
          "base_uri": "https://localhost:8080/"
        }
      },
      "source": [
        "# show a sample of the data (the dataframe executes the whole pipeline at this stage)\n",
        "df_ratings.show(5)"
      ],
      "execution_count": 4,
      "outputs": [
        {
          "output_type": "stream",
          "name": "stdout",
          "text": [
            "+-------+-------+------+---------+\n",
            "|user_id|item_id|rating|timestamp|\n",
            "+-------+-------+------+---------+\n",
            "|    196|    242|     3|881250949|\n",
            "|    186|    302|     3|891717742|\n",
            "|     22|    377|     1|878887116|\n",
            "|    244|     51|     2|880606923|\n",
            "|    166|    346|     1|886397596|\n",
            "+-------+-------+------+---------+\n",
            "only showing top 5 rows\n",
            "\n"
          ]
        }
      ]
    },
    {
      "cell_type": "code",
      "metadata": {
        "id": "lcMZhJYTdFPh"
      },
      "source": [
        "# set the rdd equivalent of the dataframe\n",
        "rdd_ratings = df_ratings.rdd"
      ],
      "execution_count": 5,
      "outputs": []
    },
    {
      "cell_type": "markdown",
      "metadata": {
        "id": "Plt-xqk_dFPi"
      },
      "source": [
        "# Basic Queries"
      ]
    },
    {
      "cell_type": "markdown",
      "metadata": {
        "id": "stgO596rdFPi"
      },
      "source": [
        "#### Exercice 1 - Number of movies per user (using RDD then Dataframe)"
      ]
    },
    {
      "cell_type": "markdown",
      "metadata": {
        "id": "R2k7wgCgdFPi"
      },
      "source": [
        "Calculer pour chaque utilisateur le nombre de films notés, et afficher le résultat pour l'un d'entre eux. Utilisez dans un premier temps les RDD puis les Dataframes."
      ]
    },
    {
      "cell_type": "code",
      "metadata": {
        "id": "DIiWrmssgJBF",
        "outputId": "c39ada1a-35e3-40c1-a764-9adc57087dca",
        "colab": {
          "base_uri": "https://localhost:8080/"
        }
      },
      "source": [
        "rdd_ratings"
      ],
      "execution_count": 6,
      "outputs": [
        {
          "output_type": "execute_result",
          "data": {
            "text/plain": [
              "MapPartitionsRDD[18] at javaToPython at NativeMethodAccessorImpl.java:0"
            ]
          },
          "metadata": {},
          "execution_count": 6
        }
      ]
    },
    {
      "cell_type": "code",
      "metadata": {
        "id": "XkoFxiyydFPj",
        "outputId": "bc126827-12e3-4b41-ff4a-8ce01852d8bd",
        "colab": {
          "base_uri": "https://localhost:8080/"
        }
      },
      "source": [
        "# classical RDD approach\n",
        "result_1 = rdd_ratings.map(lambda r: (r[0], 1)).reduceByKey(lambda v1, v2: v1+v2).take(1)\n",
        "print(result_1)"
      ],
      "execution_count": 10,
      "outputs": [
        {
          "output_type": "stream",
          "name": "stdout",
          "text": [
            "[(196, 39)]\n"
          ]
        }
      ]
    },
    {
      "cell_type": "code",
      "metadata": {
        "id": "Mw2eN9cgdFPj",
        "outputId": "17df460c-3314-4ff8-9050-68e2c10019e3",
        "colab": {
          "base_uri": "https://localhost:8080/"
        }
      },
      "source": [
        "# dataframe approach, filtering on the previous user to compare results\n",
        "df_ratings.filter(df_ratings.user_id == result_1[0][0]).groupBy('user_id').count().show(1)"
      ],
      "execution_count": 12,
      "outputs": [
        {
          "output_type": "stream",
          "name": "stdout",
          "text": [
            "+-------+-----+\n",
            "|user_id|count|\n",
            "+-------+-----+\n",
            "|    196|   39|\n",
            "+-------+-----+\n",
            "\n"
          ]
        }
      ]
    },
    {
      "cell_type": "markdown",
      "metadata": {
        "id": "FX92Ne0idFPk"
      },
      "source": [
        "#### Exercice 2 - Average rating per user (using RDD then Dataframe)"
      ]
    },
    {
      "cell_type": "markdown",
      "metadata": {
        "id": "0T3YaQLxdFPk"
      },
      "source": [
        "Calculer pour chaque utilisateurs la note moyenne donnée et afficher le résultat pour l'un d'entre eux. Utilisez dans un premier temps les RDD puis les Dataframes."
      ]
    },
    {
      "cell_type": "code",
      "metadata": {
        "id": "7BOdUDEgdFPk",
        "outputId": "027705d3-cbec-4616-e8ce-4faaff34b02d",
        "colab": {
          "base_uri": "https://localhost:8080/"
        }
      },
      "source": [
        "# RDD\n",
        "# classical RDD approach\n",
        "rdd_map = rdd_ratings.map(lambda r: (r[0], int(r[2])))\n",
        "rdd_agg = rdd_map.aggregateByKey(\n",
        "    (0, 0), # initialise les valeurs pour chacun des users\n",
        "    lambda a,b: (a[0] + b,    a[1] + 1), # combine deux lignes\n",
        "    lambda a,b: (a[0] + b[0], a[1] + b[1]) # combine deux partitions\n",
        ")\n",
        "\n",
        "rdd_result = rdd_agg.mapValues(lambda v: float(v[0])/v[1])\n",
        "\n",
        "result_1 = rdd_result.take(1)\n",
        "print(result_1)"
      ],
      "execution_count": 30,
      "outputs": [
        {
          "output_type": "stream",
          "name": "stdout",
          "text": [
            "[(196, 3.6153846153846154)]\n"
          ]
        }
      ]
    },
    {
      "cell_type": "code",
      "metadata": {
        "id": "qH0diwnTdFPl",
        "outputId": "71c49ef9-b8fc-4815-a540-6ff7bfb591bb",
        "colab": {
          "base_uri": "https://localhost:8080/"
        }
      },
      "source": [
        "# dataframe approach\n",
        "df_ratings.filter(df_ratings.user_id == result_1[0][0]).groupBy(\"user_id\").mean().show(1) \n",
        "#or\n",
        "\n",
        "from pyspark.sql.functions import avg\n",
        "\n",
        "df_ratings.filter(df_ratings['user_id']==result_1[0][0])\\\n",
        "    .groupBy('user_id')\\\n",
        "    .agg(avg('rating'))\\\n",
        "    .show(1)"
      ],
      "execution_count": 32,
      "outputs": [
        {
          "output_type": "stream",
          "name": "stdout",
          "text": [
            "+-------+------------+-----------------+------------------+-------------------+\n",
            "|user_id|avg(user_id)|     avg(item_id)|       avg(rating)|     avg(timestamp)|\n",
            "+-------+------------+-----------------+------------------+-------------------+\n",
            "|    196|       196.0|375.8205128205128|3.6153846153846154|8.812517328461539E8|\n",
            "+-------+------------+-----------------+------------------+-------------------+\n",
            "\n",
            "+-------+------------------+\n",
            "|user_id|       avg(rating)|\n",
            "+-------+------------------+\n",
            "|    196|3.6153846153846154|\n",
            "+-------+------------------+\n",
            "\n"
          ]
        }
      ]
    },
    {
      "cell_type": "markdown",
      "metadata": {
        "id": "zMDq2T-SdFPl"
      },
      "source": [
        "#### Exercice 3 - Top-5 movies with at least 15 votes (Dataframe)"
      ]
    },
    {
      "cell_type": "markdown",
      "metadata": {
        "id": "YMk4NL6-dFPl"
      },
      "source": [
        "Afficher les 5 meilleurs films parmi ceux qui ont reçu au moins 15 votes."
      ]
    },
    {
      "cell_type": "markdown",
      "metadata": {
        "id": "aFGm2URwdFPl"
      },
      "source": [
        "*Indices:*\n",
        "* Utiliser df_ratings pour calculer la moyenne, filtrer les films qui ont moins de 15 notes et classer les films par ordre décroissant.\n",
        "* Faire un join avec df_movies pour afficher le nom des films sélectionnés."
      ]
    },
    {
      "cell_type": "code",
      "metadata": {
        "id": "NGt3npTVdFPm"
      },
      "source": [
        "df_items = spark.read\\\n",
        "    .option(\"delimiter\", \"|\")\\\n",
        "    .option(\"header\", \"true\")\\\n",
        "    .option(\"inferSchema\", \"true\")\\\n",
        "    .csv('u.item')"
      ],
      "execution_count": 33,
      "outputs": []
    },
    {
      "cell_type": "code",
      "metadata": {
        "id": "ArkmQFw4dFPm",
        "outputId": "41a0d24c-e359-4465-a887-7b1fc5add632",
        "colab": {
          "base_uri": "https://localhost:8080/"
        }
      },
      "source": [
        "df_items.printSchema()"
      ],
      "execution_count": 34,
      "outputs": [
        {
          "output_type": "stream",
          "name": "stdout",
          "text": [
            "root\n",
            " |-- movie_id: integer (nullable = true)\n",
            " |-- movie_title: string (nullable = true)\n",
            " |-- release_date: string (nullable = true)\n",
            " |-- video_release_date: string (nullable = true)\n",
            " |-- IMDb_url: string (nullable = true)\n",
            " |-- unknown: integer (nullable = true)\n",
            " |-- action: integer (nullable = true)\n",
            " |-- adventure: integer (nullable = true)\n",
            " |-- animation: integer (nullable = true)\n",
            " |-- children\\s: integer (nullable = true)\n",
            " |-- comedy: integer (nullable = true)\n",
            " |-- crime: integer (nullable = true)\n",
            " |-- documentary: integer (nullable = true)\n",
            " |-- drama: integer (nullable = true)\n",
            " |-- fantasy: integer (nullable = true)\n",
            " |-- film-noir: integer (nullable = true)\n",
            " |-- horror: integer (nullable = true)\n",
            " |-- musical: integer (nullable = true)\n",
            " |-- mystery: integer (nullable = true)\n",
            " |-- romance: integer (nullable = true)\n",
            " |-- sci-fi: integer (nullable = true)\n",
            " |-- thriller: integer (nullable = true)\n",
            " |-- war: integer (nullable = true)\n",
            " |-- western: integer (nullable = true)\n",
            "\n"
          ]
        }
      ]
    },
    {
      "cell_type": "code",
      "metadata": {
        "id": "nQi-8srYdFPm",
        "outputId": "8511f0c6-95f2-4e40-b5cd-0401a2969d07",
        "colab": {
          "base_uri": "https://localhost:8080/"
        }
      },
      "source": [
        "df_items.show(1)"
      ],
      "execution_count": 35,
      "outputs": [
        {
          "output_type": "stream",
          "name": "stdout",
          "text": [
            "+--------+----------------+------------+------------------+--------------------+-------+------+---------+---------+----------+------+-----+-----------+-----+-------+---------+------+-------+-------+-------+------+--------+---+-------+\n",
            "|movie_id|     movie_title|release_date|video_release_date|            IMDb_url|unknown|action|adventure|animation|children\\s|comedy|crime|documentary|drama|fantasy|film-noir|horror|musical|mystery|romance|sci-fi|thriller|war|western|\n",
            "+--------+----------------+------------+------------------+--------------------+-------+------+---------+---------+----------+------+-----+-----------+-----+-------+---------+------+-------+-------+-------+------+--------+---+-------+\n",
            "|       1|Toy Story (1995)| 01-Jan-1995|              null|http://us.imdb.co...|      0|     0|        0|        1|         1|     1|    0|          0|    0|      0|        0|     0|      0|      0|      0|     0|       0|  0|      0|\n",
            "+--------+----------------+------------+------------------+--------------------+-------+------+---------+---------+----------+------+-----+-----------+-----+-------+---------+------+-------+-------+-------+------+--------+---+-------+\n",
            "only showing top 1 row\n",
            "\n"
          ]
        }
      ]
    },
    {
      "cell_type": "code",
      "metadata": {
        "id": "u2GJXxkWdFPm",
        "outputId": "f3f94f88-6e47-466e-e376-1e815f740972",
        "colab": {
          "base_uri": "https://localhost:8080/",
          "height": 358
        }
      },
      "source": [
        "df_ratings.filter(df_ratings.groupBy(\"item_id\").count()[\"count\"] > 15)\n"
      ],
      "execution_count": 49,
      "outputs": [
        {
          "output_type": "error",
          "ename": "AnalysisException",
          "evalue": "ignored",
          "traceback": [
            "\u001b[0;31m---------------------------------------------------------------------------\u001b[0m",
            "\u001b[0;31mAnalysisException\u001b[0m                         Traceback (most recent call last)",
            "\u001b[0;32m<ipython-input-49-7707a5a4d07f>\u001b[0m in \u001b[0;36m<module>\u001b[0;34m()\u001b[0m\n\u001b[0;32m----> 1\u001b[0;31m \u001b[0mdf_ratings\u001b[0m\u001b[0;34m.\u001b[0m\u001b[0mfilter\u001b[0m\u001b[0;34m(\u001b[0m\u001b[0mdf_ratings\u001b[0m\u001b[0;34m.\u001b[0m\u001b[0mgroupBy\u001b[0m\u001b[0;34m(\u001b[0m\u001b[0;34m\"item_id\"\u001b[0m\u001b[0;34m)\u001b[0m\u001b[0;34m.\u001b[0m\u001b[0mcount\u001b[0m\u001b[0;34m(\u001b[0m\u001b[0;34m)\u001b[0m\u001b[0;34m[\u001b[0m\u001b[0;34m\"count\"\u001b[0m\u001b[0;34m]\u001b[0m \u001b[0;34m>\u001b[0m \u001b[0;36m15\u001b[0m\u001b[0;34m)\u001b[0m\u001b[0;34m\u001b[0m\u001b[0;34m\u001b[0m\u001b[0m\n\u001b[0m",
            "\u001b[0;32m/usr/local/lib/python3.7/dist-packages/pyspark/sql/dataframe.py\u001b[0m in \u001b[0;36mfilter\u001b[0;34m(self, condition)\u001b[0m\n\u001b[1;32m   1715\u001b[0m             \u001b[0mjdf\u001b[0m \u001b[0;34m=\u001b[0m \u001b[0mself\u001b[0m\u001b[0;34m.\u001b[0m\u001b[0m_jdf\u001b[0m\u001b[0;34m.\u001b[0m\u001b[0mfilter\u001b[0m\u001b[0;34m(\u001b[0m\u001b[0mcondition\u001b[0m\u001b[0;34m)\u001b[0m\u001b[0;34m\u001b[0m\u001b[0;34m\u001b[0m\u001b[0m\n\u001b[1;32m   1716\u001b[0m         \u001b[0;32melif\u001b[0m \u001b[0misinstance\u001b[0m\u001b[0;34m(\u001b[0m\u001b[0mcondition\u001b[0m\u001b[0;34m,\u001b[0m \u001b[0mColumn\u001b[0m\u001b[0;34m)\u001b[0m\u001b[0;34m:\u001b[0m\u001b[0;34m\u001b[0m\u001b[0;34m\u001b[0m\u001b[0m\n\u001b[0;32m-> 1717\u001b[0;31m             \u001b[0mjdf\u001b[0m \u001b[0;34m=\u001b[0m \u001b[0mself\u001b[0m\u001b[0;34m.\u001b[0m\u001b[0m_jdf\u001b[0m\u001b[0;34m.\u001b[0m\u001b[0mfilter\u001b[0m\u001b[0;34m(\u001b[0m\u001b[0mcondition\u001b[0m\u001b[0;34m.\u001b[0m\u001b[0m_jc\u001b[0m\u001b[0;34m)\u001b[0m\u001b[0;34m\u001b[0m\u001b[0;34m\u001b[0m\u001b[0m\n\u001b[0m\u001b[1;32m   1718\u001b[0m         \u001b[0;32melse\u001b[0m\u001b[0;34m:\u001b[0m\u001b[0;34m\u001b[0m\u001b[0;34m\u001b[0m\u001b[0m\n\u001b[1;32m   1719\u001b[0m             \u001b[0;32mraise\u001b[0m \u001b[0mTypeError\u001b[0m\u001b[0;34m(\u001b[0m\u001b[0;34m\"condition should be string or Column\"\u001b[0m\u001b[0;34m)\u001b[0m\u001b[0;34m\u001b[0m\u001b[0;34m\u001b[0m\u001b[0m\n",
            "\u001b[0;32m/usr/local/lib/python3.7/dist-packages/py4j/java_gateway.py\u001b[0m in \u001b[0;36m__call__\u001b[0;34m(self, *args)\u001b[0m\n\u001b[1;32m   1303\u001b[0m         \u001b[0manswer\u001b[0m \u001b[0;34m=\u001b[0m \u001b[0mself\u001b[0m\u001b[0;34m.\u001b[0m\u001b[0mgateway_client\u001b[0m\u001b[0;34m.\u001b[0m\u001b[0msend_command\u001b[0m\u001b[0;34m(\u001b[0m\u001b[0mcommand\u001b[0m\u001b[0;34m)\u001b[0m\u001b[0;34m\u001b[0m\u001b[0;34m\u001b[0m\u001b[0m\n\u001b[1;32m   1304\u001b[0m         return_value = get_return_value(\n\u001b[0;32m-> 1305\u001b[0;31m             answer, self.gateway_client, self.target_id, self.name)\n\u001b[0m\u001b[1;32m   1306\u001b[0m \u001b[0;34m\u001b[0m\u001b[0m\n\u001b[1;32m   1307\u001b[0m         \u001b[0;32mfor\u001b[0m \u001b[0mtemp_arg\u001b[0m \u001b[0;32min\u001b[0m \u001b[0mtemp_args\u001b[0m\u001b[0;34m:\u001b[0m\u001b[0;34m\u001b[0m\u001b[0;34m\u001b[0m\u001b[0m\n",
            "\u001b[0;32m/usr/local/lib/python3.7/dist-packages/pyspark/sql/utils.py\u001b[0m in \u001b[0;36mdeco\u001b[0;34m(*a, **kw)\u001b[0m\n\u001b[1;32m    115\u001b[0m                 \u001b[0;31m# Hide where the exception came from that shows a non-Pythonic\u001b[0m\u001b[0;34m\u001b[0m\u001b[0;34m\u001b[0m\u001b[0;34m\u001b[0m\u001b[0m\n\u001b[1;32m    116\u001b[0m                 \u001b[0;31m# JVM exception message.\u001b[0m\u001b[0;34m\u001b[0m\u001b[0;34m\u001b[0m\u001b[0;34m\u001b[0m\u001b[0m\n\u001b[0;32m--> 117\u001b[0;31m                 \u001b[0;32mraise\u001b[0m \u001b[0mconverted\u001b[0m \u001b[0;32mfrom\u001b[0m \u001b[0;32mNone\u001b[0m\u001b[0;34m\u001b[0m\u001b[0;34m\u001b[0m\u001b[0m\n\u001b[0m\u001b[1;32m    118\u001b[0m             \u001b[0;32melse\u001b[0m\u001b[0;34m:\u001b[0m\u001b[0;34m\u001b[0m\u001b[0;34m\u001b[0m\u001b[0m\n\u001b[1;32m    119\u001b[0m                 \u001b[0;32mraise\u001b[0m\u001b[0;34m\u001b[0m\u001b[0;34m\u001b[0m\u001b[0m\n",
            "\u001b[0;31mAnalysisException\u001b[0m: Resolved attribute(s) count#781L missing from user_id#16,item_id#17,rating#18,timestamp#19 in operator !Filter (count#781L > cast(15 as bigint)).;\n!Filter (count#781L > cast(15 as bigint))\n+- Relation[user_id#16,item_id#17,rating#18,timestamp#19] csv\n"
          ]
        }
      ]
    },
    {
      "cell_type": "code",
      "metadata": {
        "id": "TCMuJKbtdFPm"
      },
      "source": [
        ""
      ],
      "execution_count": null,
      "outputs": []
    },
    {
      "cell_type": "code",
      "metadata": {
        "id": "oYJxrrpLdFPn"
      },
      "source": [
        ""
      ],
      "execution_count": null,
      "outputs": []
    }
  ]
}