{
  "nbformat": 4,
  "nbformat_minor": 0,
  "metadata": {
    "kernelspec": {
      "display_name": "Python 3",
      "language": "python",
      "name": "python3"
    },
    "language_info": {
      "codemirror_mode": {
        "name": "ipython",
        "version": 3
      },
      "file_extension": ".py",
      "mimetype": "text/x-python",
      "name": "python",
      "nbconvert_exporter": "python",
      "pygments_lexer": "ipython3",
      "version": "3.9.2"
    },
    "colab": {
      "name": "Spark_-_Basic_Queries.ipynb",
      "provenance": [],
      "include_colab_link": true
    }
  },
  "cells": [
    {
      "cell_type": "markdown",
      "metadata": {
        "id": "view-in-github",
        "colab_type": "text"
      },
      "source": [
        "<a href=\"https://colab.research.google.com/github/melodyrous/MIASHS2/blob/main/donnees_massives/spark/Spark_-_Basic_Queries.ipynb\" target=\"_parent\"><img src=\"https://colab.research.google.com/assets/colab-badge.svg\" alt=\"Open In Colab\"/></a>"
      ]
    },
    {
      "cell_type": "markdown",
      "metadata": {
        "id": "vGgfvaIzdFPZ"
      },
      "source": [
        "# Importing Spark"
      ]
    },
    {
      "cell_type": "code",
      "metadata": {
        "colab": {
          "base_uri": "https://localhost:8080/"
        },
        "id": "ZFK3lRb3dFPc",
        "outputId": "e2a89878-7650-49f3-ab77-01690bd6cba6"
      },
      "source": [
        "# install Java JDK 8\n",
        "# install SPARK\n",
        "# install pyspark\n",
        "# eventually consider pyspark\n",
        "# eventuelly consider SPARK_HOME, or SPARK_PATH, etc.\n",
        "!pip install pyspark"
      ],
      "execution_count": 50,
      "outputs": [
        {
          "output_type": "stream",
          "name": "stdout",
          "text": [
            "Requirement already satisfied: pyspark in /usr/local/lib/python3.7/dist-packages (3.1.2)\n",
            "Requirement already satisfied: py4j==0.10.9 in /usr/local/lib/python3.7/dist-packages (from pyspark) (0.10.9)\n"
          ]
        }
      ]
    },
    {
      "cell_type": "markdown",
      "metadata": {
        "id": "8dgUvskldsOg"
      },
      "source": [
        ""
      ]
    },
    {
      "cell_type": "code",
      "metadata": {
        "id": "ZNsvoFwPdFPf"
      },
      "source": [
        "import pyspark\n",
        "from pyspark import SparkContext\n",
        "from pyspark.sql import SparkSession\n",
        "\n",
        "sc = SparkContext.getOrCreate()\n",
        "spark = SparkSession.builder.appName(\"Python Spark\").getOrCreate()"
      ],
      "execution_count": 51,
      "outputs": []
    },
    {
      "cell_type": "markdown",
      "metadata": {
        "id": "H_c_qQZ9dFPf"
      },
      "source": [
        "# Loading the data"
      ]
    },
    {
      "cell_type": "code",
      "metadata": {
        "id": "j_StMW37dFPg"
      },
      "source": [
        "df_ratings = spark.read\\\n",
        "    .option(\"delimiter\", \"\\t\")\\\n",
        "    .option(\"header\", \"true\")\\\n",
        "    .option(\"inferSchema\", \"true\")\\\n",
        "    .csv('u.data')"
      ],
      "execution_count": 52,
      "outputs": []
    },
    {
      "cell_type": "code",
      "metadata": {
        "colab": {
          "base_uri": "https://localhost:8080/"
        },
        "id": "l5Z2AlcDdFPg",
        "outputId": "a5db26a5-923a-40cb-c4c1-b6ec11fff5fd"
      },
      "source": [
        "# print the dataframe schema\n",
        "df_ratings.printSchema()"
      ],
      "execution_count": 53,
      "outputs": [
        {
          "output_type": "stream",
          "name": "stdout",
          "text": [
            "root\n",
            " |-- user_id: integer (nullable = true)\n",
            " |-- item_id: integer (nullable = true)\n",
            " |-- rating: integer (nullable = true)\n",
            " |-- timestamp: integer (nullable = true)\n",
            "\n"
          ]
        }
      ]
    },
    {
      "cell_type": "code",
      "metadata": {
        "colab": {
          "base_uri": "https://localhost:8080/"
        },
        "id": "NUw-zPKRdFPh",
        "outputId": "acaf9f13-9568-422b-f9c3-943c69b1df31"
      },
      "source": [
        "# show a sample of the data (the dataframe executes the whole pipeline at this stage)\n",
        "df_ratings.show(5)"
      ],
      "execution_count": 54,
      "outputs": [
        {
          "output_type": "stream",
          "name": "stdout",
          "text": [
            "+-------+-------+------+---------+\n",
            "|user_id|item_id|rating|timestamp|\n",
            "+-------+-------+------+---------+\n",
            "|    196|    242|     3|881250949|\n",
            "|    186|    302|     3|891717742|\n",
            "|     22|    377|     1|878887116|\n",
            "|    244|     51|     2|880606923|\n",
            "|    166|    346|     1|886397596|\n",
            "+-------+-------+------+---------+\n",
            "only showing top 5 rows\n",
            "\n"
          ]
        }
      ]
    },
    {
      "cell_type": "code",
      "metadata": {
        "id": "lcMZhJYTdFPh"
      },
      "source": [
        "# set the rdd equivalent of the dataframe\n",
        "rdd_ratings = df_ratings.rdd"
      ],
      "execution_count": 55,
      "outputs": []
    },
    {
      "cell_type": "markdown",
      "metadata": {
        "id": "Plt-xqk_dFPi"
      },
      "source": [
        "# Basic Queries"
      ]
    },
    {
      "cell_type": "markdown",
      "metadata": {
        "id": "stgO596rdFPi"
      },
      "source": [
        "#### Exercice 1 - Number of movies per user (using RDD then Dataframe)"
      ]
    },
    {
      "cell_type": "markdown",
      "metadata": {
        "id": "R2k7wgCgdFPi"
      },
      "source": [
        "Calculer pour chaque utilisateur le nombre de films notés, et afficher le résultat pour l'un d'entre eux. Utilisez dans un premier temps les RDD puis les Dataframes."
      ]
    },
    {
      "cell_type": "code",
      "metadata": {
        "colab": {
          "base_uri": "https://localhost:8080/"
        },
        "id": "DIiWrmssgJBF",
        "outputId": "b275841a-46b6-465b-b8d5-f28e8de6b198"
      },
      "source": [
        "rdd_ratings"
      ],
      "execution_count": 56,
      "outputs": [
        {
          "output_type": "execute_result",
          "data": {
            "text/plain": [
              "MapPartitionsRDD[196] at javaToPython at NativeMethodAccessorImpl.java:0"
            ]
          },
          "metadata": {},
          "execution_count": 56
        }
      ]
    },
    {
      "cell_type": "code",
      "metadata": {
        "colab": {
          "base_uri": "https://localhost:8080/"
        },
        "id": "XkoFxiyydFPj",
        "outputId": "3a7e14a0-05e7-4153-f015-27a637e65cfc"
      },
      "source": [
        "# classical RDD approach\n",
        "result_1 = rdd_ratings.map(lambda r: (r[0], 1)).reduceByKey(lambda v1, v2: v1+v2).take(1)\n",
        "print(result_1)"
      ],
      "execution_count": 57,
      "outputs": [
        {
          "output_type": "stream",
          "name": "stdout",
          "text": [
            "[(196, 39)]\n"
          ]
        }
      ]
    },
    {
      "cell_type": "code",
      "metadata": {
        "colab": {
          "base_uri": "https://localhost:8080/"
        },
        "id": "Mw2eN9cgdFPj",
        "outputId": "db6ee7ae-f5a6-426b-b0ad-c1c3e138e7e8"
      },
      "source": [
        "# dataframe approach, filtering on the previous user to compare results\n",
        "df_ratings.filter(df_ratings.user_id == result_1[0][0]).groupBy('user_id').count().show(1)"
      ],
      "execution_count": 58,
      "outputs": [
        {
          "output_type": "stream",
          "name": "stdout",
          "text": [
            "+-------+-----+\n",
            "|user_id|count|\n",
            "+-------+-----+\n",
            "|    196|   39|\n",
            "+-------+-----+\n",
            "\n"
          ]
        }
      ]
    },
    {
      "cell_type": "markdown",
      "metadata": {
        "id": "FX92Ne0idFPk"
      },
      "source": [
        "#### Exercice 2 - Average rating per user (using RDD then Dataframe)"
      ]
    },
    {
      "cell_type": "markdown",
      "metadata": {
        "id": "0T3YaQLxdFPk"
      },
      "source": [
        "Calculer pour chaque utilisateurs la note moyenne donnée et afficher le résultat pour l'un d'entre eux. Utilisez dans un premier temps les RDD puis les Dataframes."
      ]
    },
    {
      "cell_type": "code",
      "metadata": {
        "colab": {
          "base_uri": "https://localhost:8080/"
        },
        "id": "7BOdUDEgdFPk",
        "outputId": "cbd2bc28-147a-4079-9030-1d685358f614"
      },
      "source": [
        "# RDD\n",
        "# classical RDD approach\n",
        "rdd_map = rdd_ratings.map(lambda r: (r[0], int(r[2])))\n",
        "rdd_agg = rdd_map.aggregateByKey(\n",
        "    (0, 0), # initialise les valeurs pour chacun des users\n",
        "    lambda a,b: (a[0] + b,    a[1] + 1), # combine deux lignes\n",
        "    lambda a,b: (a[0] + b[0], a[1] + b[1]) # combine deux partitions\n",
        ")\n",
        "\n",
        "rdd_result = rdd_agg.mapValues(lambda v: float(v[0])/v[1])\n",
        "\n",
        "result_1 = rdd_result.take(1)\n",
        "print(result_1)"
      ],
      "execution_count": 59,
      "outputs": [
        {
          "output_type": "stream",
          "name": "stdout",
          "text": [
            "[(196, 3.6153846153846154)]\n"
          ]
        }
      ]
    },
    {
      "cell_type": "code",
      "metadata": {
        "colab": {
          "base_uri": "https://localhost:8080/"
        },
        "id": "qH0diwnTdFPl",
        "outputId": "9c2ebe43-2068-43a0-c0d5-92e9795ae335"
      },
      "source": [
        "# dataframe approach\n",
        "df_ratings.filter(df_ratings.user_id == result_1[0][0]).groupBy(\"user_id\").mean().show(1) \n",
        "#or\n",
        "\n",
        "from pyspark.sql.functions import avg\n",
        "\n",
        "df_ratings.filter(df_ratings['user_id']==result_1[0][0])\\\n",
        "    .groupBy('user_id')\\\n",
        "    .agg(avg('rating'))\\\n",
        "    .show(1)"
      ],
      "execution_count": 60,
      "outputs": [
        {
          "output_type": "stream",
          "name": "stdout",
          "text": [
            "+-------+------------+-----------------+------------------+-------------------+\n",
            "|user_id|avg(user_id)|     avg(item_id)|       avg(rating)|     avg(timestamp)|\n",
            "+-------+------------+-----------------+------------------+-------------------+\n",
            "|    196|       196.0|375.8205128205128|3.6153846153846154|8.812517328461539E8|\n",
            "+-------+------------+-----------------+------------------+-------------------+\n",
            "\n",
            "+-------+------------------+\n",
            "|user_id|       avg(rating)|\n",
            "+-------+------------------+\n",
            "|    196|3.6153846153846154|\n",
            "+-------+------------------+\n",
            "\n"
          ]
        }
      ]
    },
    {
      "cell_type": "markdown",
      "metadata": {
        "id": "zMDq2T-SdFPl"
      },
      "source": [
        "#### Exercice 3 - Top-5 movies with at least 15 votes (Dataframe)"
      ]
    },
    {
      "cell_type": "markdown",
      "metadata": {
        "id": "YMk4NL6-dFPl"
      },
      "source": [
        "Afficher les 5 meilleurs films parmi ceux qui ont reçu au moins 15 votes."
      ]
    },
    {
      "cell_type": "markdown",
      "metadata": {
        "id": "aFGm2URwdFPl"
      },
      "source": [
        "*Indices:*\n",
        "* Utiliser df_ratings pour calculer la moyenne, filtrer les films qui ont moins de 15 notes et classer les films par ordre décroissant.\n",
        "* Faire un join avec df_movies pour afficher le nom des films sélectionnés."
      ]
    },
    {
      "cell_type": "code",
      "metadata": {
        "id": "NGt3npTVdFPm"
      },
      "source": [
        "df_items = spark.read\\\n",
        "    .option(\"delimiter\", \"|\")\\\n",
        "    .option(\"header\", \"true\")\\\n",
        "    .option(\"inferSchema\", \"true\")\\\n",
        "    .csv('u.item')"
      ],
      "execution_count": 61,
      "outputs": []
    },
    {
      "cell_type": "code",
      "metadata": {
        "colab": {
          "base_uri": "https://localhost:8080/"
        },
        "id": "ArkmQFw4dFPm",
        "outputId": "2d0aeb5e-ad4b-4f21-fe58-67e92018959e"
      },
      "source": [
        "df_items.printSchema()"
      ],
      "execution_count": 62,
      "outputs": [
        {
          "output_type": "stream",
          "name": "stdout",
          "text": [
            "root\n",
            " |-- movie_id: integer (nullable = true)\n",
            " |-- movie_title: string (nullable = true)\n",
            " |-- release_date: string (nullable = true)\n",
            " |-- video_release_date: string (nullable = true)\n",
            " |-- IMDb_url: string (nullable = true)\n",
            " |-- unknown: integer (nullable = true)\n",
            " |-- action: integer (nullable = true)\n",
            " |-- adventure: integer (nullable = true)\n",
            " |-- animation: integer (nullable = true)\n",
            " |-- children\\s: integer (nullable = true)\n",
            " |-- comedy: integer (nullable = true)\n",
            " |-- crime: integer (nullable = true)\n",
            " |-- documentary: integer (nullable = true)\n",
            " |-- drama: integer (nullable = true)\n",
            " |-- fantasy: integer (nullable = true)\n",
            " |-- film-noir: integer (nullable = true)\n",
            " |-- horror: integer (nullable = true)\n",
            " |-- musical: integer (nullable = true)\n",
            " |-- mystery: integer (nullable = true)\n",
            " |-- romance: integer (nullable = true)\n",
            " |-- sci-fi: integer (nullable = true)\n",
            " |-- thriller: integer (nullable = true)\n",
            " |-- war: integer (nullable = true)\n",
            " |-- western: integer (nullable = true)\n",
            "\n"
          ]
        }
      ]
    },
    {
      "cell_type": "code",
      "metadata": {
        "colab": {
          "base_uri": "https://localhost:8080/"
        },
        "id": "nQi-8srYdFPm",
        "outputId": "91f00f23-9d97-4b70-bbbb-faa8181b4805"
      },
      "source": [
        "df_items.show(1)"
      ],
      "execution_count": 63,
      "outputs": [
        {
          "output_type": "stream",
          "name": "stdout",
          "text": [
            "+--------+----------------+------------+------------------+--------------------+-------+------+---------+---------+----------+------+-----+-----------+-----+-------+---------+------+-------+-------+-------+------+--------+---+-------+\n",
            "|movie_id|     movie_title|release_date|video_release_date|            IMDb_url|unknown|action|adventure|animation|children\\s|comedy|crime|documentary|drama|fantasy|film-noir|horror|musical|mystery|romance|sci-fi|thriller|war|western|\n",
            "+--------+----------------+------------+------------------+--------------------+-------+------+---------+---------+----------+------+-----+-----------+-----+-------+---------+------+-------+-------+-------+------+--------+---+-------+\n",
            "|       1|Toy Story (1995)| 01-Jan-1995|              null|http://us.imdb.co...|      0|     0|        0|        1|         1|     1|    0|          0|    0|      0|        0|     0|      0|      0|      0|     0|       0|  0|      0|\n",
            "+--------+----------------+------------+------------------+--------------------+-------+------+---------+---------+----------+------+-----+-----------+-----+-------+---------+------+-------+-------+-------+------+--------+---+-------+\n",
            "only showing top 1 row\n",
            "\n"
          ]
        }
      ]
    },
    {
      "cell_type": "code",
      "metadata": {
        "colab": {
          "base_uri": "https://localhost:8080/",
          "height": 714
        },
        "id": "u2GJXxkWdFPm",
        "outputId": "a3e2d636-5c89-4ca2-884f-c362abdc2d68"
      },
      "source": [
        "from pyspark.sql.functions import avg, count, col, asc,desc\n",
        "\n",
        "grouped_ratings = df_ratings.groupBy(\"item_id\").agg(avg(\"rating\"), count(\"rating\"))\n",
        "grouped_ratings = grouped_ratings.filter(grouped_ratings[\"count(rating)\"]>15).join(df_items, grouped_ratings.item_id ==  df_items.movie_id,\"inner\").sort(col(\"avg(rating)\").desc()).show()\n",
        "grouped_ratings.show()\n"
      ],
      "execution_count": 92,
      "outputs": [
        {
          "output_type": "stream",
          "name": "stdout",
          "text": [
            "+-------+------------------+-------------+--------+--------------------+------------+------------------+--------------------+-------+------+---------+---------+----------+------+-----+-----------+-----+-------+---------+------+-------+-------+-------+------+--------+---+-------+\n",
            "|item_id|       avg(rating)|count(rating)|movie_id|         movie_title|release_date|video_release_date|            IMDb_url|unknown|action|adventure|animation|children\\s|comedy|crime|documentary|drama|fantasy|film-noir|horror|musical|mystery|romance|sci-fi|thriller|war|western|\n",
            "+-------+------------------+-------------+--------+--------------------+------------+------------------+--------------------+-------+------+---------+---------+----------+------+-----+-----------+-----+-------+---------+------+-------+-------+-------+------+--------+---+-------+\n",
            "|    408| 4.491071428571429|          112|     408|Close Shave, A (1...| 28-Apr-1996|              null|http://us.imdb.co...|      0|     0|        0|        1|         0|     1|    0|          0|    0|      0|        0|     0|      0|      0|      0|     0|       1|  0|      0|\n",
            "|    318| 4.466442953020135|          298|     318|Schindler's List ...| 01-Jan-1993|              null|http://us.imdb.co...|      0|     0|        0|        0|         0|     0|    0|          0|    1|      0|        0|     0|      0|      0|      0|     0|       0|  1|      0|\n",
            "|    169| 4.466101694915254|          118|     169|Wrong Trousers, T...| 01-Jan-1993|              null|http://us.imdb.co...|      0|     0|        0|        1|         0|     1|    0|          0|    0|      0|        0|     0|      0|      0|      0|     0|       0|  0|      0|\n",
            "|    483|  4.45679012345679|          243|     483|   Casablanca (1942)| 01-Jan-1942|              null|http://us.imdb.co...|      0|     0|        0|        0|         0|     0|    0|          0|    1|      0|        0|     0|      0|      0|      1|     0|       0|  1|      0|\n",
            "|    114| 4.447761194029851|           67|     114|Wallace & Gromit:...| 05-Apr-1996|              null|http://us.imdb.co...|      0|     0|        0|        1|         0|     0|    0|          0|    0|      0|        0|     0|      0|      0|      0|     0|       0|  0|      0|\n",
            "|     64| 4.445229681978798|          283|      64|Shawshank Redempt...| 01-Jan-1994|              null|http://us.imdb.co...|      0|     0|        0|        0|         0|     0|    0|          0|    1|      0|        0|     0|      0|      0|      0|     0|       0|  0|      0|\n",
            "|    603|4.3875598086124405|          209|     603|  Rear Window (1954)| 01-Jan-1954|              null|http://us.imdb.co...|      0|     0|        0|        0|         0|     0|    0|          0|    0|      0|        0|     0|      0|      1|      0|     0|       1|  0|      0|\n",
            "|     12| 4.385767790262173|          267|      12|Usual Suspects, T...| 14-Aug-1995|              null|http://us.imdb.co...|      0|     0|        0|        0|         0|     0|    1|          0|    0|      0|        0|     0|      0|      0|      0|     0|       1|  0|      0|\n",
            "|     50|4.3584905660377355|          583|      50|    Star Wars (1977)| 01-Jan-1977|              null|http://us.imdb.co...|      0|     1|        1|        0|         0|     0|    0|          0|    0|      0|        0|     0|      0|      0|      1|     1|       0|  1|      0|\n",
            "|    178|             4.344|          125|     178| 12 Angry Men (1957)| 01-Jan-1957|              null|http://us.imdb.co...|      0|     0|        0|        0|         0|     0|    0|          0|    1|      0|        0|     0|      0|      0|      0|     0|       0|  0|      0|\n",
            "|    513| 4.333333333333333|           72|     513|Third Man, The (1...| 01-Jan-1949|              null|http://us.imdb.co...|      0|     0|        0|        0|         0|     0|    0|          0|    0|      0|        0|     0|      0|      1|      0|     0|       1|  0|      0|\n",
            "|    134| 4.292929292929293|          198|     134| Citizen Kane (1941)| 01-Jan-1941|              null|http://us.imdb.co...|      0|     0|        0|        0|         0|     0|    0|          0|    1|      0|        0|     0|      0|      0|      0|     0|       0|  0|      0|\n",
            "|    963|4.2926829268292686|           41|     963|Some Folks Call I...| 01-Jan-1993|              null|http://us.imdb.co...|      0|     0|        0|        0|         0|     0|    0|          0|    1|      0|        0|     0|      0|      0|      0|     0|       1|  0|      0|\n",
            "|    427| 4.292237442922374|          219|     427|To Kill a Mocking...| 01-Jan-1962|              null|http://us.imdb.co...|      0|     0|        0|        0|         0|     0|    0|          0|    1|      0|        0|     0|      0|      0|      0|     0|       0|  0|      0|\n",
            "|    357| 4.291666666666667|          264|     357|One Flew Over the...| 01-Jan-1975|              null|http://us.imdb.co...|      0|     0|        0|        0|         0|     0|    0|          0|    1|      0|        0|     0|      0|      0|      0|     0|       0|  0|      0|\n",
            "|     98|  4.28974358974359|          390|      98|Silence of the La...| 01-Jan-1991|              null|http://us.imdb.co...|      0|     0|        0|        0|         0|     0|    0|          0|    1|      0|        0|     0|      0|      0|      0|     0|       1|  0|      0|\n",
            "|    480| 4.284916201117318|          179|     480|North by Northwes...| 01-Jan-1959|              null|http://us.imdb.co...|      0|     0|        0|        0|         0|     1|    0|          0|    0|      0|        0|     0|      0|      0|      0|     0|       1|  0|      0|\n",
            "|    127| 4.283292978208232|          413|     127|Godfather, The (1...| 01-Jan-1972|              null|http://us.imdb.co...|      0|     1|        0|        0|         0|     0|    1|          0|    1|      0|        0|     0|      0|      0|      0|     0|       0|  0|      0|\n",
            "|    285| 4.265432098765432|          162|     285|Secrets & Lies (1...| 04-Oct-1996|              null|http://us.imdb.co...|      0|     0|        0|        0|         0|     0|    0|          0|    1|      0|        0|     0|      0|      0|      0|     0|       0|  0|      0|\n",
            "|    272| 4.262626262626263|          198|     272|Good Will Hunting...| 01-Jan-1997|              null|http://us.imdb.co...|      0|     0|        0|        0|         0|     0|    0|          0|    1|      0|        0|     0|      0|      0|      0|     0|       0|  0|      0|\n",
            "+-------+------------------+-------------+--------+--------------------+------------+------------------+--------------------+-------+------+---------+---------+----------+------+-----+-----------+-----+-------+---------+------+-------+-------+-------+------+--------+---+-------+\n",
            "only showing top 20 rows\n",
            "\n"
          ]
        },
        {
          "output_type": "error",
          "ename": "AttributeError",
          "evalue": "ignored",
          "traceback": [
            "\u001b[0;31m---------------------------------------------------------------------------\u001b[0m",
            "\u001b[0;31mAttributeError\u001b[0m                            Traceback (most recent call last)",
            "\u001b[0;32m<ipython-input-92-1f3daf4d7aec>\u001b[0m in \u001b[0;36m<module>\u001b[0;34m()\u001b[0m\n\u001b[1;32m      3\u001b[0m \u001b[0mgrouped_ratings\u001b[0m \u001b[0;34m=\u001b[0m \u001b[0mdf_ratings\u001b[0m\u001b[0;34m.\u001b[0m\u001b[0mgroupBy\u001b[0m\u001b[0;34m(\u001b[0m\u001b[0;34m\"item_id\"\u001b[0m\u001b[0;34m)\u001b[0m\u001b[0;34m.\u001b[0m\u001b[0magg\u001b[0m\u001b[0;34m(\u001b[0m\u001b[0mavg\u001b[0m\u001b[0;34m(\u001b[0m\u001b[0;34m\"rating\"\u001b[0m\u001b[0;34m)\u001b[0m\u001b[0;34m,\u001b[0m \u001b[0mcount\u001b[0m\u001b[0;34m(\u001b[0m\u001b[0;34m\"rating\"\u001b[0m\u001b[0;34m)\u001b[0m\u001b[0;34m)\u001b[0m\u001b[0;34m\u001b[0m\u001b[0;34m\u001b[0m\u001b[0m\n\u001b[1;32m      4\u001b[0m \u001b[0mgrouped_ratings\u001b[0m \u001b[0;34m=\u001b[0m \u001b[0mgrouped_ratings\u001b[0m\u001b[0;34m.\u001b[0m\u001b[0mfilter\u001b[0m\u001b[0;34m(\u001b[0m\u001b[0mgrouped_ratings\u001b[0m\u001b[0;34m[\u001b[0m\u001b[0;34m\"count(rating)\"\u001b[0m\u001b[0;34m]\u001b[0m\u001b[0;34m>\u001b[0m\u001b[0;36m15\u001b[0m\u001b[0;34m)\u001b[0m\u001b[0;34m.\u001b[0m\u001b[0mjoin\u001b[0m\u001b[0;34m(\u001b[0m\u001b[0mdf_items\u001b[0m\u001b[0;34m,\u001b[0m \u001b[0mgrouped_ratings\u001b[0m\u001b[0;34m.\u001b[0m\u001b[0mitem_id\u001b[0m \u001b[0;34m==\u001b[0m  \u001b[0mdf_items\u001b[0m\u001b[0;34m.\u001b[0m\u001b[0mmovie_id\u001b[0m\u001b[0;34m,\u001b[0m\u001b[0;34m\"inner\"\u001b[0m\u001b[0;34m)\u001b[0m\u001b[0;34m.\u001b[0m\u001b[0msort\u001b[0m\u001b[0;34m(\u001b[0m\u001b[0mcol\u001b[0m\u001b[0;34m(\u001b[0m\u001b[0;34m\"avg(rating)\"\u001b[0m\u001b[0;34m)\u001b[0m\u001b[0;34m.\u001b[0m\u001b[0mdesc\u001b[0m\u001b[0;34m(\u001b[0m\u001b[0;34m)\u001b[0m\u001b[0;34m)\u001b[0m\u001b[0;34m.\u001b[0m\u001b[0mshow\u001b[0m\u001b[0;34m(\u001b[0m\u001b[0;34m)\u001b[0m\u001b[0;34m\u001b[0m\u001b[0;34m\u001b[0m\u001b[0m\n\u001b[0;32m----> 5\u001b[0;31m \u001b[0mgrouped_ratings\u001b[0m\u001b[0;34m.\u001b[0m\u001b[0mshow\u001b[0m\u001b[0;34m(\u001b[0m\u001b[0;34m)\u001b[0m\u001b[0;34m\u001b[0m\u001b[0;34m\u001b[0m\u001b[0m\n\u001b[0m",
            "\u001b[0;31mAttributeError\u001b[0m: 'NoneType' object has no attribute 'show'"
          ]
        }
      ]
    },
    {
      "cell_type": "code",
      "metadata": {
        "colab": {
          "base_uri": "https://localhost:8080/"
        },
        "id": "TCMuJKbtdFPm",
        "outputId": "bb38cd4a-2a75-4a42-ef34-60b8aa8db039"
      },
      "source": [
        ""
      ],
      "execution_count": 89,
      "outputs": [
        {
          "output_type": "stream",
          "name": "stdout",
          "text": [
            "+-------+------------------+-------------+--------+--------------------+------------+------------------+--------------------+-------+------+---------+---------+----------+------+-----+-----------+-----+-------+---------+------+-------+-------+-------+------+--------+---+-------+\n",
            "|item_id|       avg(rating)|count(rating)|movie_id|         movie_title|release_date|video_release_date|            IMDb_url|unknown|action|adventure|animation|children\\s|comedy|crime|documentary|drama|fantasy|film-noir|horror|musical|mystery|romance|sci-fi|thriller|war|western|\n",
            "+-------+------------------+-------------+--------+--------------------+------------+------------------+--------------------+-------+------+---------+---------+----------+------+-----+-----------+-----+-------+---------+------+-------+-------+-------+------+--------+---+-------+\n",
            "|    496| 4.121212121212121|          231|     496|It's a Wonderful ...| 01-Jan-1946|              null|http://us.imdb.co...|      0|     0|        0|        0|         0|     0|    0|          0|    1|      0|        0|     0|      0|      0|      0|     0|       0|  0|      0|\n",
            "|    471|3.6108597285067874|          221|     471|Courage Under Fir...| 08-Mar-1996|              null|http://us.imdb.co...|      0|     0|        0|        0|         0|     0|    0|          0|    1|      0|        0|     0|      0|      0|      0|     0|       0|  1|      0|\n",
            "|    463| 3.859154929577465|           71|     463|Secret of Roan In...| 01-Jan-1994|              null|http://us.imdb.co...|      0|     0|        1|        0|         0|     0|    0|          0|    0|      0|        0|     0|      0|      0|      0|     0|       0|  0|      0|\n",
            "|    148|          3.203125|          128|     148|Ghost and the Dar...| 11-Oct-1996|              null|http://us.imdb.co...|      0|     1|        1|        0|         0|     0|    0|          0|    0|      0|        0|     0|      0|      0|      0|     0|       0|  0|      0|\n",
            "|    833| 3.204081632653061|           49|     833|  Bulletproof (1996)| 06-Sep-1996|              null|http://us.imdb.co...|      0|     1|        0|        0|         0|     0|    0|          0|    0|      0|        0|     0|      0|      0|      0|     0|       0|  0|      0|\n",
            "|    392|3.5441176470588234|           68|     392|Man Without a Fac...| 01-Jan-1993|              null|http://us.imdb.co...|      0|     0|        0|        0|         0|     0|    0|          0|    1|      0|        0|     0|      0|      0|      0|     0|       0|  0|      0|\n",
            "|    623| 2.923076923076923|           39|     623|Angels in the Out...| 01-Jan-1994|              null|http://us.imdb.co...|      0|     0|        0|        0|         1|     1|    0|          0|    0|      0|        0|     0|      0|      0|      0|     0|       0|  0|      0|\n",
            "|    540| 2.511627906976744|           43|     540|  Money Train (1995)| 01-Jan-1995|              null|http://us.imdb.co...|      0|     1|        0|        0|         0|     0|    0|          0|    0|      0|        0|     0|      0|      0|      0|     0|       0|  0|      0|\n",
            "|    737| 2.983050847457627|           59|     737|       Sirens (1994)| 01-Jan-1994|              null|http://us.imdb.co...|      0|     0|        0|        0|         0|     1|    0|          0|    1|      0|        0|     0|      0|      0|      0|     0|       0|  0|      0|\n",
            "|    243|2.4393939393939394|          132|     243|Jungle2Jungle (1997)| 07-Mar-1997|              null|http://us.imdb.co...|      0|     0|        0|        0|         1|     1|    0|          0|    0|      0|        0|     0|      0|      0|      0|     0|       0|  0|      0|\n",
            "|   1025|2.9318181818181817|           44|    1025|Fire Down Below (...| 01-Jan-1997|              null|http://us.imdb.co...|      0|     1|        0|        0|         0|     0|    0|          0|    1|      0|        0|     0|      0|      0|      0|     0|       1|  0|      0|\n",
            "|   1084| 3.857142857142857|           21|    1084|Anne Frank Rememb...| 23-Feb-1996|              null|http://us.imdb.co...|      0|     0|        0|        0|         0|     0|    0|          1|    0|      0|        0|     0|      0|      0|      0|     0|       0|  0|      0|\n",
            "|    516|3.9682539682539684|           63|     516|   Local Hero (1983)| 01-Jan-1983|              null|http://us.imdb.co...|      0|     0|        0|        0|         0|     1|    0|          0|    0|      0|        0|     0|      0|      0|      0|     0|       0|  0|      0|\n",
            "|   1139| 2.606060606060606|           33|    1139|      Hackers (1995)| 01-Jan-1995|              null|http://us.imdb.co...|      0|     1|        0|        0|         0|     0|    1|          0|    0|      0|        0|     0|      0|      0|      0|     0|       1|  0|      0|\n",
            "|     31|3.6298701298701297|          154|      31| Crimson Tide (1995)| 01-Jan-1995|              null|http://us.imdb.co...|      0|     0|        0|        0|         0|     0|    0|          0|    1|      0|        0|     0|      0|      0|      0|     0|       1|  1|      0|\n",
            "|   1303|2.3333333333333335|           18|    1303| Getaway, The (1994)| 01-Jan-1994|              null|http://us.imdb.co...|      0|     1|        0|        0|         0|     0|    0|          0|    0|      0|        0|     0|      0|      0|      0|     0|       0|  0|      0|\n",
            "|    451| 3.347058823529412|          170|     451|       Grease (1978)| 01-Jan-1978|              null|http://us.imdb.co...|      0|     0|        0|        0|         0|     1|    0|          0|    0|      0|        0|     0|      1|      0|      1|     0|       0|  0|      0|\n",
            "|    137|3.9005847953216373|          171|     137|    Big Night (1996)| 20-Sep-1996|              null|http://us.imdb.co...|      0|     0|        0|        0|         0|     0|    0|          0|    1|      0|        0|     0|      0|      0|      0|     0|       0|  0|      0|\n",
            "|    251| 4.260869565217392|           46|     251|Shall We Dance? (...| 11-Jul-1997|              null|http://us.imdb.co...|      0|     0|        0|        0|         0|     1|    0|          0|    0|      0|        0|     0|      0|      0|      0|     0|       0|  0|      0|\n",
            "|     85|3.0344827586206895|           58|      85|     Ref, The (1994)| 01-Jan-1994|              null|http://us.imdb.co...|      0|     0|        0|        0|         0|     1|    0|          0|    0|      0|        0|     0|      0|      0|      0|     0|       0|  0|      0|\n",
            "+-------+------------------+-------------+--------+--------------------+------------+------------------+--------------------+-------+------+---------+---------+----------+------+-----+-----------+-----+-------+---------+------+-------+-------+-------+------+--------+---+-------+\n",
            "only showing top 20 rows\n",
            "\n"
          ]
        }
      ]
    },
    {
      "cell_type": "code",
      "metadata": {
        "id": "oYJxrrpLdFPn"
      },
      "source": [
        ""
      ],
      "execution_count": null,
      "outputs": []
    }
  ]
}