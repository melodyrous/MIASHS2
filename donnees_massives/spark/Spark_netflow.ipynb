{
  "nbformat": 4,
  "nbformat_minor": 0,
  "metadata": {
    "kernelspec": {
      "display_name": "Python 3",
      "language": "python",
      "name": "python3"
    },
    "language_info": {
      "codemirror_mode": {
        "name": "ipython",
        "version": 3
      },
      "file_extension": ".py",
      "mimetype": "text/x-python",
      "name": "python",
      "nbconvert_exporter": "python",
      "pygments_lexer": "ipython3",
      "version": "3.9.2"
    },
    "colab": {
      "name": "Spark_-_machine_learning_pipeline_SPAM_detector.ipynb",
      "provenance": [],
      "include_colab_link": true
    }
  },
  "cells": [
    {
      "cell_type": "markdown",
      "metadata": {
        "id": "view-in-github",
        "colab_type": "text"
      },
      "source": [
        "<a href=\"https://colab.research.google.com/github/melodyrous/MIASHS2/blob/main/donnees_massives/spark/Spark_-_machine_learning_pipeline_SPAM_detector.ipynb\" target=\"_parent\"><img src=\"https://colab.research.google.com/assets/colab-badge.svg\" alt=\"Open In Colab\"/></a>"
      ]
    },
    {
      "cell_type": "markdown",
      "metadata": {
        "id": "G7ImUECyUWBI"
      },
      "source": [
        "# Importing Spark"
      ]
    },
    {
      "cell_type": "code",
      "metadata": {
        "id": "OudJl5pkUWBK",
        "outputId": "0c34d1aa-cb9b-4f0d-ad87-e68ee8764334",
        "colab": {
          "base_uri": "https://localhost:8080/"
        }
      },
      "source": [
        "!pip install pyspark\n",
        "\n",
        "import pyspark\n",
        "\n",
        "from pyspark import SparkContext\n",
        "from pyspark.sql import SparkSession\n",
        "\n",
        "SparkContext.setSystemProperty('spark.executor.memory', '8g')\n",
        "SparkContext.setSystemProperty('spark.driver.memory', '45G')\n",
        "\n",
        "sc = SparkContext.getOrCreate()\n",
        "spark = SparkSession.builder.appName(\"Python Spark\").getOrCreate()"
      ],
      "execution_count": 23,
      "outputs": [
        {
          "output_type": "stream",
          "name": "stdout",
          "text": [
            "Requirement already satisfied: pyspark in /usr/local/lib/python3.7/dist-packages (3.1.2)\n",
            "Requirement already satisfied: py4j==0.10.9 in /usr/local/lib/python3.7/dist-packages (from pyspark) (0.10.9)\n"
          ]
        }
      ]
    },
    {
      "cell_type": "markdown",
      "metadata": {
        "id": "DrUnZB3cUWBL"
      },
      "source": [
        "# Loading and preparing the data"
      ]
    },
    {
      "cell_type": "code",
      "metadata": {
        "id": "H4UzVHMbUWBL",
        "outputId": "900d828f-8ec3-49ec-c8f6-12d0b553a83b",
        "colab": {
          "base_uri": "https://localhost:8080/"
        }
      },
      "source": [
        "from pyspark.sql.functions import monotonically_increasing_id\n",
        "\n",
        "# loading and constructing headers\n",
        "# load : data/spam.csv\n",
        "df_spam = spark.read\\\n",
        "    .option(\"delimiter\", \",\")\\\n",
        "    .option(\"header\", \"true\")\\\n",
        "    .option(\"inferSchema\", \"true\")\\\n",
        "    .csv('spam.csv')\n",
        "df_spam = df_spam.withColumn(\"id\", monotonically_increasing_id())\n",
        "df_spam.show(5)"
      ],
      "execution_count": 26,
      "outputs": [
        {
          "output_type": "stream",
          "name": "stdout",
          "text": [
            "+----+--------------------+----+----+----+---+\n",
            "|  v1|                  v2| _c2| _c3| _c4| id|\n",
            "+----+--------------------+----+----+----+---+\n",
            "| ham|Go until jurong p...|null|null|null|  0|\n",
            "| ham|Ok lar... Joking ...|null|null|null|  1|\n",
            "|spam|Free entry in 2 a...|null|null|null|  2|\n",
            "| ham|U dun say so earl...|null|null|null|  3|\n",
            "| ham|Nah I don't think...|null|null|null|  4|\n",
            "+----+--------------------+----+----+----+---+\n",
            "only showing top 5 rows\n",
            "\n"
          ]
        }
      ]
    },
    {
      "cell_type": "code",
      "metadata": {
        "id": "0HMUnn1YUWBM",
        "outputId": "428b2108-0dd8-4a76-a1f9-aa5bab150f80",
        "colab": {
          "base_uri": "https://localhost:8080/"
        }
      },
      "source": [
        "df_spam.printSchema()"
      ],
      "execution_count": 27,
      "outputs": [
        {
          "output_type": "stream",
          "name": "stdout",
          "text": [
            "root\n",
            " |-- v1: string (nullable = true)\n",
            " |-- v2: string (nullable = true)\n",
            " |-- _c2: string (nullable = true)\n",
            " |-- _c3: string (nullable = true)\n",
            " |-- _c4: string (nullable = true)\n",
            " |-- id: long (nullable = false)\n",
            "\n"
          ]
        }
      ]
    },
    {
      "cell_type": "code",
      "metadata": {
        "id": "SQ0C3wZFbhqw"
      },
      "source": [
        "df_spam.na.drop()"
      ],
      "execution_count": null,
      "outputs": []
    },
    {
      "cell_type": "code",
      "metadata": {
        "id": "_Tr-uNqca-Cd",
        "outputId": "99b3ce73-6aea-4cc4-9c00-d68f8404b7b0",
        "colab": {
          "base_uri": "https://localhost:8080/"
        }
      },
      "source": [
        "df_spam.columns"
      ],
      "execution_count": 28,
      "outputs": [
        {
          "output_type": "execute_result",
          "data": {
            "text/plain": [
              "['v1', 'v2', '_c2', '_c3', '_c4', 'id']"
            ]
          },
          "metadata": {},
          "execution_count": 28
        }
      ]
    },
    {
      "cell_type": "code",
      "metadata": {
        "id": "T11TiKACUWBN"
      },
      "source": [
        "# creating the labels as 0 and 1 instead of strings\n",
        "# and clean sms txt\n",
        "from pyspark.sql.functions import udf, col, upper\n",
        "\n",
        "# 0 if not SPAM and 1 if SPAM\n",
        "@udf\n",
        "def categorize(x):\n",
        "  v = None\n",
        "  if x == \"spam\":\n",
        "    v = 1\n",
        "  else:\n",
        "    v = 0\n",
        "  return v\n",
        "\n",
        "remove_quotes = udf(lambda x: x.replace('\"',''))\n",
        "\n",
        "df_spam = df_spam.withColumn(\"label\", categorize(col(\"v1\")).cast('float'))\n",
        "\n",
        "remove_quotes = udf(lambda x: x.replace('\"', '').replace(\"'\", \"\") if x is not None else \"\")\n",
        "\n",
        "df_spam = df_spam.withColumn(\"sms\", remove_quotes(df_spam[\"v2\"]))\n",
        "# clean text messages"
      ],
      "execution_count": 36,
      "outputs": []
    },
    {
      "cell_type": "code",
      "metadata": {
        "id": "BB8onVryUWBN",
        "outputId": "55ec6a68-2c17-4c27-a468-1a740939f022",
        "colab": {
          "base_uri": "https://localhost:8080/"
        }
      },
      "source": [
        "df_spam.show()"
      ],
      "execution_count": 37,
      "outputs": [
        {
          "output_type": "stream",
          "name": "stdout",
          "text": [
            "+----+--------------------+----+----+----+---+-----+--------------------+\n",
            "|  v1|                  v2| _c2| _c3| _c4| id|label|                 sms|\n",
            "+----+--------------------+----+----+----+---+-----+--------------------+\n",
            "| ham|Go until jurong p...|null|null|null|  0|  0.0|Go until jurong p...|\n",
            "| ham|Ok lar... Joking ...|null|null|null|  1|  0.0|Ok lar... Joking ...|\n",
            "|spam|Free entry in 2 a...|null|null|null|  2|  1.0|Free entry in 2 a...|\n",
            "| ham|U dun say so earl...|null|null|null|  3|  0.0|U dun say so earl...|\n",
            "| ham|Nah I don't think...|null|null|null|  4|  0.0|Nah I dont think ...|\n",
            "|spam|FreeMsg Hey there...|null|null|null|  5|  1.0|FreeMsg Hey there...|\n",
            "| ham|Even my brother i...|null|null|null|  6|  0.0|Even my brother i...|\n",
            "| ham|As per your reque...|null|null|null|  7|  0.0|As per your reque...|\n",
            "|spam|WINNER!! As a val...|null|null|null|  8|  1.0|WINNER!! As a val...|\n",
            "|spam|Had your mobile 1...|null|null|null|  9|  1.0|Had your mobile 1...|\n",
            "| ham|I'm gonna be home...|null|null|null| 10|  0.0|Im gonna be home ...|\n",
            "|spam|SIX chances to wi...|null|null|null| 11|  1.0|SIX chances to wi...|\n",
            "|spam|URGENT! You have ...|null|null|null| 12|  1.0|URGENT! You have ...|\n",
            "| ham|I've been searchi...|null|null|null| 13|  0.0|Ive been searchin...|\n",
            "| ham|I HAVE A DATE ON ...|null|null|null| 14|  0.0|I HAVE A DATE ON ...|\n",
            "|spam|XXXMobileMovieClu...|null|null|null| 15|  1.0|XXXMobileMovieClu...|\n",
            "| ham|Oh k...i'm watchi...|null|null|null| 16|  0.0|Oh k...im watchin...|\n",
            "| ham|Eh u remember how...|null|null|null| 17|  0.0|Eh u remember how...|\n",
            "| ham|Fine if that��s t...|null|null|null| 18|  0.0|Fine if that��s t...|\n",
            "|spam|England v Macedon...|null|null|null| 19|  1.0|England v Macedon...|\n",
            "+----+--------------------+----+----+----+---+-----+--------------------+\n",
            "only showing top 20 rows\n",
            "\n"
          ]
        }
      ]
    },
    {
      "cell_type": "markdown",
      "metadata": {
        "id": "TVIy0z0MUWBO"
      },
      "source": [
        "# Train test split"
      ]
    },
    {
      "cell_type": "code",
      "metadata": {
        "id": "wIAkLSyUUWBO",
        "outputId": "cb0f9932-fe25-40ec-e3e0-5a936c3caa92",
        "colab": {
          "base_uri": "https://localhost:8080/"
        }
      },
      "source": [
        "print(df_spam.count())\n",
        "test_sample = df_spam.sample(fraction=.2)\n",
        "print(sample.count())\n",
        "train_sample = df_spam.join(sample, on=\"id\", how='anti')\n",
        "print(train_sample.count())\n"
      ],
      "execution_count": 51,
      "outputs": [
        {
          "output_type": "stream",
          "name": "stdout",
          "text": [
            "5574\n",
            "1111\n",
            "4463\n"
          ]
        }
      ]
    },
    {
      "cell_type": "markdown",
      "metadata": {
        "id": "PuRTmHRZUWBP"
      },
      "source": [
        "# Constructing pipeline"
      ]
    },
    {
      "cell_type": "code",
      "metadata": {
        "id": "jzxvExK8UWBP",
        "outputId": "3ead2921-a473-4894-d55d-cdd0b17119c3",
        "colab": {
          "base_uri": "https://localhost:8080/"
        }
      },
      "source": [
        "from pyspark.ml.feature import Tokenizer, CountVectorizer, HashingTF\n",
        "from pyspark.ml.classification import LogisticRegression\n",
        "from pyspark.ml import Pipeline\n",
        "# tokenizer\n",
        "\n",
        "tokenizer = Tokenizer(outputCol=\"words\")\n",
        "tokenizer.setInputCol(\"sms\")\n",
        "# df_spam = tokenizer.transform(df_spam)\n",
        "\n",
        "# df_spam.show()\n",
        "# # term frequency\n",
        "cv = CountVectorizer()\n",
        "cv.setInputCol(\"words\")\n",
        "cv.setOutputCol(\"vectors\")\n",
        "# model = cv.fit(df_spam)\n",
        "# df_spam = model.transform(df_spam)\n",
        "# df_spam.show()\n",
        "\n",
        "\n",
        "# logistic regression\n",
        "lr = LogisticRegression(featuresCol='vectors', labelCol='label', predictionCol='prediction')\n",
        "# lr_model = lr.fit(df_spam)\n",
        "# df_spam = lr_model.transform(df_spam)\n",
        "df_spam.show()\n",
        "# in a pipeline\n"
      ],
      "execution_count": 72,
      "outputs": [
        {
          "output_type": "stream",
          "name": "stdout",
          "text": [
            "+----+--------------------+----+----+----+---+-----+--------------------+--------------------+--------------------+--------------------+--------------------+----------+\n",
            "|  v1|                  v2| _c2| _c3| _c4| id|label|                 sms|               words|             vectors|       rawPrediction|         probability|prediction|\n",
            "+----+--------------------+----+----+----+---+-----+--------------------+--------------------+--------------------+--------------------+--------------------+----------+\n",
            "| ham|Go until jurong p...|null|null|null|  0|  0.0|Go until jurong p...|[go, until, juron...|(13343,[8,44,52,6...|[29.4945498874911...|[0.99999999999984...|       0.0|\n",
            "| ham|Ok lar... Joking ...|null|null|null|  1|  0.0|Ok lar... Joking ...|[ok, lar..., joki...|(13343,[5,75,401,...|[31.4324390819105...|[0.99999999999997...|       0.0|\n",
            "|spam|Free entry in 2 a...|null|null|null|  2|  1.0|Free entry in 2 a...|[free, entry, in,...|(13343,[0,3,8,22,...|[-23.132843274511...|[8.98532551535158...|       1.0|\n",
            "| ham|U dun say so earl...|null|null|null|  3|  0.0|U dun say so earl...|[u, dun, say, so,...|(13343,[5,23,62,1...|[27.3488703880757...|[0.99999999999867...|       0.0|\n",
            "| ham|Nah I don't think...|null|null|null|  4|  0.0|Nah I dont think ...|[nah, i, dont, th...|(13343,[0,1,43,68...|[24.8192045219927...|[0.99999999998336...|       0.0|\n",
            "|spam|FreeMsg Hey there...|null|null|null|  5|  1.0|FreeMsg Hey there...|[freemsg, hey, th...|(13343,[0,2,6,10,...|[-28.508934424965...|[4.15649339103630...|       1.0|\n",
            "| ham|Even my brother i...|null|null|null|  6|  0.0|Even my brother i...|[even, my, brothe...|(13343,[0,7,9,13,...|[26.6182667926094...|[0.99999999999724...|       0.0|\n",
            "| ham|As per your reque...|null|null|null|  7|  0.0|As per your reque...|[as, per, your, r...|(13343,[0,10,11,4...|[27.3434991271226...|[0.99999999999866...|       0.0|\n",
            "|spam|WINNER!! As a val...|null|null|null|  8|  1.0|WINNER!! As a val...|[winner!!, as, a,...|(13343,[0,2,3,14,...|[-22.902376723926...|[1.13142082018451...|       1.0|\n",
            "|spam|Had your mobile 1...|null|null|null|  9|  1.0|Had your mobile 1...|[had, your, mobil...|(13343,[0,4,5,10,...|[-26.097105295338...|[4.63629622718432...|       1.0|\n",
            "| ham|I'm gonna be home...|null|null|null| 10|  0.0|Im gonna be home ...|[im, gonna, be, h...|(13343,[0,1,6,21,...|[38.7193283263813...|           [1.0,0.0]|       0.0|\n",
            "|spam|SIX chances to wi...|null|null|null| 11|  1.0|SIX chances to wi...|[six, chances, to...|(13343,[0,6,41,50...|[-22.358700652457...|[1.94867621372776...|       1.0|\n",
            "|spam|URGENT! You have ...|null|null|null| 12|  1.0|URGENT! You have ...|[urgent!, you, ha...|(13343,[0,2,3,4,8...|[-22.432512951736...|[1.81002015038060...|       1.0|\n",
            "| ham|I've been searchi...|null|null|null| 13|  0.0|Ive been searchin...|[ive, been, searc...|(13343,[0,1,2,3,4...|[47.3908291049842...|           [1.0,0.0]|       0.0|\n",
            "| ham|I HAVE A DATE ON ...|null|null|null| 14|  0.0|I HAVE A DATE ON ...|[i, have, a, date...|(13343,[1,3,14,16...|[23.5165056017072...|[0.99999999993877...|       0.0|\n",
            "|spam|XXXMobileMovieClu...|null|null|null| 15|  1.0|XXXMobileMovieClu...|[xxxmobilemoviecl...|(13343,[0,4,8,11,...|[-22.765047115066...|[1.29797299728902...|       1.0|\n",
            "| ham|Oh k...i'm watchi...|null|null|null| 16|  0.0|Oh k...im watchin...|[oh, k...im, watc...|(13343,[160,313,4...|[24.5358431339290...|[0.99999999997790...|       0.0|\n",
            "| ham|Eh u remember how...|null|null|null| 17|  0.0|Eh u remember how...|[eh, u, remember,...|(13343,[1,5,22,48...|[32.7481456652418...|[0.99999999999999...|       0.0|\n",
            "| ham|Fine if that��s t...|null|null|null| 18|  0.0|Fine if that��s t...|[fine, if, that��...|(13343,[4,5,29,39...|[32.2001958420372...|[0.99999999999998...|       0.0|\n",
            "|spam|England v Macedon...|null|null|null| 19|  1.0|England v Macedon...|[england, v, mace...|(13343,[0,4,30,43...|[-27.271275242368...|[1.43296521393529...|       1.0|\n",
            "+----+--------------------+----+----+----+---+-----+--------------------+--------------------+--------------------+--------------------+--------------------+----------+\n",
            "only showing top 20 rows\n",
            "\n"
          ]
        }
      ]
    },
    {
      "cell_type": "code",
      "metadata": {
        "id": "F8Z6bNMgsk8i"
      },
      "source": [
        "tokenizer = Tokenizer(outputCol=\"words\", inputCol=\"sms\")\n",
        "cv = CountVectorizer(inputCol=tokenizer.getOutputCol(), outputCol=\"vectors\")\n",
        "lr = LogisticRegression(featuresCol=cv.getOutputCol(), labelCol='label', predictionCol='prediction')\n",
        "pipeline = Pipeline(stages=[tokenizer, cv, lr])"
      ],
      "execution_count": 64,
      "outputs": []
    },
    {
      "cell_type": "code",
      "metadata": {
        "id": "6J0NQyq11fIl"
      },
      "source": [
        "tokenizer = Tokenizer(outputCol=\"words\", inputCol=\"sms\")\n",
        "cv = HashingTF(inputCol=tokenizer.getOutputCol(), outputCol=\"vectors\")\n",
        "lr = LogisticRegression(featuresCol=cv.getOutputCol(), labelCol='label', predictionCol='prediction')\n",
        "pipeline = Pipeline(stages=[tokenizer, cv, lr])"
      ],
      "execution_count": 73,
      "outputs": []
    },
    {
      "cell_type": "markdown",
      "metadata": {
        "id": "NWrNo9f1UWBQ"
      },
      "source": [
        "# Fitting the model"
      ]
    },
    {
      "cell_type": "code",
      "metadata": {
        "id": "UsD_sQILUWBQ"
      },
      "source": [
        "model = pipeline.fit(train_sample)"
      ],
      "execution_count": 74,
      "outputs": []
    },
    {
      "cell_type": "markdown",
      "metadata": {
        "id": "7ZkPebeZUWBQ"
      },
      "source": [
        "# Evaluation of the model"
      ]
    },
    {
      "cell_type": "code",
      "metadata": {
        "id": "WZBNn8b2UWBR",
        "outputId": "a4e102cd-d270-4331-8ef4-7b8a52708dd8",
        "colab": {
          "base_uri": "https://localhost:8080/",
          "height": 322
        }
      },
      "source": [
        "test_sample = model.transform(test_sample)"
      ],
      "execution_count": 75,
      "outputs": [
        {
          "output_type": "error",
          "ename": "IllegalArgumentException",
          "evalue": "ignored",
          "traceback": [
            "\u001b[0;31m---------------------------------------------------------------------------\u001b[0m",
            "\u001b[0;31mIllegalArgumentException\u001b[0m                  Traceback (most recent call last)",
            "\u001b[0;32m<ipython-input-75-971d1d55e67c>\u001b[0m in \u001b[0;36m<module>\u001b[0;34m()\u001b[0m\n\u001b[0;32m----> 1\u001b[0;31m \u001b[0mtest_sample\u001b[0m \u001b[0;34m=\u001b[0m \u001b[0mmodel\u001b[0m\u001b[0;34m.\u001b[0m\u001b[0mtransform\u001b[0m\u001b[0;34m(\u001b[0m\u001b[0mtest_sample\u001b[0m\u001b[0;34m)\u001b[0m\u001b[0;34m\u001b[0m\u001b[0;34m\u001b[0m\u001b[0m\n\u001b[0m",
            "\u001b[0;32m/usr/local/lib/python3.7/dist-packages/pyspark/ml/base.py\u001b[0m in \u001b[0;36mtransform\u001b[0;34m(self, dataset, params)\u001b[0m\n\u001b[1;32m    215\u001b[0m                 \u001b[0;32mreturn\u001b[0m \u001b[0mself\u001b[0m\u001b[0;34m.\u001b[0m\u001b[0mcopy\u001b[0m\u001b[0;34m(\u001b[0m\u001b[0mparams\u001b[0m\u001b[0;34m)\u001b[0m\u001b[0;34m.\u001b[0m\u001b[0m_transform\u001b[0m\u001b[0;34m(\u001b[0m\u001b[0mdataset\u001b[0m\u001b[0;34m)\u001b[0m\u001b[0;34m\u001b[0m\u001b[0;34m\u001b[0m\u001b[0m\n\u001b[1;32m    216\u001b[0m             \u001b[0;32melse\u001b[0m\u001b[0;34m:\u001b[0m\u001b[0;34m\u001b[0m\u001b[0;34m\u001b[0m\u001b[0m\n\u001b[0;32m--> 217\u001b[0;31m                 \u001b[0;32mreturn\u001b[0m \u001b[0mself\u001b[0m\u001b[0;34m.\u001b[0m\u001b[0m_transform\u001b[0m\u001b[0;34m(\u001b[0m\u001b[0mdataset\u001b[0m\u001b[0;34m)\u001b[0m\u001b[0;34m\u001b[0m\u001b[0;34m\u001b[0m\u001b[0m\n\u001b[0m\u001b[1;32m    218\u001b[0m         \u001b[0;32melse\u001b[0m\u001b[0;34m:\u001b[0m\u001b[0;34m\u001b[0m\u001b[0;34m\u001b[0m\u001b[0m\n\u001b[1;32m    219\u001b[0m             \u001b[0;32mraise\u001b[0m \u001b[0mValueError\u001b[0m\u001b[0;34m(\u001b[0m\u001b[0;34m\"Params must be a param map but got %s.\"\u001b[0m \u001b[0;34m%\u001b[0m \u001b[0mtype\u001b[0m\u001b[0;34m(\u001b[0m\u001b[0mparams\u001b[0m\u001b[0;34m)\u001b[0m\u001b[0;34m)\u001b[0m\u001b[0;34m\u001b[0m\u001b[0;34m\u001b[0m\u001b[0m\n",
            "\u001b[0;32m/usr/local/lib/python3.7/dist-packages/pyspark/ml/pipeline.py\u001b[0m in \u001b[0;36m_transform\u001b[0;34m(self, dataset)\u001b[0m\n\u001b[1;32m    276\u001b[0m     \u001b[0;32mdef\u001b[0m \u001b[0m_transform\u001b[0m\u001b[0;34m(\u001b[0m\u001b[0mself\u001b[0m\u001b[0;34m,\u001b[0m \u001b[0mdataset\u001b[0m\u001b[0;34m)\u001b[0m\u001b[0;34m:\u001b[0m\u001b[0;34m\u001b[0m\u001b[0;34m\u001b[0m\u001b[0m\n\u001b[1;32m    277\u001b[0m         \u001b[0;32mfor\u001b[0m \u001b[0mt\u001b[0m \u001b[0;32min\u001b[0m \u001b[0mself\u001b[0m\u001b[0;34m.\u001b[0m\u001b[0mstages\u001b[0m\u001b[0;34m:\u001b[0m\u001b[0;34m\u001b[0m\u001b[0;34m\u001b[0m\u001b[0m\n\u001b[0;32m--> 278\u001b[0;31m             \u001b[0mdataset\u001b[0m \u001b[0;34m=\u001b[0m \u001b[0mt\u001b[0m\u001b[0;34m.\u001b[0m\u001b[0mtransform\u001b[0m\u001b[0;34m(\u001b[0m\u001b[0mdataset\u001b[0m\u001b[0;34m)\u001b[0m\u001b[0;34m\u001b[0m\u001b[0;34m\u001b[0m\u001b[0m\n\u001b[0m\u001b[1;32m    279\u001b[0m         \u001b[0;32mreturn\u001b[0m \u001b[0mdataset\u001b[0m\u001b[0;34m\u001b[0m\u001b[0;34m\u001b[0m\u001b[0m\n\u001b[1;32m    280\u001b[0m \u001b[0;34m\u001b[0m\u001b[0m\n",
            "\u001b[0;32m/usr/local/lib/python3.7/dist-packages/pyspark/ml/base.py\u001b[0m in \u001b[0;36mtransform\u001b[0;34m(self, dataset, params)\u001b[0m\n\u001b[1;32m    215\u001b[0m                 \u001b[0;32mreturn\u001b[0m \u001b[0mself\u001b[0m\u001b[0;34m.\u001b[0m\u001b[0mcopy\u001b[0m\u001b[0;34m(\u001b[0m\u001b[0mparams\u001b[0m\u001b[0;34m)\u001b[0m\u001b[0;34m.\u001b[0m\u001b[0m_transform\u001b[0m\u001b[0;34m(\u001b[0m\u001b[0mdataset\u001b[0m\u001b[0;34m)\u001b[0m\u001b[0;34m\u001b[0m\u001b[0;34m\u001b[0m\u001b[0m\n\u001b[1;32m    216\u001b[0m             \u001b[0;32melse\u001b[0m\u001b[0;34m:\u001b[0m\u001b[0;34m\u001b[0m\u001b[0;34m\u001b[0m\u001b[0m\n\u001b[0;32m--> 217\u001b[0;31m                 \u001b[0;32mreturn\u001b[0m \u001b[0mself\u001b[0m\u001b[0;34m.\u001b[0m\u001b[0m_transform\u001b[0m\u001b[0;34m(\u001b[0m\u001b[0mdataset\u001b[0m\u001b[0;34m)\u001b[0m\u001b[0;34m\u001b[0m\u001b[0;34m\u001b[0m\u001b[0m\n\u001b[0m\u001b[1;32m    218\u001b[0m         \u001b[0;32melse\u001b[0m\u001b[0;34m:\u001b[0m\u001b[0;34m\u001b[0m\u001b[0;34m\u001b[0m\u001b[0m\n\u001b[1;32m    219\u001b[0m             \u001b[0;32mraise\u001b[0m \u001b[0mValueError\u001b[0m\u001b[0;34m(\u001b[0m\u001b[0;34m\"Params must be a param map but got %s.\"\u001b[0m \u001b[0;34m%\u001b[0m \u001b[0mtype\u001b[0m\u001b[0;34m(\u001b[0m\u001b[0mparams\u001b[0m\u001b[0;34m)\u001b[0m\u001b[0;34m)\u001b[0m\u001b[0;34m\u001b[0m\u001b[0;34m\u001b[0m\u001b[0m\n",
            "\u001b[0;32m/usr/local/lib/python3.7/dist-packages/pyspark/ml/wrapper.py\u001b[0m in \u001b[0;36m_transform\u001b[0;34m(self, dataset)\u001b[0m\n\u001b[1;32m    348\u001b[0m     \u001b[0;32mdef\u001b[0m \u001b[0m_transform\u001b[0m\u001b[0;34m(\u001b[0m\u001b[0mself\u001b[0m\u001b[0;34m,\u001b[0m \u001b[0mdataset\u001b[0m\u001b[0;34m)\u001b[0m\u001b[0;34m:\u001b[0m\u001b[0;34m\u001b[0m\u001b[0;34m\u001b[0m\u001b[0m\n\u001b[1;32m    349\u001b[0m         \u001b[0mself\u001b[0m\u001b[0;34m.\u001b[0m\u001b[0m_transfer_params_to_java\u001b[0m\u001b[0;34m(\u001b[0m\u001b[0;34m)\u001b[0m\u001b[0;34m\u001b[0m\u001b[0;34m\u001b[0m\u001b[0m\n\u001b[0;32m--> 350\u001b[0;31m         \u001b[0;32mreturn\u001b[0m \u001b[0mDataFrame\u001b[0m\u001b[0;34m(\u001b[0m\u001b[0mself\u001b[0m\u001b[0;34m.\u001b[0m\u001b[0m_java_obj\u001b[0m\u001b[0;34m.\u001b[0m\u001b[0mtransform\u001b[0m\u001b[0;34m(\u001b[0m\u001b[0mdataset\u001b[0m\u001b[0;34m.\u001b[0m\u001b[0m_jdf\u001b[0m\u001b[0;34m)\u001b[0m\u001b[0;34m,\u001b[0m \u001b[0mdataset\u001b[0m\u001b[0;34m.\u001b[0m\u001b[0msql_ctx\u001b[0m\u001b[0;34m)\u001b[0m\u001b[0;34m\u001b[0m\u001b[0;34m\u001b[0m\u001b[0m\n\u001b[0m\u001b[1;32m    351\u001b[0m \u001b[0;34m\u001b[0m\u001b[0m\n\u001b[1;32m    352\u001b[0m \u001b[0;34m\u001b[0m\u001b[0m\n",
            "\u001b[0;32m/usr/local/lib/python3.7/dist-packages/py4j/java_gateway.py\u001b[0m in \u001b[0;36m__call__\u001b[0;34m(self, *args)\u001b[0m\n\u001b[1;32m   1303\u001b[0m         \u001b[0manswer\u001b[0m \u001b[0;34m=\u001b[0m \u001b[0mself\u001b[0m\u001b[0;34m.\u001b[0m\u001b[0mgateway_client\u001b[0m\u001b[0;34m.\u001b[0m\u001b[0msend_command\u001b[0m\u001b[0;34m(\u001b[0m\u001b[0mcommand\u001b[0m\u001b[0;34m)\u001b[0m\u001b[0;34m\u001b[0m\u001b[0;34m\u001b[0m\u001b[0m\n\u001b[1;32m   1304\u001b[0m         return_value = get_return_value(\n\u001b[0;32m-> 1305\u001b[0;31m             answer, self.gateway_client, self.target_id, self.name)\n\u001b[0m\u001b[1;32m   1306\u001b[0m \u001b[0;34m\u001b[0m\u001b[0m\n\u001b[1;32m   1307\u001b[0m         \u001b[0;32mfor\u001b[0m \u001b[0mtemp_arg\u001b[0m \u001b[0;32min\u001b[0m \u001b[0mtemp_args\u001b[0m\u001b[0;34m:\u001b[0m\u001b[0;34m\u001b[0m\u001b[0;34m\u001b[0m\u001b[0m\n",
            "\u001b[0;32m/usr/local/lib/python3.7/dist-packages/pyspark/sql/utils.py\u001b[0m in \u001b[0;36mdeco\u001b[0;34m(*a, **kw)\u001b[0m\n\u001b[1;32m    115\u001b[0m                 \u001b[0;31m# Hide where the exception came from that shows a non-Pythonic\u001b[0m\u001b[0;34m\u001b[0m\u001b[0;34m\u001b[0m\u001b[0;34m\u001b[0m\u001b[0m\n\u001b[1;32m    116\u001b[0m                 \u001b[0;31m# JVM exception message.\u001b[0m\u001b[0;34m\u001b[0m\u001b[0;34m\u001b[0m\u001b[0;34m\u001b[0m\u001b[0m\n\u001b[0;32m--> 117\u001b[0;31m                 \u001b[0;32mraise\u001b[0m \u001b[0mconverted\u001b[0m \u001b[0;32mfrom\u001b[0m \u001b[0;32mNone\u001b[0m\u001b[0;34m\u001b[0m\u001b[0;34m\u001b[0m\u001b[0m\n\u001b[0m\u001b[1;32m    118\u001b[0m             \u001b[0;32melse\u001b[0m\u001b[0;34m:\u001b[0m\u001b[0;34m\u001b[0m\u001b[0;34m\u001b[0m\u001b[0m\n\u001b[1;32m    119\u001b[0m                 \u001b[0;32mraise\u001b[0m\u001b[0;34m\u001b[0m\u001b[0;34m\u001b[0m\u001b[0m\n",
            "\u001b[0;31mIllegalArgumentException\u001b[0m: Output column words already exists."
          ]
        }
      ]
    },
    {
      "cell_type": "code",
      "metadata": {
        "id": "WiLpyYhJUWBR",
        "outputId": "f2706c50-c403-4321-b841-f61383a3bc67",
        "colab": {
          "base_uri": "https://localhost:8080/"
        }
      },
      "source": [
        "test_sample.show()"
      ],
      "execution_count": 69,
      "outputs": [
        {
          "output_type": "stream",
          "name": "stdout",
          "text": [
            "+----+--------------------+----+----+----+---+-----+--------------------+--------------------+--------------------+--------------------+--------------------+----------+\n",
            "|  v1|                  v2| _c2| _c3| _c4| id|label|                 sms|               words|             vectors|       rawPrediction|         probability|prediction|\n",
            "+----+--------------------+----+----+----+---+-----+--------------------+--------------------+--------------------+--------------------+--------------------+----------+\n",
            "| ham|So �_ pay first l...|null|null|null| 22|  0.0|So �_ pay first l...|[so, �_, pay, fir...|(11679,[8,25,41,6...|[22.4166146658587...|[0.99999999981609...|       0.0|\n",
            "| ham|I see the letter ...|null|null|null| 37|  0.0|I see the letter ...|[i, see, the, let...|(11679,[1,4,9,16,...|[19.5155961878014...|[0.99999999665432...|       0.0|\n",
            "| ham|Hello! How's you ...|null|null|null| 39|  0.0|Hello! Hows you a...|[hello!, hows, yo...|(11679,[0,1,2,6,1...|[48.9622260932013...|           [1.0,0.0]|       0.0|\n",
            "|spam|07732584351 - Rod...|null|null|null| 42|  1.0|07732584351 - Rod...|[07732584351, -, ...|(11679,[0,2,3,10,...|[-20.116873816244...|[1.83380312155932...|       1.0|\n",
            "| ham|Didn't you get he...|null|null|null| 46|  0.0|Didnt you get hep...|[didnt, you, get,...|(11679,[2,7,34,13...|[14.5177736077284...|[0.99999950453746...|       0.0|\n",
            "|spam|SMS. ac Sptv: The...|null|null|null| 54|  1.0|SMS. ac Sptv: The...|[sms., ac, sptv:,...|(11679,[4,6,23,86...|[-19.950536123273...|[2.16566984646815...|       1.0|\n",
            "| ham|Sorry my roommate...|null|null|null| 63|  0.0|Sorry my roommate...|[sorry, my, roomm...|(11679,[1,9,18,31...|[30.4728083912730...|[0.99999999999994...|       0.0|\n",
            "|spam|\"Did you hear abo...|null|null|null| 68|  1.0|Did you hear abou...|[did, you, hear, ...|(11679,[2,4,12,18...|[-21.107998156130...|[6.80632803703114...|       1.0|\n",
            "| ham|K. Did you call m...|null|null|null| 81|  0.0|K. Did you call m...|[k., did, you, ca...|(11679,[2,13,15,3...|[24.0226320016072...|[0.99999999996309...|       0.0|\n",
            "| ham|Ok i am on the wa...|null|null|null| 82|  0.0|Ok i am on the wa...|[ok, i, am, on, t...|(11679,[0,1,4,16,...|[30.4072856880122...|[0.99999999999993...|       0.0|\n",
            "| ham|I call you later,...|null|null|null| 85|  0.0|I call you later,...|[i, call, you, la...|(11679,[1,2,14,15...|[20.5464567377479...|[0.99999999880659...|       0.0|\n",
            "| ham|Yeah do! Don���t ...|null|null|null| 90|  0.0|Yeah do! Don���t ...|[yeah, do!, don��...|(11679,[0,167,743...|[21.7811489334631...|[0.99999999965281...|       0.0|\n",
            "| ham|Please don't text...|null|null|null|100|  0.0|Please dont text ...|[please, dont, te...|(11679,[0,1,13,14...|[22.9829631080321...|[0.99999999989561...|       0.0|\n",
            "| ham|Okay name ur pric...|null|null|null|101|  0.0|Okay name ur pric...|[okay, name, ur, ...|(11679,[1,5,29,32...|[22.1309636551720...|[0.99999999975529...|       0.0|\n",
            "| ham|I'm still looking...|null|null|null|102|  0.0|Im still looking ...|[im, still, looki...|(11679,[0,3,6,10,...|[29.8587707866439...|[0.99999999999989...|       0.0|\n",
            "| ham|wow. You're right...|null|null|null|104|  0.0|wow. Youre right!...|[wow., youre, rig...|(11679,[0,1,6,9,1...|[41.9934592116547...|           [1.0,0.0]|       0.0|\n",
            "| ham|Thanks a lot for ...|null|null|null|106|  0.0|Thanks a lot for ...|[thanks, a, lot, ...|(11679,[2,3,9,10,...|[-1.2704036887708...|[0.21918815505922...|       1.0|\n",
            "| ham|I'm ok wif it cos...|null|null|null|113|  0.0|Im ok wif it cos ...|[im, ok, wif, it,...|(11679,[1,5,18,20...|[37.1250777331772...|           [1.0,0.0]|       0.0|\n",
            "| ham|Hmm...my uncle ju...|null|null|null|119|  0.0|Hmm...my uncle ju...|[hmm...my, uncle,...|(11679,[4,13,17,2...|[23.5666258429410...|[0.99999999994177...|       0.0|\n",
            "| ham|I am going to sao...|null|null|null|124|  0.0|I am going to sao...|[i, am, going, to...|(11679,[0,1,27,30...|[21.6949675107447...|[0.99999999962156...|       0.0|\n",
            "+----+--------------------+----+----+----+---+-----+--------------------+--------------------+--------------------+--------------------+--------------------+----------+\n",
            "only showing top 20 rows\n",
            "\n"
          ]
        }
      ]
    },
    {
      "cell_type": "code",
      "metadata": {
        "id": "_95dhVbdUWBR",
        "outputId": "0d582afe-adaf-4853-a165-ff3d3fee719e",
        "colab": {
          "base_uri": "https://localhost:8080/"
        }
      },
      "source": [
        "from pyspark.ml.evaluation import BinaryClassificationEvaluator\n",
        "\n",
        "evaluator = BinaryClassificationEvaluator()\n",
        "evaluator.setRawPredictionCol(\"prediction\")\n",
        "evaluator.setLabelCol(\"label\")\n",
        "\n",
        "evaluator.evaluate(test_sample)\n",
        "\n",
        "evaluator.evaluate(test_sample, {evaluator.metricName: \"areaUnderPR\"})"
      ],
      "execution_count": 71,
      "outputs": [
        {
          "output_type": "execute_result",
          "data": {
            "text/plain": [
              "0.9729843478332185"
            ]
          },
          "metadata": {},
          "execution_count": 71
        }
      ]
    },
    {
      "cell_type": "code",
      "metadata": {
        "id": "H0tUTh1UUWBR"
      },
      "source": [
        ""
      ],
      "execution_count": null,
      "outputs": []
    },
    {
      "cell_type": "code",
      "metadata": {
        "id": "OSYiy0_cUWBS"
      },
      "source": [
        ""
      ],
      "execution_count": null,
      "outputs": []
    }
  ]
}