{
  "nbformat": 4,
  "nbformat_minor": 5,
  "metadata": {
    "kernelspec": {
      "display_name": "Python 3",
      "language": "python",
      "name": "python3"
    },
    "language_info": {
      "codemirror_mode": {
        "name": "ipython",
        "version": 3
      },
      "file_extension": ".py",
      "mimetype": "text/x-python",
      "name": "python",
      "nbconvert_exporter": "python",
      "pygments_lexer": "ipython3",
      "version": "3.9.2"
    },
    "colab": {
      "name": "decompo_QR.ipynb",
      "provenance": []
    }
  },
  "cells": [
    {
      "cell_type": "markdown",
      "metadata": {
        "id": "95cf9aa9"
      },
      "source": [
        "# Les moindres carrés via une décomposition QR ☕️\n",
        "## I. Introduction\n",
        "\n",
        "En *data science*, nous ne faisons pas seulement face à des modèles mathématiques que nous souhaitons programmer. Nous devons aussi tenir compte du fait que les nombres que nous manipulons ont une représentation sur la machine qui les stocke. De manière paradigmatique, considérons la fonction suivante&nbsp;:\n",
        "\n",
        "$$f(x)=\\text{ln}\\big(\\text{exp}(x)\\big)=x.$$\n",
        "\n",
        "Les deux formulations sont parfaitement indentiques. Observons cela via $\\texttt{numpy}$"
      ],
      "id": "95cf9aa9"
    },
    {
      "cell_type": "code",
      "metadata": {
        "id": "a7ad126a"
      },
      "source": [
        "import numpy as np\n",
        "import matplotlib.pyplot as plt"
      ],
      "id": "a7ad126a",
      "execution_count": 1,
      "outputs": []
    },
    {
      "cell_type": "code",
      "metadata": {
        "id": "da9e0441",
        "outputId": "c18ab811-1bb3-4c5b-c904-c7d07ba1681d",
        "colab": {
          "base_uri": "https://localhost:8080/",
          "height": 519
        }
      },
      "source": [
        "x = np.linspace(0, 1000, 500)\n",
        "y_1 = np.log(np.exp(x))\n",
        "y_2 = x\n",
        "\n",
        "plt.figure(figsize=(12, 8))\n",
        "\n",
        "plt.plot(x, y_2, label=r'$x$')\n",
        "plt.plot(x, y_1, '--', label=r'$ln(exp(x))$')\n",
        "\n",
        "plt.legend()\n",
        "plt.show()"
      ],
      "id": "da9e0441",
      "execution_count": 2,
      "outputs": [
        {
          "output_type": "stream",
          "name": "stderr",
          "text": [
            "/usr/local/lib/python3.7/dist-packages/ipykernel_launcher.py:2: RuntimeWarning: overflow encountered in exp\n",
            "  \n"
          ]
        },
        {
          "output_type": "display_data",
          "data": {
            "image/png": "[encoded data removed]",
            "text/plain": [
              "<Figure size 864x576 with 1 Axes>"
            ]
          },
          "metadata": {
            "needs_background": "light"
          }
        }
      ]
    },
    {
      "cell_type": "markdown",
      "metadata": {
        "id": "dc717b0e"
      },
      "source": [
        "Nous rencontrons une erreur ! Cela vient évidemment du fait que le calcul de l'exponentielle lorsque $x$ devient trop grand induit un $\\texttt{overflow}$ que le logarithme ne peut plus interpréter. En observant $\\text{ln}\\big(\\text{exp}(x)\\big)=x$, nous avons en quelque sorte utilisé une astuce (clairement triviale ici) mathématique nous permettant d'obtenir notre résultat malgré tout. De manière similaire, nous utilisons souvent en *machine learning* la fonction *softmax*:\n",
        "\n",
        "$$\\text{softmax}(x)_j=\\frac{e^{x_j}}{\\sum_i e^{x_i}},$$\n",
        "\n",
        "notamment comme fonction de lien en *deep learning* ou en *régression logistique* afin de transformer notre vecteur de *logit* en vecteur de probabilités. Implémentons cette fonction."
      ],
      "id": "dc717b0e"
    },
    {
      "cell_type": "code",
      "metadata": {
        "id": "ed93107e",
        "outputId": "0e611cee-c7b8-453f-cfe6-f3a78c014420",
        "colab": {
          "base_uri": "https://localhost:8080/"
        }
      },
      "source": [
        "import numpy as np\n",
        "\n",
        "def softmax(x):\n",
        "    return np.exp(x)/np.exp(x).sum()\n",
        "\n",
        "x = [10, 12]\n",
        "print('Softmax [10, 12]:', softmax(x))\n",
        "\n",
        "x = [-10, 12]\n",
        "print('Softmax [-10, 12]:', softmax(x))\n",
        "\n",
        "x = [748, 750]\n",
        "print('Softmax [748, 750]:', softmax(x))\n"
      ],
      "id": "ed93107e",
      "execution_count": 3,
      "outputs": [
        {
          "output_type": "stream",
          "name": "stdout",
          "text": [
            "Softmax [10, 12]: [0.11920292 0.88079708]\n",
            "Softmax [-10, 12]: [2.78946809e-10 1.00000000e+00]\n",
            "Softmax [748, 750]: [nan nan]\n"
          ]
        },
        {
          "output_type": "stream",
          "name": "stderr",
          "text": [
            "/usr/local/lib/python3.7/dist-packages/ipykernel_launcher.py:4: RuntimeWarning: overflow encountered in exp\n",
            "  after removing the cwd from sys.path.\n",
            "/usr/local/lib/python3.7/dist-packages/ipykernel_launcher.py:4: RuntimeWarning: invalid value encountered in true_divide\n",
            "  after removing the cwd from sys.path.\n"
          ]
        }
      ]
    },
    {
      "cell_type": "markdown",
      "metadata": {
        "id": "2e80f050"
      },
      "source": [
        "Le calcul de l'exponentielle de $750$ entraîne à nouveau un $\\texttt{overflow}$ et nous empêche de calculer le *softmax*. La stratégie consiste à réduire la taille du plus grand nombre que notre exponentielle devra calculer de la manière suivante&nbsp;:\n",
        "\n",
        "$$\\text{softmax}(x)_j=\\frac{e^{x_j}}{\\sum_i e^{x_i}}=\\frac{e^{x_j}}{\\sum_i e^{x_i}}\\frac{e^{-\\text{max}(x)}}{e^{-\\text{max}(x)}}=\\frac{e^{x_j-\\text{max}(x)}}{\\sum_i e^{x_i-\\text{max}(x)}}.$$\n",
        "\n",
        "Réimplémentons notre *softmax*."
      ],
      "id": "2e80f050"
    },
    {
      "cell_type": "code",
      "metadata": {
        "id": "0d0f04f0",
        "outputId": "a232e2cf-4773-40b8-fbe3-1ceac566b3a6",
        "colab": {
          "base_uri": "https://localhost:8080/"
        }
      },
      "source": [
        "import numpy as np\n",
        "\n",
        "def softmax(x):\n",
        "    return np.exp(x-np.max(x))/np.exp(x-np.max(x)).sum()\n",
        "\n",
        "x = [10, 12]\n",
        "print('Softmax [10, 12]:', softmax(x))\n",
        "\n",
        "x = [-10, 12]\n",
        "print('Softmax [-10, 12]:', softmax(x))\n",
        "\n",
        "x = [748, 750]\n",
        "print('Softmax [748, 750]:', softmax(x))\n",
        "\n"
      ],
      "id": "0d0f04f0",
      "execution_count": 4,
      "outputs": [
        {
          "output_type": "stream",
          "name": "stdout",
          "text": [
            "Softmax [10, 12]: [0.11920292 0.88079708]\n",
            "Softmax [-10, 12]: [2.78946809e-10 1.00000000e+00]\n",
            "Softmax [748, 750]: [0.11920292 0.88079708]\n"
          ]
        }
      ]
    },
    {
      "cell_type": "markdown",
      "metadata": {
        "id": "2bac52c9"
      },
      "source": [
        "De très nombreuses astuces de ce type existent et sont implémentées dans les différents *frameworks*.\n",
        "\n",
        "C'est exactement cela que nous voulons faire avec les moindres carrés via une décomposition QR. Calculer notre estimateur des moindres carrés est beaucoup plus stable après une décomposition QR que dans sa formulation telle que nous l'avons vue."
      ],
      "id": "2bac52c9"
    },
    {
      "cell_type": "markdown",
      "metadata": {
        "id": "FqpezuylwDPQ"
      },
      "source": [
        "\n",
        "\n",
        "---\n",
        "\n"
      ],
      "id": "FqpezuylwDPQ"
    },
    {
      "cell_type": "markdown",
      "metadata": {
        "id": "iK7HciaEwDMq"
      },
      "source": [
        ""
      ],
      "id": "iK7HciaEwDMq"
    },
    {
      "cell_type": "markdown",
      "metadata": {
        "id": "ffc25fd2"
      },
      "source": [
        "## II. Décomposition QR\n",
        "Soit une matrice $A\\in\\mathbb{R}^{m\\times n}$. La décomposition $QR$ de la matrice $A$ est&nbsp;:\n",
        "\n",
        "$$A=QR,$$\n",
        "\n",
        "où $Q$ est une matrice orthogonale (par colonne si rectangulaire) et $R$ une matrice diagonale supérieure. On retrouve d'ailleurs parfois l'appellation \"décomposition $QU$\" où $U$ signifie *Upper triangular*. Une matrice orthogonale par colonne implique $Q^TQ=I$ et donc $m\\geq n$. En effet, si une famille de vecteurs est plus grande que la dimension de l'espace, alors elle est forcément liée.\n",
        "\n",
        "### A. Procédé de Gram-Schmidt\n",
        "Il existe plusieurs stratégies permettant de réaliser cette décomposition et nous utiliserons celle basée sur le procédé (ou algorithme) de Gram-Schmidt. Soit $F=\\{u_1, ..., u_n\\}$ une famille de vecteurs libres. Le procédé de Gram-Schmidt a pour objectif de construire une base orthonormale $B=\\{e_1, ..., e_n\\}$ à partir de $F$.\n",
        "\n",
        "L'opération de base du procédé de Gram-Schmidt est l'opérateur de projection&nbsp;:\n",
        "\n",
        "$$\\textrm{proj}_u(v)=\\Pi_u(v)=\\frac{\\langle v, u\\rangle }{\\langle u, u\\rangle}u,$$\n",
        "\n",
        "où le vecteur $v$ est projeté orthogonalement sur $u$.\n",
        "\n",
        "Le procédé itère sur l'ensemble des vecteurs de la famille $F$ de la manière suivante.\n",
        "\n",
        "\n",
        "1.  $v_1=u_1$ et $e_1=v_1/\\lVert v_1\\rVert_2$,\n",
        "2.  $v_2=u_2-\\Pi_{e_1}(u_2)$ et $e_2=v_2/\\lVert v_2\\rVert_2$,\n",
        "3.  ...\n",
        "4.  $v_n=u_n-\\sum_{i=1}^{n-1}\\Pi_{e_i}(u_n)$ et $e_n=v_n/\\lVert v_n\\rVert_2$.\n",
        "\n",
        "\n",
        "La famille $\\{e_1, ..., e_n\\}$ ainsi construite est une base orthonormée et engendre le même sous-espace vectoriel que la famille $F$.\n",
        "\n",
        "**<span style='color:blue'> Exercice\n",
        "</span>** \n",
        "**Complétez le code ci-dessous afin d'implémenter le procédé de Gram-Schmidt.**\n",
        "\n",
        "----"
      ],
      "id": "ffc25fd2"
    },
    {
      "cell_type": "code",
      "metadata": {
        "id": "c2d2280c",
        "outputId": "dd3b623d-fcd7-4d43-c0ed-7d14a134371a",
        "colab": {
          "base_uri": "https://localhost:8080/"
        }
      },
      "source": [
        "import numpy as np\n",
        "\n",
        "def projector(u, v):\n",
        "    ####### Complete this part ######## or die ####################\n",
        "    sc_1 = np.dot(u, v)\n",
        "    sc_2 = np.dot(u, u)\n",
        "    return sc_1/sc_2*u\n",
        "    ###############################################################\n",
        "\n",
        "def gram_schmidt(matrix):\n",
        "    ####### Complete this part ######## or die ####################\n",
        "\n",
        "    orthogonal = []\n",
        "    for i in range(matrix.shape[1]):\n",
        "        v = matrix[:, i]\n",
        "        for j in range(i):\n",
        "            v = v - projector(orthogonal[j], v)\n",
        "        orthogonal.append(v/np.linalg.norm(v))\n",
        "    return np.stack(orthogonal, axis=1)\n",
        "    ###############################################################\n",
        "\n",
        "A = np.random.random((4, 4))\n",
        "\n",
        "Q = gram_schmidt(A)\n",
        "\n",
        "print('Une matrice identite :\\n', np.dot(Q.T, Q))\n",
        "\n"
      ],
      "id": "c2d2280c",
      "execution_count": 8,
      "outputs": [
        {
          "output_type": "stream",
          "name": "stdout",
          "text": [
            "Une matrice identite :\n",
            " [[ 1.00000000e+00 -4.00784158e-17 -8.49217260e-17  1.64720020e-16]\n",
            " [-4.00784158e-17  1.00000000e+00 -3.90232246e-18  6.97837414e-17]\n",
            " [-8.49217260e-17 -3.90232246e-18  1.00000000e+00 -4.39278378e-18]\n",
            " [ 1.64720020e-16  6.97837414e-17 -4.39278378e-18  1.00000000e+00]]\n"
          ]
        }
      ]
    },
    {
      "cell_type": "markdown",
      "metadata": {
        "id": "023b4988"
      },
      "source": [
        "### B. Décomposition QR\n",
        "\n",
        "Soit $A\\in\\mathbb{R}^{m\\times n}$ telle que les vecteurs colonnes sont libres. Notons $\\{a_1, ..., a_n\\}$ l'ensemble des vecteurs colonnes. Soit $\\{e_1, ..., e_n\\}$ une base orthonormale résultant du procédé de Gram-Schmidt appliqué aux vecteurs colonnes de $A$.\n",
        "\n",
        "De manière assez directe, on observe que&nbsp;:\n",
        "\n",
        "$$a_1=\\langle a_1, e_1\\rangle e_1.$$ \n",
        "\n",
        "Dit autrement, $a_1$ est un vecteur co-linéaire à $e_1$ dont la norme est $\\langle e_1, a_1\\rangle$ (sachant que $e_1$ est unitaire). Le vecteur $a_2$ est un peu plus complexe à reconstruire&nbsp;: \n",
        "\n",
        "$$a_2=\\langle a_2, e_2\\rangle e_2+\\langle a_2, e_1\\rangle e_1.$$ \n",
        "\n",
        "Autrement dit, $a_2$ est une combinaison linéaire de $e_1$ et $e_2$, ce qui est logique puisque $e_2$ est construit en retirant la composante non orthogonale à $e_1$ de $a_2$.\n",
        "On réitère l'opération jusqu'à $a_n=\\sum_i \\langle e_i, a_n\\rangle e_i$.\n",
        "\n",
        "En notant&nbsp;:\n",
        "\n",
        "$$\\begin{aligned}\n",
        "    Q=[e_1, ..., e_n]\\textrm{ et }R=\\begin{bmatrix}\n",
        "        \\langle e_1, a_1\\rangle & \\langle e_1, a_2\\rangle & \\langle e_1, a_3\\rangle & \\ldots&\\langle e_1, a_n\\rangle\\\\\n",
        "        0 & \\langle e_2, a_2\\rangle & \\langle e_2, a_3\\rangle& \\ldots&\\langle e_2, a_n\\rangle\\\\\n",
        "        0 &0 & \\langle e_3, a_3\\rangle& \\ldots&\\langle e_3, a_n\\rangle\\\\\n",
        "        0 & 0 & 0 & \\ddots & \\vdots\\\\\n",
        "        0 & 0 & 0 & \\ldots & \\langle e_n, a_n\\rangle\n",
        "        \\end{bmatrix}\n",
        "    \\end{aligned}$$\n",
        "    \n",
        "on retrouve bien $A=QR$.\n",
        "\n",
        "### C. Exemple\n",
        "\n",
        "Soit la matrice suivante&nbsp;:\n",
        "\n",
        "$$\\begin{aligned}\n",
        "    A=\\begin{bmatrix}\n",
        "    1&-1\\\\\n",
        "    2&0\\\\\n",
        "    2&2\n",
        "    \\end{bmatrix}=[a_1, a_2]\n",
        "\\end{aligned}$$\n",
        "\n",
        "Commençons la procédure de Gram-Schmidt. On note&nbsp;:\n",
        "\n",
        "$$v_1=a_1\\textrm{ et }e_1=v_1/\\lVert v_1\\rVert_2=\\Big[\\frac{1}{3},\\frac{2}{3}, \\frac{2}{3}\\Big]^T$$\n",
        "\n",
        "Et&nbsp;:\n",
        "\n",
        "$$v_2=a_2-\\Pi_{e_1}(a_2)\\textrm{ et }e_2=v_2/\\lVert v_2\\rVert_2=\\Big[-\\frac{2}{3},-\\frac{1}{3}, \\frac{2}{3}\\Big]^T$$\n",
        "\n",
        "On vérifie assez bien que $e_1$ et $e_2$ sont orthogonaux et unitaires.\n",
        "Calculons maintenant les produits scalaires&nbsp;:\n",
        "\n",
        "$$\\langle e_1, a_1\\rangle=3,\\ \\langle e_1, a_2\\rangle=1\\textrm{ et }\\langle e_2, a_2\\rangle=2$$\n",
        "\n",
        "Nous avons donc\n",
        "\n",
        "$$\\begin{aligned}\n",
        "    Q=\\begin{bmatrix}\n",
        "    1/3&-2/3\\\\\n",
        "    2/3&-1/3\\\\\n",
        "    2/3&2/3\n",
        "    \\end{bmatrix}\\text{ et }R=\\begin{bmatrix}\n",
        "    3&1\\\\\n",
        "    0&2\n",
        "    \\end{bmatrix}\n",
        "    \\end{aligned}$$\n",
        "    \n",
        "On vérifie facilement qu'on a bien l'égalité $A=QR$.\n",
        "\n",
        "\n",
        "**<span style='color:blue'> Exercice\n",
        "</span>** \n",
        "**Complétez le code ci-dessous en ré-utilisant votre implémentation du procédé de Gram-Schmidt afin d'obtenir une décomposition QR.**\n",
        "\n",
        "----"
      ],
      "id": "023b4988"
    },
    {
      "cell_type": "code",
      "metadata": {
        "id": "61995e47",
        "outputId": "db9fa678-ae25-4b4b-a4f8-d947fde44ccc",
        "colab": {
          "base_uri": "https://localhost:8080/"
        }
      },
      "source": [
        "def qr(matrix):\n",
        "    ####### Complete this part ######## or die ####################\n",
        "    Q = gram_schmidt(matrix)\n",
        "    R = np.zeros((Q.shape[1], Q.shape[1]))\n",
        "    for i in range(matrix.shape[1]):\n",
        "        for j in range(i+1):\n",
        "            R[j, i] = np.dot(Q[:, j], matrix[:, i])\n",
        "    return Q, R\n",
        "    ###############################################################\n",
        "\n",
        "A = np.array([[1, -1], [2, 0], [2, 2]])\n",
        "\n",
        "Q, R = qr(A)\n",
        "print('Notre matrice initiale :\\n', A)\n",
        "print('Notre matrice initiale reconstruite :\\n', np.dot(Q, R))\n"
      ],
      "id": "61995e47",
      "execution_count": 9,
      "outputs": [
        {
          "output_type": "stream",
          "name": "stdout",
          "text": [
            "Notre matrice initiale :\n",
            " [[ 1 -1]\n",
            " [ 2  0]\n",
            " [ 2  2]]\n",
            "Notre matrice initiale reconstruite :\n",
            " [[ 1.00000000e+00 -1.00000000e+00]\n",
            " [ 2.00000000e+00 -1.11022302e-16]\n",
            " [ 2.00000000e+00  2.00000000e+00]]\n"
          ]
        }
      ]
    },
    {
      "cell_type": "markdown",
      "metadata": {
        "id": "9c099bd2"
      },
      "source": [
        "## III. Application aux moindres carrés\n",
        "### A. Notre estimation via une décomposition QR\n",
        "\n",
        "Soit $X\\in\\mathbb{R}^{n\\times d}$, $y\\in\\mathbb{R}^n$ et $\\beta\\in\\mathbb{R}^d$. Notre objectif est de résoudre le problème d'optimisation suivant&nbsp;\n",
        "\n",
        "$$\\hat{\\beta}=\\text{argmin}_{\\beta\\in\\mathbb{R}^d}\\lVert X\\beta-y\\rVert_2^2.$$\n",
        "\n",
        "Nous avons déjà vu que si $X^TX$ est inversible, alors nous avons la solution analytique suivante&nbsp;:\n",
        "\n",
        "$$\\hat{\\beta}=(X^TX)^{-1}X^Ty.$$\n",
        "\n",
        "Considérons maintenant la décomposition $QR$ de la matrice $X$ (i.e. $X=QR$). Nous avons ainsi&nbsp;:\n",
        "\n",
        "$$\\begin{aligned}\n",
        "    \\hat{\\beta}&=(X^TX)^{-1}X^Ty\\\\\n",
        "    &=((QR)^TQR)^{-1}(QR)^Ty\\\\\n",
        "    &= ((R^TQ^TQR)^{-1}R^TQ^Ty\\\\\n",
        "    &=(R^TR)^{-1}R^TQ^Ty\\\\\n",
        "    &=R^{-1}(R^T)^{-1}R^TQ^Ty\\\\\n",
        "    &=R^{-1}Q^Ty.\n",
        "\\end{aligned}$$\n",
        "\n",
        "Rappellons que si $A$ et $B$ sont deux matrices inversibles, nous avons $(AB)^{-1}=B^{-1}A^{-1}$.\n",
        "\n",
        "### B. Exercice\n",
        "\n",
        "Soit la matrice suivante&nbsp;:\n",
        "\n",
        "$$\\begin{aligned}\n",
        "    X=\\begin{bmatrix}\n",
        "    1&-1\\\\\n",
        "    0&10^{-5}\\\\\n",
        "    0&0\n",
        "    \\end{bmatrix}\\textrm{ et }Y=\\begin{bmatrix}\n",
        "    0\\\\\n",
        "    10^{-5}\\\\\n",
        "    0\n",
        "    \\end{bmatrix}\n",
        "    \\end{aligned}$$\n",
        "    \n",
        "\n",
        "**<span style='color:blue'> Exercice 1\n",
        "</span>** \n",
        "**Supposons que l'algorithme tourne sur une machine où les nombres sont arrondis après 8 décimales (i.e. si $|x|<10^{-8}$ alors $x:=0$). Calculez l'estimateur des moindres carrés SANS passer par une décomposition QR.**\n",
        "\n",
        "----\n",
        "**<span style='color:blue'> Exercice 2\n",
        "</span>** \n",
        "**Supposons que l'algorithme tourne sur une machine où les nombres sont arrondis après 8 décimales (i.e. si $|x|<10^{-8}$ alors $x:=0$). Calculez l'estimateur des moindres carrés AVEC une décomposition QR.**\n",
        "\n",
        "----\n",
        "\n",
        "**<span style='color:blue'> Exercice 3\n",
        "</span>** \n",
        "**Implémentez les deux stratégies précédentes en utilisant $\\texttt{numpy}$. Que constatez-vous ?**\n",
        "\n",
        "----"
      ],
      "id": "9c099bd2"
    },
    {
      "cell_type": "code",
      "metadata": {
        "id": "505b74e5",
        "outputId": "bf8a795a-b652-4b93-c833-c10b1a099ef6",
        "colab": {
          "base_uri": "https://localhost:8080/"
        }
      },
      "source": [
        "import numpy as np\n",
        "\n",
        "X = np.array([[1, -1], [0, 1e-5], [0, 0]])\n",
        "y = np.array([[0], [1e-5], [0]])\n",
        "\n",
        "####### Complete this part ######## or die ####################\n",
        "XXt_inv= X.T.dot(X))\n",
        "beta_est = XXt_inv.dot(X.T).dot(y)\n",
        "\n",
        "###############################################################\n",
        "\n",
        "print(\"Notre estimateur avec la méthode classique :\\n\", beta_est)\n",
        "# print(\"Notre estimateur avec la méthode QR :\\n\", beta_qr_est)\n"
      ],
      "id": "505b74e5",
      "execution_count": 21,
      "outputs": [
        {
          "output_type": "stream",
          "name": "stdout",
          "text": [
            "[[ 1. -1.]\n",
            " [-1.  1.]]\n",
            "Notre estimateur avec la méthode classique :\n",
            " [[0.99999979]\n",
            " [0.99999979]]\n"
          ]
        }
      ]
    },
    {
      "cell_type": "markdown",
      "metadata": {
        "id": "c3e475c7"
      },
      "source": [
        "Cette exemple simple montre déjà les avantages de la décomposition QR dans le cadre des moindres carrés. On imagine sans mal son intérêt dans des exemples beaucoup plus compliqués où les dépendances linéaires sont peut-être plus difficiles à discerner au milieu des perturbations et du bruit."
      ],
      "id": "c3e475c7"
    }
  ]
}