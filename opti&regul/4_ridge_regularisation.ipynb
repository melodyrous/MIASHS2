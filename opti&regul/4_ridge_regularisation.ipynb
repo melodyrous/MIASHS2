{
  "nbformat": 4,
  "nbformat_minor": 5,
  "metadata": {
    "kernelspec": {
      "display_name": "Python 3",
      "language": "python",
      "name": "python3"
    },
    "language_info": {
      "codemirror_mode": {
        "name": "ipython",
        "version": 3
      },
      "file_extension": ".py",
      "mimetype": "text/x-python",
      "name": "python",
      "nbconvert_exporter": "python",
      "pygments_lexer": "ipython3",
      "version": "3.8.5"
    },
    "colab": {
      "name": "4_ridge_regularisation.ipynb",
      "provenance": [],
      "include_colab_link": true
    }
  },
  "cells": [
    {
      "cell_type": "markdown",
      "metadata": {
        "id": "view-in-github",
        "colab_type": "text"
      },
      "source": [
        "<a href=\"https://colab.research.google.com/github/melodyrous/MIASHS2/blob/main/opti%26regul/4_ridge_regularisation.ipynb\" target=\"_parent\"><img src=\"https://colab.research.google.com/assets/colab-badge.svg\" alt=\"Open In Colab\"/></a>"
      ]
    },
    {
      "cell_type": "markdown",
      "metadata": {
        "id": "printable-ticket"
      },
      "source": [
        "# Une analyse de la régularisation Ridge ☕️☕️☕️"
      ],
      "id": "printable-ticket"
    },
    {
      "cell_type": "markdown",
      "metadata": {
        "id": "cultural-payment"
      },
      "source": [
        "La régularisation Ridge, aussi appelée *weight decay* en *deep learning* ou encore pénalité $\\ell_2$, possède des propriétés fascinantes qui (1) expliquent ses performances et (2) permettent de la relier à d'autres stratégies de régularisation empiriques telles que la *data augmentation*, le ou encore le *dropout*.\n",
        "\n",
        "Nous nous concentrerons dans cette séquence sur les problèmes linéaires."
      ],
      "id": "cultural-payment"
    },
    {
      "cell_type": "markdown",
      "metadata": {
        "id": "smooth-gender"
      },
      "source": [
        "## I. Ridge, une question de stabilité"
      ],
      "id": "smooth-gender"
    },
    {
      "cell_type": "markdown",
      "metadata": {
        "id": "saved-dancing"
      },
      "source": [
        "Soit $X\\in\\mathbb{R}^{p\\times n}$ la matrice de nos données avec $p$ individus en dimension $n$. Soit $\\boldsymbol{y}\\in\\mathbb{p}$ nos labels. Notre objectif est de trouver un vecteur $\\beta\\in\\mathbb{R}^n$ tel que la quantité suivante soit minimisée : \n",
        "\n",
        "$$\\hat{\\beta}=\\text{argmin}_{\\beta\\in\\mathbb{R}^n}\\lVert X\\beta-\\boldsymbol{y}\\rVert_2^2.$$\n",
        "\n",
        "Nous avons pu constater que si $X^TX$ était inversible, ce problème possédait une unique solution calculable en annulant le gradient :\n",
        "\n",
        "$$\\hat{\\beta}=(X^TX)^{-1}X^T\\boldsymbol{y}.$$\n",
        "\n",
        "Lorsque $X^TX$ n'est pas inversible, une solution (de norme minimale) est :\n",
        "\n",
        "$$\\hat{\\beta}=X^\\dagger \\boldsymbol{y},$$\n",
        "\n",
        "où $X^\\dagger$ est le pseudo-inverse de Moore-Penrose. Nous avons pu constater dans les séquences précédentes que le nombre d'individus dans $X$ affectait considérablement notre estimation de $\\hat{\\beta}$ et cela était visible au travers de l'effet *double descente*. Nous illustrons ce phénomène à nouveau ci-dessous. On génère un jeu de données synthétique en jouant sur le nombre d'invididus dans notre jeu d'apprentissage."
      ],
      "id": "saved-dancing"
    },
    {
      "cell_type": "code",
      "metadata": {
        "id": "consolidated-export"
      },
      "source": [
        "import numpy as np\n",
        "import matplotlib.pyplot as plt"
      ],
      "id": "consolidated-export",
      "execution_count": 1,
      "outputs": []
    },
    {
      "cell_type": "code",
      "metadata": {
        "id": "simple-bulgaria"
      },
      "source": [
        "# dimension de l'espace\n",
        "d = 50\n",
        "# repetition de l'experience\n",
        "redo = 50\n",
        "\n",
        "# vrai parametre utilise pour generer nos donnees\n",
        "beta = np.random.uniform(-2, 2, size=(d, 1))\n",
        "\n",
        "mu = [0 for _ in range(d)]\n",
        "cov = np.diag([1 for _ in range(d)])\n",
        "\n",
        "test_size = 500\n",
        "X_test = np.random.multivariate_normal(mean=mu, cov=cov, size=test_size)\n",
        "y_test = np.dot(X_test, beta) + np.random.normal(0, 1, size=(test_size, 1))\n",
        "\n",
        "errors = []\n",
        "train_errors = []\n",
        "for m in range(1, 100):\n",
        "    error = 0\n",
        "    train_error = 0\n",
        "    for j in range(redo):\n",
        "        # dataset construction\n",
        "        X = np.random.multivariate_normal(mean=mu, cov=cov, size=m)\n",
        "        y = np.dot(X, beta) + np.random.normal(0, 1, size=(m, 1))\n",
        "        \n",
        "        # param estimation\n",
        "        beta_pinv = np.dot(np.linalg.pinv(X), y)\n",
        "        \n",
        "        # risk estimation\n",
        "        error += ((np.dot(X_test, beta_pinv)-y_test)**2).sum()/(test_size*redo)\n",
        "        train_error += ((np.dot(X, beta_pinv)-y)**2).sum()/(m*redo)\n",
        "    train_errors.append(train_error)\n",
        "    errors.append(error)"
      ],
      "id": "simple-bulgaria",
      "execution_count": 3,
      "outputs": []
    },
    {
      "cell_type": "code",
      "metadata": {
        "id": "applied-consultation"
      },
      "source": [
        "def plot_losses(errors, train_errors):\n",
        "    plt.figure(figsize=(15, 7))\n",
        "    plt.subplot(1, 2, 1)\n",
        "    plt.plot([i for i in range(1, len(errors)+1)], errors, label=\"Risk estimation\")\n",
        "    plt.axvline(x=d, color='k', linewidth=2.0, linestyle='--', label='Dimension')\n",
        "    plt.legend()\n",
        "    plt.yscale('log')\n",
        "    plt.title('Test error')\n",
        "    plt.xlabel('Dataset size')\n",
        "    plt.ylabel('Error')\n",
        "    plt.subplot(1, 2, 2)\n",
        "    plt.plot([i for i in range(1, len(train_errors)+1)], train_errors, label=\"Train error\")\n",
        "    plt.axvline(x=d, color='k', linewidth=2.0, linestyle='--', label='Dimension')\n",
        "    plt.legend()\n",
        "    plt.xlabel('Dataset size')\n",
        "    plt.ylabel('Error')\n",
        "    plt.title('Train error')\n",
        "    plt.show()"
      ],
      "id": "applied-consultation",
      "execution_count": 4,
      "outputs": []
    },
    {
      "cell_type": "code",
      "metadata": {
        "id": "graduate-metropolitan",
        "outputId": "afa7a5a4-9f81-442e-c5eb-01a455ca78ec",
        "colab": {
          "base_uri": "https://localhost:8080/",
          "height": 458
        }
      },
      "source": [
        "plot_losses(errors, train_errors)"
      ],
      "id": "graduate-metropolitan",
      "execution_count": 5,
      "outputs": [
        {
          "output_type": "display_data",
          "data": {
            "image/png": "[encoded data removed]",
            "text/plain": [
              "<Figure size 1080x504 with 2 Axes>"
            ]
          },
          "metadata": {
            "needs_background": "light"
          }
        }
      ]
    },
    {
      "cell_type": "markdown",
      "metadata": {
        "id": "competent-david"
      },
      "source": [
        "Nous avons donc un double (sans jeu de mots) problème ici. Lorsque $X^TX$ n'est pas inversible, nous devons choisir une inverse parmi une infinité : c'est la région à gauche de la ligne vertical en pointillé. La solution $X^\\dagger\\boldsymbol{y}$ est celle de norme minimale, la préférable, mais le problème reste mal posé. Lorsque $X^TX$ est presque inversible les performances de généralisation sont particulièrement mauvaises.\n",
        "\n",
        "Un autre problème apparaît. Lorsque $X^TX$ est presque inversible (i.e. son déterminant est très proche de $0$), son inverse est très instable. De toutes petites perturbations de $X$ affectent très significativement $(X^TX)^{-1}$. L'exemple suivant illustre ce problème. Considérons le système d'équations suivant :\n",
        "\n",
        "$$Ax=y$$"
      ],
      "id": "competent-david"
    },
    {
      "cell_type": "code",
      "metadata": {
        "id": "packed-porter",
        "outputId": "23782de8-582e-42d8-e1b3-31c2ac5d8705",
        "colab": {
          "base_uri": "https://localhost:8080/"
        }
      },
      "source": [
        "A = np.array([[1.98, 2.], [1., 1.01]])\n",
        "print('Soit une matrice A=\\n', A)"
      ],
      "id": "packed-porter",
      "execution_count": 7,
      "outputs": [
        {
          "output_type": "stream",
          "name": "stdout",
          "text": [
            "Soit une matrice A=\n",
            " [[1.98 2.  ]\n",
            " [1.   1.01]]\n"
          ]
        }
      ]
    },
    {
      "cell_type": "code",
      "metadata": {
        "id": "defensive-mustang",
        "outputId": "64eac24f-adbb-4ea3-dc32-289c34194613",
        "colab": {
          "base_uri": "https://localhost:8080/"
        }
      },
      "source": [
        "x = np.array([[1], [1]])\n",
        "y = np.dot(A, x)\n",
        "print('Nos données sont x=\\n', x, '\\n et nos labels y=\\n', y)"
      ],
      "id": "defensive-mustang",
      "execution_count": 8,
      "outputs": [
        {
          "output_type": "stream",
          "name": "stdout",
          "text": [
            "Nos données sont x=\n",
            " [[1]\n",
            " [1]] \n",
            " et nos labels y=\n",
            " [[3.98]\n",
            " [2.01]]\n"
          ]
        }
      ]
    },
    {
      "cell_type": "markdown",
      "metadata": {
        "id": "binary-burns"
      },
      "source": [
        "Imaginons maintenant (comme c'est le cas en machine learning) que nous n'observons que $A$ (la matrice qui contiendrait nos données) et $y$ (les labels). Nous cherchons à déterminer l'inconnue $x$. C'est très facile car ici tout est déterministe et $A$ est bien inversible ($\\text{det}(A)\\neq 0$) :\n",
        "\n",
        "$$\\hat{x}=A^{-1}y$$"
      ],
      "id": "binary-burns"
    },
    {
      "cell_type": "code",
      "metadata": {
        "id": "iraqi-gathering",
        "outputId": "4b9d967a-5e57-426e-9a56-1c71b1a7bf0e",
        "colab": {
          "base_uri": "https://localhost:8080/"
        }
      },
      "source": [
        "x_hat = np.dot(np.linalg.inv(A), y)\n",
        "print('Notre prédiction pour x, x_hat=\\n', x_hat)"
      ],
      "id": "iraqi-gathering",
      "execution_count": 9,
      "outputs": [
        {
          "output_type": "stream",
          "name": "stdout",
          "text": [
            "Notre prédiction pour x, x_hat=\n",
            " [[1.]\n",
            " [1.]]\n"
          ]
        }
      ]
    },
    {
      "cell_type": "markdown",
      "metadata": {
        "id": "muslim-phase"
      },
      "source": [
        "Tout marche très bien. Cependant, en pratique, nos données ne sont que rarement aussi propres. Imaginons que notre collecte soit entâchée d'un petit peu de bruit et arrondissons $y$."
      ],
      "id": "muslim-phase"
    },
    {
      "cell_type": "code",
      "metadata": {
        "id": "fiscal-caribbean",
        "outputId": "29f12c08-65a5-443c-e492-bcd0dc7501c9",
        "colab": {
          "base_uri": "https://localhost:8080/"
        }
      },
      "source": [
        "y_round = np.round(y)\n",
        "print(\n",
        "    'Notre arrondi y_round=\\n', y_round, \n",
        "    '\\n On remarque que l\\'écrat à y est très petit :\\n', y_round-y\n",
        ")"
      ],
      "id": "fiscal-caribbean",
      "execution_count": 10,
      "outputs": [
        {
          "output_type": "stream",
          "name": "stdout",
          "text": [
            "Notre arrondi y_round=\n",
            " [[4.]\n",
            " [2.]] \n",
            " On remarque que l'écrat à y est très petit :\n",
            " [[ 0.02]\n",
            " [-0.01]]\n"
          ]
        }
      ]
    },
    {
      "cell_type": "markdown",
      "metadata": {
        "id": "genuine-upset"
      },
      "source": [
        "Calculons maintenant l'inconnue $x$ associée à ces nouvelles observations."
      ],
      "id": "genuine-upset"
    },
    {
      "cell_type": "code",
      "metadata": {
        "id": "generic-guyana",
        "outputId": "bff3a59b-b403-4aa8-b50c-ec533b82111d",
        "colab": {
          "base_uri": "https://localhost:8080/"
        }
      },
      "source": [
        "x_hat = np.dot(np.linalg.inv(A), y_round)\n",
        "print('Notre prédiction pour x, x_hat=\\n', x_hat)"
      ],
      "id": "generic-guyana",
      "execution_count": 11,
      "outputs": [
        {
          "output_type": "stream",
          "name": "stdout",
          "text": [
            "Notre prédiction pour x, x_hat=\n",
            " [[-200.]\n",
            " [ 200.]]\n"
          ]
        }
      ]
    },
    {
      "cell_type": "markdown",
      "metadata": {
        "id": "ancient-coach"
      },
      "source": [
        "Le résultat est catastrophiquement mauvais. Une perturbation ridicule des $y$ a entraîné un effet de très grande ampleur sur nos estimateurs $\\hat{x}$. Ce problème qui apparaît dans l'effet double descente et ici est lié au conditionnement de la matrice $X^TX$ (ici la matrice $A$). Son conditionnement est le ratio de sa plus grande valeur propre et de sa plus petite valeur propre. Elles sont ici :"
      ],
      "id": "ancient-coach"
    },
    {
      "cell_type": "code",
      "metadata": {
        "id": "spiritual-accident",
        "outputId": "5c72afee-5115-4f4a-d178-4e9b172ccffb",
        "colab": {
          "base_uri": "https://localhost:8080/"
        }
      },
      "source": [
        "eigenvalue = np.linalg.eig(A)[0]\n",
        "eigen_ratio = np.max(eigenvalue)/np.min(eigenvalue)\n",
        "print('Le conditionnement donne :', eigen_ratio)"
      ],
      "id": "spiritual-accident",
      "execution_count": 12,
      "outputs": [
        {
          "output_type": "stream",
          "name": "stdout",
          "text": [
            "Le conditionnement donne : -44702.49997761842\n"
          ]
        }
      ]
    },
    {
      "cell_type": "markdown",
      "metadata": {
        "id": "persistent-elevation"
      },
      "source": [
        "La valeur semble déraisonnablement grande lorsqu'on la compare aux valeurs de nos données. L'idée est ainsi d'accroître les valeurs propres lors du calcul de l'inverse :\n",
        "\n",
        "$$X^+=(X^TX+\\lambda I)^{-1}X^T,$$\n",
        "\n",
        "où $X^+$ est une pseudo-inverse régularisée. En rajoutant $\\lambda$ dans la diagonale, le ratio de la plus grande valeur propre avec la plus petite devient :\n",
        "\n",
        "$$\\frac{\\gamma_{\\text{max}}+\\lambda}{\\gamma_{\\text{min}}+\\lambda},$$\n",
        "\n",
        "où $\\gamma$ sont les dites valeurs propres. Reprenons notre exemple et calculons notre pseudo-inverse régularisée :"
      ],
      "id": "persistent-elevation"
    },
    {
      "cell_type": "markdown",
      "metadata": {
        "id": "timely-productivity"
      },
      "source": [
        "**<span style='color:blue'> Exercice</span>** \n",
        "**Proposez ci-dessous l'inverse régularisée de $A$.**\n",
        "\n",
        "\n",
        "\n",
        " ----"
      ],
      "id": "timely-productivity"
    },
    {
      "cell_type": "code",
      "metadata": {
        "id": "20292707",
        "outputId": "ffbe9867-f26e-4f25-cd9c-a1a8c72bc27e",
        "colab": {
          "base_uri": "https://localhost:8080/"
        }
      },
      "source": [
        "I = np.eye(2)\n",
        "lambda_ = 0.1\n",
        "# on calcule notre régularisation et la pseudo inverse\n",
        "####### Complete this part ######## or die ####################\n",
        "A_inv_regularized = np.dot(np.linalg.inv(np.dot(A.T, A)+lambda_*I), A.T)\n",
        "###############################################################\n",
        "\n",
        "x_hat = np.dot(A_inv_regularized, y_round)\n",
        "print('Notre prédiction pour x, x_hat=\\n', x_hat)\n"
      ],
      "id": "20292707",
      "execution_count": 13,
      "outputs": [
        {
          "output_type": "stream",
          "name": "stdout",
          "text": [
            "Notre prédiction pour x, x_hat=\n",
            " [[0.9879906]\n",
            " [0.9979662]]\n"
          ]
        }
      ]
    },
    {
      "cell_type": "markdown",
      "metadata": {
        "id": "metropolitan-formation"
      },
      "source": [
        "On retombe presque sur la valeur initiale qu'on aurait voulu obtenir. On constatera de plus que la valeur de la régularisation \"$0.1$\" est ridiculement faible.\n",
        "\n",
        "Nous avons certes pu obtenir une pseudo-inverse régularisée, mais notre objectif reste de minimiser une erreur de prédiction d'un modèle. Quel est le lien entre ce pseudo-inverse régularisé et notre problème intial ? Il se trouve que cela revient en fait à résoudre le problème d'optimisation suivant :\n",
        "\n",
        "$$\\text{argmin}_{\\beta\\in\\mathbb{R}^n}\\lVert X\\beta-\\boldsymbol{y}\\rVert_2^2,\\text{ s.t. }\\lVert\\beta\\rVert_2\\leq c,$$\n",
        "\n",
        "pour une constante $c>0$. En passant au Lagragien, on obtient ainsi : \n",
        "\n",
        "$$\\text{argmin}_{\\beta\\in\\mathbb{R}^n}\\lVert X\\beta-\\boldsymbol{y}\\rVert_2^2+\\lambda\\lVert\\beta\\rVert_2,$$\n",
        "pour $\\lambda>0$.\n",
        "\n",
        "Annulons le gradient afin de montrer que la solution de ce problème est-celle donnée plus haut.\n",
        "\n",
        "$$\\nabla (\\lVert X\\beta-\\boldsymbol{y}\\rVert_2^2+\\lambda\\lVert\\beta\\rVert_2)=2X^TX\\beta-2X^Ty+2\\lambda\\beta=2(X^TX+\\lambda I)\\beta-2X^T \\boldsymbol{y},$$\n",
        "\n",
        "En annulant, on obtient : \n",
        "\n",
        "$$\\hat{\\beta}=(X^TX+\\lambda I)^{-1}X^T\\boldsymbol{y}=X^+\\boldsymbol{y}.$$\n",
        "Si $X^TX$ n'était pas inversible, $X^TX+\\lambda I$ l'est nécessairement. On retrouve bien la même solution. C'est bien ce problème des moindres carrés régularisés qu'on appelle Ridge. Reprenons maintenant l'effet double descente !"
      ],
      "id": "metropolitan-formation"
    },
    {
      "cell_type": "markdown",
      "metadata": {
        "id": "centered-trustee"
      },
      "source": [
        "**<span style='color:blue'> Exercice</span>** \n",
        "**Proposez ci-dessous la pseudo-inverse régularisée de $X$.**\n",
        "\n",
        "\n",
        "\n",
        " ----"
      ],
      "id": "centered-trustee"
    },
    {
      "cell_type": "code",
      "metadata": {
        "id": "2301f447"
      },
      "source": [
        "d = 50\n",
        "redo = 50\n",
        "\n",
        "lambda_=0.1\n",
        "\n",
        "beta = np.random.uniform(-2, 2, size=(d, 1))\n",
        "\n",
        "mu = [0 for _ in range(d)]\n",
        "cov = np.diag([1 for _ in range(d)])\n",
        "\n",
        "test_size = 500\n",
        "X_test = np.random.multivariate_normal(mean=mu, cov=cov, size=test_size)\n",
        "y_test = np.dot(X_test, beta) + np.random.normal(0, 1, size=(test_size, 1))\n",
        "\n",
        "errors = []\n",
        "train_errors = []\n",
        "for m in range(1, 100):\n",
        "    error = 0\n",
        "    train_error = 0\n",
        "    for j in range(redo):\n",
        "        # dataset construction\n",
        "        X = np.random.multivariate_normal(mean=mu, cov=cov, size=m)\n",
        "        y = np.dot(X, beta) + np.random.normal(0, 1, size=(m, 1))\n",
        "        \n",
        "        # param estimation\n",
        "        ####### Complete this part ######## or die ####################\n",
        "        pseudo_reg_inv = np.linalg.inv(np.dot(X.T, X)+ lambda_ * np.eye(d)).dot(X.T)\n",
        "        ###############################################################\n",
        "        \n",
        "        beta_pinv = np.dot(pseudo_reg_inv, y)\n",
        "        \n",
        "        # risk estimation\n",
        "        error += ((np.dot(X_test, beta_pinv)-y_test)**2).sum()/(test_size*redo)\n",
        "        train_error += ((np.dot(X, beta_pinv)-y)**2).sum()/(m*redo)\n",
        "    train_errors.append(train_error)\n",
        "    errors.append(error)\n"
      ],
      "id": "2301f447",
      "execution_count": 15,
      "outputs": []
    },
    {
      "cell_type": "code",
      "metadata": {
        "id": "33d312e3",
        "outputId": "8c817804-6441-44d6-ae8f-a99dc01ec341",
        "colab": {
          "base_uri": "https://localhost:8080/",
          "height": 458
        }
      },
      "source": [
        "plot_losses(errors, train_errors)\n"
      ],
      "id": "33d312e3",
      "execution_count": 16,
      "outputs": [
        {
          "output_type": "display_data",
          "data": {
            "image/png": "[encoded data removed]",
            "text/plain": [
              "<Figure size 1080x504 with 2 Axes>"
            ]
          },
          "metadata": {
            "needs_background": "light"
          }
        }
      ]
    },
    {
      "cell_type": "markdown",
      "metadata": {
        "id": "variable-dragon"
      },
      "source": [
        "\n",
        "\n",
        "La régularisation en rendant notre problème beaucoup plus stable a permis de gommer cet effet double descente. L'inversion la matrice $X^TX+\\lambda I$ est beaucoup moins sensible aux bruits présents dans la matrice $X$. Notre problème généralise mieux lorsque la taille du jeu de données est faible voire critique (proche de la dimension)."
      ],
      "id": "variable-dragon"
    },
    {
      "cell_type": "markdown",
      "metadata": {
        "id": "integrated-vehicle"
      },
      "source": [
        "## II. Ridge et la *data augmentation*"
      ],
      "id": "integrated-vehicle"
    },
    {
      "cell_type": "markdown",
      "metadata": {
        "id": "editorial-board"
      },
      "source": [
        "Nous allons ici étudier la *data augmentation* du point de vue de Ridge.\n",
        "\n",
        "Les problèmes évoqués précédemment peuvent se résoudre assez facilement en augmentant le nombre d'invididus dans notre jeu d'apprentissage. En effet, le mauvais conditionnement de $X^TX$ vient du fait que les vecteurs lignes de $X$ ne sont pas générateurs (au sens de l'algèbre) de l'espace $\\mathbb{R}^n$ ou, s'ils le sont, c'est via une composante orthogonale de taille très réduite. Plus le nombre d'individus dans $X$ devient important, plus il est probable qu'une forte composante dans chaque dimension de l'espace existe.  Cependant, labéliser de nouvelles données peut être extrêmement couteux en temps de travail. Une alternative est de créer des données synthétiques. Nous allons étudiers quelques stratégies.\n",
        "\n",
        "Considérons dans un premier temps le problème Ridge ci-dessous :"
      ],
      "id": "editorial-board"
    },
    {
      "cell_type": "code",
      "metadata": {
        "id": "bearing-custody"
      },
      "source": [
        "import numpy as np"
      ],
      "id": "bearing-custody",
      "execution_count": null,
      "outputs": []
    },
    {
      "cell_type": "code",
      "metadata": {
        "id": "cooked-cornwall"
      },
      "source": [
        "# on est en dimension 10\n",
        "n = 10\n",
        "\n",
        "noise = 1\n",
        "\n",
        "lambda_=2.\n",
        "\n",
        "beta = np.random.uniform(-2, 2, size=(n, 1))\n",
        "\n",
        "mu = [0 for _ in range(n)]\n",
        "cov = np.diag([1 for _ in range(n)])\n",
        "\n",
        "p = 100\n",
        "\n",
        "redo = 100"
      ],
      "id": "cooked-cornwall",
      "execution_count": null,
      "outputs": []
    },
    {
      "cell_type": "code",
      "metadata": {
        "id": "graphic-pointer",
        "outputId": "29fe31f1-2b05-4773-db21-2baf33f5f784"
      },
      "source": [
        "estimated_ridge_beta = np.zeros((n, 1))\n",
        "for j in range(redo):\n",
        "    X = np.random.multivariate_normal(mean=mu, cov=cov, size=p)\n",
        "    y = np.dot(X, beta) + np.random.normal(0, 1, size=(p, 1)) * noise\n",
        "\n",
        "    estimated_ridge_beta += np.dot(np.dot(np.linalg.inv(np.dot(X.T, X)+lambda_*np.eye(n)), X.T), y)\n",
        "estimated_ridge_beta/=redo\n",
        "print('E[beta_est]=\\n', estimated_ridge_beta)"
      ],
      "id": "graphic-pointer",
      "execution_count": null,
      "outputs": [
        {
          "name": "stdout",
          "output_type": "stream",
          "text": [
            "E[beta_est]=\n",
            " [[ 1.7917681 ]\n",
            " [-1.71988841]\n",
            " [-0.94560348]\n",
            " [-1.34890183]\n",
            " [-0.46855263]\n",
            " [-1.6530069 ]\n",
            " [ 1.80314769]\n",
            " [ 1.18201415]\n",
            " [ 0.40894296]\n",
            " [ 1.8488014 ]]\n"
          ]
        }
      ]
    },
    {
      "cell_type": "markdown",
      "metadata": {
        "id": "powered-design"
      },
      "source": [
        "### a. Rajouter une base de $\\mathbb{R}^n$ dans $X$"
      ],
      "id": "powered-design"
    },
    {
      "cell_type": "markdown",
      "metadata": {
        "id": "interracial-massage"
      },
      "source": [
        "Vu que le problème vient de l'absence ou du moins de la petite taille de certaines composantes de $\\mathbb{R}^n$ construites à partir des vecteurs ligne de $N$, rajoutons dans $X$ des individus fictifs représentants ces composantes :\n",
        "\n",
        "$$\\tilde{X}=\\begin{pmatrix}X\\\\\n",
        "\\sqrt{\\lambda}I_n\\end{pmatrix},\\text{ et }\\tilde{y}=\\begin{pmatrix}\\boldsymbol{y}\\\\0\\end{pmatrix}.$$\n",
        "\n",
        "Ici, $\\sqrt{\\lambda}I_n$ est une base orthogonale de $\\mathbb{R}^n$ dont la norme de chacun des vecteurs est $\\sqrt{\\lambda}$. Le label associé à ces nouvelles données est $0$. La solution du problème des moindres carrés est donnée par :\n",
        "\n",
        "$$\\tilde{\\beta}=(\\tilde{X}^T\\tilde{X})^{-1}\\tilde{X}^T\\tilde{y}.$$\n",
        "\n",
        "On vérifie assez rapidement que $\\tilde{X}^T\\tilde{X}$ revient à faire $X^TX+\\lambda I_n$ (les $\\sqrt{\\lambda}$ n'apparaisse que dans la diagonale et au carré) et que $\\tilde{X}^T\\tilde{y}=X^T\\boldsymbol{y}$. Ainsi, $\\tilde{\\beta}=(X^TX+\\lambda I_n)^{-1}X^T\\boldsymbol{y}$ (les $\\sqrt{\\lambda}$ sont associés au label $0$). C'est la solution du problème des moindres carrés avec une pénalité $\\ell_2$ (Ridge) !\n",
        "\n",
        "La pénalité revient à nous garantir que les vecteurs lignes de $X$ \"remplissent\" bien les directions de l'espace $\\mathbb{R}^n$"
      ],
      "id": "interracial-massage"
    },
    {
      "cell_type": "code",
      "metadata": {
        "id": "wrapped-weekend",
        "outputId": "89d4ffdf-f79a-456d-acf4-b1bde535707e"
      },
      "source": [
        "estimated_ridge_beta_2 = np.zeros((n, 1))\n",
        "\n",
        "for j in range(redo):\n",
        "    X = np.random.multivariate_normal(mean=mu, cov=cov, size=p)\n",
        "    y = np.dot(X, beta) + np.random.normal(0, 1, size=(p, 1)) * noise\n",
        "    \n",
        "    X_tilde = np.concatenate([X, np.eye(n)*np.sqrt(lambda_)], axis=0)\n",
        "    y_tilde = np.concatenate([y, np.zeros((n, 1))], axis=0)\n",
        "\n",
        "    estimated_ridge_beta_2 += np.dot(\n",
        "        np.dot(np.linalg.inv(np.dot(X_tilde.T, X_tilde)), X_tilde.T), y_tilde\n",
        "    )\n",
        "estimated_ridge_beta_2/=redo\n",
        "print('E[beta_est_2]=\\n', estimated_ridge_beta_2)\n",
        "print('Difference :\\n', np.abs(estimated_ridge_beta-estimated_ridge_beta_2))"
      ],
      "id": "wrapped-weekend",
      "execution_count": null,
      "outputs": [
        {
          "name": "stdout",
          "output_type": "stream",
          "text": [
            "E[beta_est_2]=\n",
            " [[ 1.77866122]\n",
            " [-1.7203401 ]\n",
            " [-0.92701817]\n",
            " [-1.35138429]\n",
            " [-0.46404593]\n",
            " [-1.67993017]\n",
            " [ 1.82816509]\n",
            " [ 1.16022863]\n",
            " [ 0.40347003]\n",
            " [ 1.83440503]]\n",
            "Difference :\n",
            " [[0.01310687]\n",
            " [0.00045169]\n",
            " [0.01858532]\n",
            " [0.00248245]\n",
            " [0.0045067 ]\n",
            " [0.02692327]\n",
            " [0.0250174 ]\n",
            " [0.02178552]\n",
            " [0.00547293]\n",
            " [0.01439637]]\n"
          ]
        }
      ]
    },
    {
      "cell_type": "markdown",
      "metadata": {
        "id": "desirable-pasta"
      },
      "source": [
        "Ça marche !"
      ],
      "id": "desirable-pasta"
    },
    {
      "cell_type": "markdown",
      "metadata": {
        "id": "increasing-chain"
      },
      "source": [
        "### b. Rajouter un bruit centré en $0$ de covariance $\\lambda I_n$"
      ],
      "id": "increasing-chain"
    },
    {
      "cell_type": "markdown",
      "metadata": {
        "id": "removable-surname"
      },
      "source": [
        "Soit $m\\in\\mathbb{N}^\\star$. Tirons $m$ vecteurs $x_r^{(i)}$ selon $\\mathcal{N}(0, \\lambda I_n)$. Soit la matrice $X_r$ construite comme suit : \n",
        "\n",
        "$$X_r=\\begin{pmatrix}{x_r^{(1)}}^T\\\\ \\vdots\\\\{x_r^{(i)}}^T\\\\ \\vdots\\\\{x_r^{(m)}}^T\\end{pmatrix}.$$\n",
        "\n",
        "Calculons maintenant $\\frac{1}{m}X_r^TX_r$. On remarque que dans la diagonales nous avons la somme de coordonnées au carrés : c'est un estimateur de la variance (i.e. $\\lambda$). Dans les autres cellules c'est la somme du produit de variables aléatoires indépendantes, c'est un estimateur de $0$. Nous avons donc : $\\frac{1}{m}X_r^TX_r=\\lambda I_n$. Il suffit alors de rajouter ces échantillons à notre matrice $X$ originale en les pondérant avec $\\frac{1}{m}$ et en leur associant le label $0$ pour obtenir une approximation de Ridge."
      ],
      "id": "removable-surname"
    },
    {
      "cell_type": "code",
      "metadata": {
        "id": "forbidden-singles",
        "outputId": "c778a50b-5d95-410b-a6f3-89b39242110d"
      },
      "source": [
        "estimated_ridge_beta_3 = np.zeros((n, 1))\n",
        "\n",
        "mu_tilde = [0 for _ in range(n)]\n",
        "cov_tilde = np.diag([lambda_ for _ in range(n)])\n",
        "m=1000\n",
        "    \n",
        "for j in range(redo):\n",
        "    X = np.random.multivariate_normal(mean=mu, cov=cov, size=p)\n",
        "    y = np.dot(X, beta) + np.random.normal(0, 1, size=(p, 1)) * noise\n",
        "    \n",
        "\n",
        "    X_r = np.random.multivariate_normal(mean=mu_tilde, cov=cov_tilde, size=m)/m\n",
        "    y_r = np.zeros((m, 1))\n",
        "    \n",
        "    X_tilde = np.concatenate([X, X_r], axis=0)\n",
        "    y_tilde = np.concatenate([y, y_r], axis=0)\n",
        "\n",
        "    estimated_ridge_beta_3 += np.dot(\n",
        "        np.dot(np.linalg.inv(np.dot(X_tilde.T, X_tilde)), X_tilde.T), y_tilde\n",
        "    )\n",
        "estimated_ridge_beta_3/=redo\n",
        "print('E[beta_est_3]=\\n', estimated_ridge_beta_3)\n",
        "print('Difference :\\n', np.abs(estimated_ridge_beta-estimated_ridge_beta_3))"
      ],
      "id": "forbidden-singles",
      "execution_count": null,
      "outputs": [
        {
          "name": "stdout",
          "output_type": "stream",
          "text": [
            "E[beta_est_3]=\n",
            " [[ 1.84117962]\n",
            " [-1.77560885]\n",
            " [-0.96625804]\n",
            " [-1.40936682]\n",
            " [-0.45807957]\n",
            " [-1.72162314]\n",
            " [ 1.87253104]\n",
            " [ 1.20700708]\n",
            " [ 0.43995201]\n",
            " [ 1.89570665]]\n",
            "Difference :\n",
            " [[0.04941152]\n",
            " [0.05572044]\n",
            " [0.02065456]\n",
            " [0.06046498]\n",
            " [0.01047306]\n",
            " [0.06861625]\n",
            " [0.06938335]\n",
            " [0.02499293]\n",
            " [0.03100905]\n",
            " [0.04690525]]\n"
          ]
        }
      ]
    },
    {
      "cell_type": "markdown",
      "metadata": {
        "id": "different-costume"
      },
      "source": [
        "Ça marche !"
      ],
      "id": "different-costume"
    },
    {
      "cell_type": "markdown",
      "metadata": {
        "id": "false-middle"
      },
      "source": [
        "### c. Enfin de la vraie *data augmentation*"
      ],
      "id": "false-middle"
    },
    {
      "cell_type": "markdown",
      "metadata": {
        "id": "protective-match"
      },
      "source": [
        "Intuitivement, on s'attend à ce qu'un nouveau $x_{\\text{new}}\\in\\mathbb{R}^n$ soit en réalité proche d'un $x$, vecteur colonne de $X$ et que son label soit également proche. L'idée va être de virtuellement augmenter le nombre d'individus dans $X, y$ en perturbant les individus existants. Plus rigoureusement, créeons $m$ copies de nos vecteurs lignes de $X$ de la manière suivante : $x_{ij}^\\prime=x_i+\\epsilon_{ij}, i=1\\ldots p, j=1\\ldots m$ où le bruit est construit de la manière suivante : $\\epsilon_{ij}\\sim\\mathcal{N}(0, \\frac{\\lambda}{m}I_n)$. Les labels sont quant à eux conservés.\n",
        "\n",
        "Notre nouvelle matrice $\\tilde{X}$ ne contient cette fois-ci QUE les versions perturbées de nos données. On vérifiera qu'on obtient : \n",
        "\n",
        "$$\\sum_i\\sum_j x_{ij}^\\prime {x_{ij}^\\prime}^T=m(X^TX+\\lambda I_n).$$"
      ],
      "id": "protective-match"
    },
    {
      "cell_type": "markdown",
      "metadata": {
        "id": "missing-complement"
      },
      "source": [
        "## III. Ridge et le *dropout*"
      ],
      "id": "missing-complement"
    },
    {
      "cell_type": "markdown",
      "metadata": {
        "id": "celtic-makeup"
      },
      "source": [
        "Comme nous l'avons déjà vu, une manière de faire de la régularisation est ce qu'on appelle le *dropout*. Étudions cela dans le cas de l'apprentissage d'un modèle linéaire. Soit $\\mathcal{X}\\subseteq\\mathbb{R}^d$ et $\\mathcal{Y}\\subseteq\\mathbb{R}$. L'objectif est donc de construire un modèle linéaire de $\\mathcal{X}$ dans $\\mathcal{Y}$ de la forme : $h:x\\mapsto \\langle \\omega, x\\rangle$, $\\omega\\in\\mathbb{R}^d$, qui minimise l'erreur quadratique :\n",
        "\n",
        "$$L(h)=\\mathbb{E}\\big[(Y-h(X))^2\\big],$$\n",
        "\n",
        "qu'on estime via un dataset $S_n$ :\n",
        "\n",
        "$$L_n(h)=\\frac{1}{n}\\sum_i (y_i-h(x_i))^2.$$\n",
        "\n",
        "L'idée du *dropout* au moment de l'optimisation (i.e. de l'apprentissage), est de considérer la fonction $\\phi\\big(\\frac{\\delta\\odot z}{1-p}\\big)$ où $\\delta_i$ est une variable aléatoire qui suit une loi de Bernoulli de paramètre $1-p$ et est échantillonée pour chaque sample à chaque itération de l'optimiseur et $\\odot$ est la multiplication élément par élément. Le paramètre $p$ donne l'importance du *dropout*. À $0$, il n'y a pas de régularisation, proche de $1$ l'apprentissage ne fonctionne pas. Dans le cas d'une opération linéaire le biais n'est généralement pas touché par le *dropout* (tout comme pour la pénalité $\\ell_2$). Nous omettrons ici les considérations relatives à ce dernier. Le facteur $1/(1-p)$ implique que bien que certaines dimensions tombent à $0$ notre vecteur conserve la même norme en espérance. Plus rigoureusement, nous avons :\n",
        "\n",
        "$$\\mathbb{E}\\big[\\delta_j/(1-p)\\big]=1.$$\n",
        "\n",
        "Le *dropout* est bien entendu \"désactivé\" une fois l'apprentissage terminé et le modèle utilisé pour faire des prédictions. Étudions l'espérance du gradient de notre modèle :\n",
        "\n",
        "$$\\mathbb{E}\\Big[\\frac{\\partial L_n(\\omega)}{\\partial \\omega}\\Big]=-X^Ty+X^TX\\beta+\\frac{p}{1-p}D\\beta,$$\n",
        "\n",
        "où on a identifié la fonction $h$ à ses paramètres $\\omega$ et où $D=\\text{diag}(\\lVert x_1\\rVert_2^2, \\ldots, \\lVert x_n\\rVert_2^2)$.\n",
        "\n",
        "En annulant le gradient en espérance, on obtient : \n",
        "\n",
        "$$\\hat{\\beta}=\\big(X^TX+\\frac{p}{1-p}D\\big)^{-1}X^ty$$\n",
        "\n",
        "qui peut être vu comme une version généralisée de Ridge."
      ],
      "id": "celtic-makeup"
    }
  ]
}